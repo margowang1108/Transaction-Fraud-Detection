{
 "cells": [
  {
   "cell_type": "code",
   "execution_count": 55,
   "metadata": {
    "id": "ht6YvQu48ZXq"
   },
   "outputs": [],
   "source": [
    "import pandas as pd\n",
    "import numpy as np"
   ]
  },
  {
   "cell_type": "code",
   "execution_count": 64,
   "metadata": {
    "id": "uvhiJth_8SPU"
   },
   "outputs": [],
   "source": [
    "df = pd.read_csv('card transactions.csv')"
   ]
  },
  {
   "cell_type": "code",
   "execution_count": 65,
   "metadata": {
    "colab": {
     "base_uri": "https://localhost:8080/",
     "height": 206
    },
    "id": "L36viBcm9lmv",
    "outputId": "29211ad1-6c84-41ec-dd0e-6b97508cd621"
   },
   "outputs": [
    {
     "data": {
      "text/html": [
       "<div>\n",
       "<style scoped>\n",
       "    .dataframe tbody tr th:only-of-type {\n",
       "        vertical-align: middle;\n",
       "    }\n",
       "\n",
       "    .dataframe tbody tr th {\n",
       "        vertical-align: top;\n",
       "    }\n",
       "\n",
       "    .dataframe thead th {\n",
       "        text-align: right;\n",
       "    }\n",
       "</style>\n",
       "<table border=\"1\" class=\"dataframe\">\n",
       "  <thead>\n",
       "    <tr style=\"text-align: right;\">\n",
       "      <th></th>\n",
       "      <th>Recnum</th>\n",
       "      <th>Cardnum</th>\n",
       "      <th>Date</th>\n",
       "      <th>Merchnum</th>\n",
       "      <th>Merch description</th>\n",
       "      <th>Merch state</th>\n",
       "      <th>Merch zip</th>\n",
       "      <th>Transtype</th>\n",
       "      <th>Amount</th>\n",
       "      <th>Fraud</th>\n",
       "      <th>Unnamed: 10</th>\n",
       "      <th>Unnamed: 11</th>\n",
       "      <th>Unnamed: 12</th>\n",
       "      <th>Unnamed: 13</th>\n",
       "      <th>Unnamed: 14</th>\n",
       "      <th>Unnamed: 15</th>\n",
       "      <th>Unnamed: 16</th>\n",
       "      <th>Unnamed: 17</th>\n",
       "    </tr>\n",
       "  </thead>\n",
       "  <tbody>\n",
       "    <tr>\n",
       "      <th>0</th>\n",
       "      <td>1</td>\n",
       "      <td>5142190439</td>\n",
       "      <td>1/1/10</td>\n",
       "      <td>5509006296254</td>\n",
       "      <td>FEDEX SHP 12/23/09 AB#</td>\n",
       "      <td>TN</td>\n",
       "      <td>38118.0</td>\n",
       "      <td>P</td>\n",
       "      <td>3.62</td>\n",
       "      <td>0</td>\n",
       "      <td>NaN</td>\n",
       "      <td>NaN</td>\n",
       "      <td>NaN</td>\n",
       "      <td>NaN</td>\n",
       "      <td>NaN</td>\n",
       "      <td>NaN</td>\n",
       "      <td>NaN</td>\n",
       "      <td>NaN</td>\n",
       "    </tr>\n",
       "    <tr>\n",
       "      <th>1</th>\n",
       "      <td>2</td>\n",
       "      <td>5142183973</td>\n",
       "      <td>1/1/10</td>\n",
       "      <td>61003026333</td>\n",
       "      <td>SERVICE MERCHANDISE #81</td>\n",
       "      <td>MA</td>\n",
       "      <td>1803.0</td>\n",
       "      <td>P</td>\n",
       "      <td>31.42</td>\n",
       "      <td>0</td>\n",
       "      <td>NaN</td>\n",
       "      <td>NaN</td>\n",
       "      <td>NaN</td>\n",
       "      <td>NaN</td>\n",
       "      <td>NaN</td>\n",
       "      <td>NaN</td>\n",
       "      <td>NaN</td>\n",
       "      <td>NaN</td>\n",
       "    </tr>\n",
       "    <tr>\n",
       "      <th>2</th>\n",
       "      <td>3</td>\n",
       "      <td>5142131721</td>\n",
       "      <td>1/1/10</td>\n",
       "      <td>4503082993600</td>\n",
       "      <td>OFFICE DEPOT #191</td>\n",
       "      <td>MD</td>\n",
       "      <td>20706.0</td>\n",
       "      <td>P</td>\n",
       "      <td>178.49</td>\n",
       "      <td>0</td>\n",
       "      <td>NaN</td>\n",
       "      <td>NaN</td>\n",
       "      <td>NaN</td>\n",
       "      <td>NaN</td>\n",
       "      <td>NaN</td>\n",
       "      <td>NaN</td>\n",
       "      <td>NaN</td>\n",
       "      <td>NaN</td>\n",
       "    </tr>\n",
       "    <tr>\n",
       "      <th>3</th>\n",
       "      <td>4</td>\n",
       "      <td>5142148452</td>\n",
       "      <td>1/1/10</td>\n",
       "      <td>5509006296254</td>\n",
       "      <td>FEDEX SHP 12/28/09 AB#</td>\n",
       "      <td>TN</td>\n",
       "      <td>38118.0</td>\n",
       "      <td>P</td>\n",
       "      <td>3.62</td>\n",
       "      <td>0</td>\n",
       "      <td>NaN</td>\n",
       "      <td>NaN</td>\n",
       "      <td>NaN</td>\n",
       "      <td>NaN</td>\n",
       "      <td>NaN</td>\n",
       "      <td>NaN</td>\n",
       "      <td>NaN</td>\n",
       "      <td>NaN</td>\n",
       "    </tr>\n",
       "    <tr>\n",
       "      <th>4</th>\n",
       "      <td>5</td>\n",
       "      <td>5142190439</td>\n",
       "      <td>1/1/10</td>\n",
       "      <td>5509006296254</td>\n",
       "      <td>FEDEX SHP 12/23/09 AB#</td>\n",
       "      <td>TN</td>\n",
       "      <td>38118.0</td>\n",
       "      <td>P</td>\n",
       "      <td>3.62</td>\n",
       "      <td>0</td>\n",
       "      <td>NaN</td>\n",
       "      <td>NaN</td>\n",
       "      <td>NaN</td>\n",
       "      <td>NaN</td>\n",
       "      <td>NaN</td>\n",
       "      <td>NaN</td>\n",
       "      <td>NaN</td>\n",
       "      <td>NaN</td>\n",
       "    </tr>\n",
       "  </tbody>\n",
       "</table>\n",
       "</div>"
      ],
      "text/plain": [
       "   Recnum     Cardnum    Date       Merchnum        Merch description  \\\n",
       "0       1  5142190439  1/1/10  5509006296254   FEDEX SHP 12/23/09 AB#   \n",
       "1       2  5142183973  1/1/10    61003026333  SERVICE MERCHANDISE #81   \n",
       "2       3  5142131721  1/1/10  4503082993600        OFFICE DEPOT #191   \n",
       "3       4  5142148452  1/1/10  5509006296254   FEDEX SHP 12/28/09 AB#   \n",
       "4       5  5142190439  1/1/10  5509006296254   FEDEX SHP 12/23/09 AB#   \n",
       "\n",
       "  Merch state  Merch zip Transtype  Amount  Fraud  Unnamed: 10  Unnamed: 11  \\\n",
       "0          TN    38118.0         P    3.62      0          NaN          NaN   \n",
       "1          MA     1803.0         P   31.42      0          NaN          NaN   \n",
       "2          MD    20706.0         P  178.49      0          NaN          NaN   \n",
       "3          TN    38118.0         P    3.62      0          NaN          NaN   \n",
       "4          TN    38118.0         P    3.62      0          NaN          NaN   \n",
       "\n",
       "   Unnamed: 12  Unnamed: 13  Unnamed: 14  Unnamed: 15  Unnamed: 16  \\\n",
       "0          NaN          NaN          NaN          NaN          NaN   \n",
       "1          NaN          NaN          NaN          NaN          NaN   \n",
       "2          NaN          NaN          NaN          NaN          NaN   \n",
       "3          NaN          NaN          NaN          NaN          NaN   \n",
       "4          NaN          NaN          NaN          NaN          NaN   \n",
       "\n",
       "   Unnamed: 17  \n",
       "0          NaN  \n",
       "1          NaN  \n",
       "2          NaN  \n",
       "3          NaN  \n",
       "4          NaN  "
      ]
     },
     "execution_count": 65,
     "metadata": {},
     "output_type": "execute_result"
    }
   ],
   "source": [
    "df.head(5)"
   ]
  },
  {
   "cell_type": "code",
   "execution_count": 66,
   "metadata": {},
   "outputs": [],
   "source": [
    "df.dropna(how='all',axis=1,inplace=True)"
   ]
  },
  {
   "cell_type": "code",
   "execution_count": 67,
   "metadata": {
    "colab": {
     "base_uri": "https://localhost:8080/"
    },
    "id": "98HZPMW4KNkE",
    "outputId": "b76b243e-2a29-4189-bd68-7d8363376c47"
   },
   "outputs": [
    {
     "name": "stdout",
     "output_type": "stream",
     "text": [
      "<class 'pandas.core.frame.DataFrame'>\n",
      "RangeIndex: 96753 entries, 0 to 96752\n",
      "Data columns (total 10 columns):\n",
      " #   Column             Non-Null Count  Dtype  \n",
      "---  ------             --------------  -----  \n",
      " 0   Recnum             96753 non-null  int64  \n",
      " 1   Cardnum            96753 non-null  int64  \n",
      " 2   Date               96753 non-null  object \n",
      " 3   Merchnum           93378 non-null  object \n",
      " 4   Merch description  96753 non-null  object \n",
      " 5   Merch state        95558 non-null  object \n",
      " 6   Merch zip          92097 non-null  float64\n",
      " 7   Transtype          96753 non-null  object \n",
      " 8   Amount             96753 non-null  float64\n",
      " 9   Fraud              96753 non-null  int64  \n",
      "dtypes: float64(2), int64(3), object(5)\n",
      "memory usage: 7.4+ MB\n"
     ]
    }
   ],
   "source": [
    "df.info()"
   ]
  },
  {
   "cell_type": "code",
   "execution_count": 68,
   "metadata": {
    "id": "P46IyRhO_H4r"
   },
   "outputs": [],
   "source": [
    "df['Date'] = pd.to_datetime(df['Date'])\n",
    "#remove all but P type transaction\n",
    "df.drop(df.loc[df['Transtype']!='P'].index,inplace = True)"
   ]
  },
  {
   "cell_type": "code",
   "execution_count": 69,
   "metadata": {
    "colab": {
     "base_uri": "https://localhost:8080/"
    },
    "id": "OshWPhrVNcbc",
    "outputId": "de875e28-868f-4826-b841-fc3f5782cd47"
   },
   "outputs": [
    {
     "data": {
      "text/plain": [
       "52714    3102045.53\n",
       "47339      47900.00\n",
       "59516      30372.46\n",
       "80886      28392.84\n",
       "89673      27218.00\n",
       "Name: Amount, dtype: float64"
      ]
     },
     "execution_count": 69,
     "metadata": {},
     "output_type": "execute_result"
    }
   ],
   "source": [
    "#identify the single outlier in Amount\n",
    "df.Amount.sort_values(ascending = False).head(5)"
   ]
  },
  {
   "cell_type": "code",
   "execution_count": 70,
   "metadata": {
    "id": "1NGREOiRBp7Q"
   },
   "outputs": [],
   "source": [
    "#remove outlier\n",
    "df.drop(df.Amount.idxmax(),inplace = True)"
   ]
  },
  {
   "cell_type": "code",
   "execution_count": 71,
   "metadata": {
    "colab": {
     "base_uri": "https://localhost:8080/"
    },
    "id": "_N7h9j_bNO_X",
    "outputId": "161665a1-67fd-4fee-8b56-2c6d04854db3"
   },
   "outputs": [
    {
     "data": {
      "text/plain": [
       "47339    47900.00\n",
       "59516    30372.46\n",
       "80886    28392.84\n",
       "89673    27218.00\n",
       "1103     26910.00\n",
       "Name: Amount, dtype: float64"
      ]
     },
     "execution_count": 71,
     "metadata": {},
     "output_type": "execute_result"
    }
   ],
   "source": [
    "#check\n",
    "df.Amount.sort_values(ascending = False).head(5)"
   ]
  },
  {
   "cell_type": "code",
   "execution_count": 72,
   "metadata": {
    "colab": {
     "base_uri": "https://localhost:8080/"
    },
    "id": "IG-tg3ZRJ0d6",
    "outputId": "85583af8-56c1-4446-afd9-bc08c0000934"
   },
   "outputs": [
    {
     "data": {
      "text/plain": [
       "array(['P'], dtype=object)"
      ]
     },
     "execution_count": 72,
     "metadata": {},
     "output_type": "execute_result"
    }
   ],
   "source": [
    "d#sanity check\n",
    "df.Transtype.unique()"
   ]
  },
  {
   "cell_type": "markdown",
   "metadata": {
    "id": "UhmhfIMuELme"
   },
   "source": [
    "# Data Cleaning"
   ]
  },
  {
   "cell_type": "markdown",
   "metadata": {
    "id": "yRnapTElES4q"
   },
   "source": [
    " **Missing Values** "
   ]
  },
  {
   "cell_type": "code",
   "execution_count": 73,
   "metadata": {
    "colab": {
     "base_uri": "https://localhost:8080/"
    },
    "id": "G-bKZERQEKH1",
    "outputId": "5ff21025-f1e3-44d4-e7b4-b610d1e8d7e7"
   },
   "outputs": [
    {
     "data": {
      "text/plain": [
       "Recnum                  0\n",
       "Cardnum                 0\n",
       "Date                    0\n",
       "Merchnum             3198\n",
       "Merch description       0\n",
       "Merch state          1020\n",
       "Merch zip            4300\n",
       "Transtype               0\n",
       "Amount                  0\n",
       "Fraud                   0\n",
       "dtype: int64"
      ]
     },
     "execution_count": 73,
     "metadata": {},
     "output_type": "execute_result"
    }
   ],
   "source": [
    "df.isna().sum()"
   ]
  },
  {
   "cell_type": "markdown",
   "metadata": {
    "id": "Le3IZ-nNNsAn"
   },
   "source": [
    "* Merchnum"
   ]
  },
  {
   "cell_type": "code",
   "execution_count": 74,
   "metadata": {
    "id": "UTx2lGqOF8Yv"
   },
   "outputs": [],
   "source": [
    "#replace zeros with nan\n",
    "df['Merchnum'] = df['Merchnum'].replace({'0':np.nan})"
   ]
  },
  {
   "cell_type": "code",
   "execution_count": 75,
   "metadata": {
    "colab": {
     "base_uri": "https://localhost:8080/"
    },
    "id": "2jSD4g3MsKPt",
    "outputId": "343ed292-4fc7-4c2f-bb42-44dd6c1beacd"
   },
   "outputs": [
    {
     "data": {
      "text/plain": [
       "1602"
      ]
     },
     "execution_count": 75,
     "metadata": {},
     "output_type": "execute_result"
    }
   ],
   "source": [
    "#check if each merch description only has one corresponding merchnum\n",
    "group = df.groupby(['Merch description']).Merchnum.nunique()\n",
    "(group != 1).sum()"
   ]
  },
  {
   "cell_type": "code",
   "execution_count": 76,
   "metadata": {
    "id": "ImGPhUNTxNAX"
   },
   "outputs": [],
   "source": [
    "#create dictionary to store each merch description with corresponding merchnum\n",
    "merch_merchnum = {}\n",
    "for index, merch in df.loc[df['Merch description'].notnull() & df['Merchnum'].notnull(), 'Merch description'].items():\n",
    "    if merch in merch_merchnum:\n",
    "        merch_merchnum[merch].append(df.loc[index, 'Merchnum'])\n",
    "    else:\n",
    "        merch_merchnum[merch] = [df.loc[index, 'Merchnum']]\n",
    "\n"
   ]
  },
  {
   "cell_type": "code",
   "execution_count": 77,
   "metadata": {
    "id": "Twx5JeInznbH"
   },
   "outputs": [],
   "source": [
    "#impute each merch description with the mode of corresponding merchnum\n",
    "import statistics\n",
    "\n",
    "for merch in merch_merchnum:\n",
    "  merch_merchnum[merch] = statistics.mode(merch_merchnum[merch])"
   ]
  },
  {
   "cell_type": "code",
   "execution_count": 78,
   "metadata": {
    "colab": {
     "base_uri": "https://localhost:8080/"
    },
    "id": "dq_-cV0kF8Jr",
    "outputId": "e8c3d71d-57eb-41e8-9d3a-442f670a9165"
   },
   "outputs": [
    {
     "data": {
      "text/plain": [
       "[('FEDEX SHP 12/23/09 AB#', '5509006296254'),\n",
       " ('SERVICE MERCHANDISE #81', '61003026333'),\n",
       " ('OFFICE DEPOT #191', '4503082993600'),\n",
       " ('FEDEX SHP 12/28/09 AB#', '5509006296254'),\n",
       " ('FEDEX SHP 12/22/09 AB#', '5509006296254')]"
      ]
     },
     "execution_count": 78,
     "metadata": {},
     "output_type": "execute_result"
    }
   ],
   "source": [
    "#display first 5\n",
    "list(merch_merchnum.items())[:5]\n",
    "  "
   ]
  },
  {
   "cell_type": "code",
   "execution_count": 79,
   "metadata": {
    "id": "HgXPTA2hlPI4"
   },
   "outputs": [],
   "source": [
    "#fill the merchnum with value of records share the same merch descriptions\n",
    "df['Merchnum'] = df['Merchnum'].fillna(df['Merch description'].map(merch_merchnum))"
   ]
  },
  {
   "cell_type": "code",
   "execution_count": 80,
   "metadata": {
    "colab": {
     "base_uri": "https://localhost:8080/"
    },
    "id": "Y8D5kQEJl2me",
    "outputId": "50233384-b980-4e7e-a667-6f340b2ca381"
   },
   "outputs": [
    {
     "data": {
      "text/plain": [
       "2094"
      ]
     },
     "execution_count": 80,
     "metadata": {},
     "output_type": "execute_result"
    }
   ],
   "source": [
    "df['Merchnum'].isna().sum()"
   ]
  },
  {
   "cell_type": "code",
   "execution_count": 81,
   "metadata": {
    "id": "HIMQZl5znJ2p"
   },
   "outputs": [],
   "source": [
    "#convert adjustment transactions with unknown \n",
    "df.loc[df['Merch description'].str.contains('ADJUSTMENT'), 'Merchnum'] = 'unknown'"
   ]
  },
  {
   "cell_type": "code",
   "execution_count": 82,
   "metadata": {
    "colab": {
     "base_uri": "https://localhost:8080/"
    },
    "id": "G7eExtxRpYpM",
    "outputId": "bc2366f6-441e-4cbc-b406-b6b74f69ed3f"
   },
   "outputs": [
    {
     "data": {
      "text/plain": [
       "504"
      ]
     },
     "execution_count": 82,
     "metadata": {},
     "output_type": "execute_result"
    }
   ],
   "source": [
    "df.loc[df['Merchnum'].isna(),'Merch description'].nunique()"
   ]
  },
  {
   "cell_type": "code",
   "execution_count": 83,
   "metadata": {
    "id": "1DGGF_QcpqGR"
   },
   "outputs": [],
   "source": [
    "create_merchnum = {}\n",
    "n = 1\n",
    "for index,merch in df.loc[df['Merchnum'].isna(),'Merch description'].items():\n",
    "  if merch not in create_merchnum:\n",
    "    create_merchnum[merch] = n+ max(pd.to_numeric(df['Merchnum'],errors = 'coerce'))\n",
    "    n+=1\n",
    "\n"
   ]
  },
  {
   "cell_type": "code",
   "execution_count": 84,
   "metadata": {
    "id": "vRHzpiAopwWS"
   },
   "outputs": [],
   "source": [
    "df['Merchnum'] = df['Merchnum'].fillna(df['Merch description'].map(create_merchnum))"
   ]
  },
  {
   "cell_type": "code",
   "execution_count": 85,
   "metadata": {
    "colab": {
     "base_uri": "https://localhost:8080/"
    },
    "id": "eZd0JpUgsKiW",
    "outputId": "b6bcaa9d-9160-4b84-db3a-13ee92402373"
   },
   "outputs": [
    {
     "data": {
      "text/plain": [
       "0"
      ]
     },
     "execution_count": 85,
     "metadata": {},
     "output_type": "execute_result"
    }
   ],
   "source": [
    "df['Merchnum'].isna().sum()"
   ]
  },
  {
   "cell_type": "markdown",
   "metadata": {
    "id": "2iQpX0wJqm-r"
   },
   "source": [
    "* Merch state"
   ]
  },
  {
   "cell_type": "code",
   "execution_count": 86,
   "metadata": {
    "colab": {
     "base_uri": "https://localhost:8080/"
    },
    "id": "eE20WCFv0oPW",
    "outputId": "b6129b2a-ae91-4a83-fdd9-f810677b21e4"
   },
   "outputs": [
    {
     "data": {
      "text/plain": [
       "1020"
      ]
     },
     "execution_count": 86,
     "metadata": {},
     "output_type": "execute_result"
    }
   ],
   "source": [
    "df['Merch state'].isna().sum()"
   ]
  },
  {
   "cell_type": "code",
   "execution_count": 87,
   "metadata": {
    "colab": {
     "base_uri": "https://localhost:8080/"
    },
    "id": "WboE1I4XBu7f",
    "outputId": "f0e7db74-c504-4802-f241-4c42608c0001"
   },
   "outputs": [
    {
     "data": {
      "text/plain": [
       "4300"
      ]
     },
     "execution_count": 87,
     "metadata": {},
     "output_type": "execute_result"
    }
   ],
   "source": [
    "#transfer the zipcode to standard format\n",
    "df['Merch zip'] = df['Merch zip'].astype('str')\n",
    "df.loc[df['Merch zip'].str.contains('nan'), 'Merch zip'] = None\n",
    "df['Merch zip'] = df['Merch zip'].apply(lambda x: x[:-2] if pd.notnull(x) else x)\n",
    "df['Merch zip'].isna().sum()"
   ]
  },
  {
   "cell_type": "code",
   "execution_count": 88,
   "metadata": {
    "id": "pd_QwMPPCXmH"
   },
   "outputs": [],
   "source": [
    "us_zip = pd.read_csv('uszips.csv')"
   ]
  },
  {
   "cell_type": "code",
   "execution_count": 89,
   "metadata": {
    "colab": {
     "base_uri": "https://localhost:8080/",
     "height": 374
    },
    "id": "XdmhPbInEUv6",
    "outputId": "a22832a1-24cf-4331-822e-359c87717ecb"
   },
   "outputs": [
    {
     "data": {
      "text/html": [
       "<div>\n",
       "<style scoped>\n",
       "    .dataframe tbody tr th:only-of-type {\n",
       "        vertical-align: middle;\n",
       "    }\n",
       "\n",
       "    .dataframe tbody tr th {\n",
       "        vertical-align: top;\n",
       "    }\n",
       "\n",
       "    .dataframe thead th {\n",
       "        text-align: right;\n",
       "    }\n",
       "</style>\n",
       "<table border=\"1\" class=\"dataframe\">\n",
       "  <thead>\n",
       "    <tr style=\"text-align: right;\">\n",
       "      <th></th>\n",
       "      <th>zip</th>\n",
       "      <th>lat</th>\n",
       "      <th>lng</th>\n",
       "      <th>city</th>\n",
       "      <th>state_id</th>\n",
       "      <th>state_name</th>\n",
       "      <th>zcta</th>\n",
       "      <th>parent_zcta</th>\n",
       "      <th>population</th>\n",
       "      <th>density</th>\n",
       "      <th>county_fips</th>\n",
       "      <th>county_name</th>\n",
       "      <th>county_weights</th>\n",
       "      <th>county_names_all</th>\n",
       "      <th>county_fips_all</th>\n",
       "      <th>imprecise</th>\n",
       "      <th>military</th>\n",
       "      <th>timezone</th>\n",
       "    </tr>\n",
       "  </thead>\n",
       "  <tbody>\n",
       "    <tr>\n",
       "      <th>0</th>\n",
       "      <td>601</td>\n",
       "      <td>18.18027</td>\n",
       "      <td>-66.75266</td>\n",
       "      <td>Adjuntas</td>\n",
       "      <td>PR</td>\n",
       "      <td>Puerto Rico</td>\n",
       "      <td>True</td>\n",
       "      <td>NaN</td>\n",
       "      <td>17126.0</td>\n",
       "      <td>102.6</td>\n",
       "      <td>72001</td>\n",
       "      <td>Adjuntas</td>\n",
       "      <td>{\"72001\": 98.73, \"72141\": 1.27}</td>\n",
       "      <td>Adjuntas|Utuado</td>\n",
       "      <td>72001|72141</td>\n",
       "      <td>False</td>\n",
       "      <td>False</td>\n",
       "      <td>America/Puerto_Rico</td>\n",
       "    </tr>\n",
       "    <tr>\n",
       "      <th>1</th>\n",
       "      <td>602</td>\n",
       "      <td>18.36075</td>\n",
       "      <td>-67.17541</td>\n",
       "      <td>Aguada</td>\n",
       "      <td>PR</td>\n",
       "      <td>Puerto Rico</td>\n",
       "      <td>True</td>\n",
       "      <td>NaN</td>\n",
       "      <td>37895.0</td>\n",
       "      <td>482.5</td>\n",
       "      <td>72003</td>\n",
       "      <td>Aguada</td>\n",
       "      <td>{\"72003\": 100}</td>\n",
       "      <td>Aguada</td>\n",
       "      <td>72003</td>\n",
       "      <td>False</td>\n",
       "      <td>False</td>\n",
       "      <td>America/Puerto_Rico</td>\n",
       "    </tr>\n",
       "    <tr>\n",
       "      <th>2</th>\n",
       "      <td>603</td>\n",
       "      <td>18.45744</td>\n",
       "      <td>-67.12225</td>\n",
       "      <td>Aguadilla</td>\n",
       "      <td>PR</td>\n",
       "      <td>Puerto Rico</td>\n",
       "      <td>True</td>\n",
       "      <td>NaN</td>\n",
       "      <td>49136.0</td>\n",
       "      <td>552.4</td>\n",
       "      <td>72005</td>\n",
       "      <td>Aguadilla</td>\n",
       "      <td>{\"72005\": 99.76, \"72099\": 0.24}</td>\n",
       "      <td>Aguadilla|Moca</td>\n",
       "      <td>72005|72099</td>\n",
       "      <td>False</td>\n",
       "      <td>False</td>\n",
       "      <td>America/Puerto_Rico</td>\n",
       "    </tr>\n",
       "    <tr>\n",
       "      <th>3</th>\n",
       "      <td>606</td>\n",
       "      <td>18.16585</td>\n",
       "      <td>-66.93716</td>\n",
       "      <td>Maricao</td>\n",
       "      <td>PR</td>\n",
       "      <td>Puerto Rico</td>\n",
       "      <td>True</td>\n",
       "      <td>NaN</td>\n",
       "      <td>5751.0</td>\n",
       "      <td>50.1</td>\n",
       "      <td>72093</td>\n",
       "      <td>Maricao</td>\n",
       "      <td>{\"72093\": 82.26, \"72153\": 11.68, \"72121\": 6.06}</td>\n",
       "      <td>Maricao|Yauco|Sabana Grande</td>\n",
       "      <td>72093|72153|72121</td>\n",
       "      <td>False</td>\n",
       "      <td>False</td>\n",
       "      <td>America/Puerto_Rico</td>\n",
       "    </tr>\n",
       "    <tr>\n",
       "      <th>4</th>\n",
       "      <td>610</td>\n",
       "      <td>18.29110</td>\n",
       "      <td>-67.12243</td>\n",
       "      <td>Anasco</td>\n",
       "      <td>PR</td>\n",
       "      <td>Puerto Rico</td>\n",
       "      <td>True</td>\n",
       "      <td>NaN</td>\n",
       "      <td>26153.0</td>\n",
       "      <td>272.1</td>\n",
       "      <td>72011</td>\n",
       "      <td>Añasco</td>\n",
       "      <td>{\"72011\": 96.71, \"72099\": 2.81, \"72083\": 0.37,...</td>\n",
       "      <td>Añasco|Moca|Las Marías|Aguada</td>\n",
       "      <td>72011|72099|72083|72003</td>\n",
       "      <td>False</td>\n",
       "      <td>False</td>\n",
       "      <td>America/Puerto_Rico</td>\n",
       "    </tr>\n",
       "  </tbody>\n",
       "</table>\n",
       "</div>"
      ],
      "text/plain": [
       "   zip       lat       lng       city state_id   state_name  zcta  \\\n",
       "0  601  18.18027 -66.75266   Adjuntas       PR  Puerto Rico  True   \n",
       "1  602  18.36075 -67.17541     Aguada       PR  Puerto Rico  True   \n",
       "2  603  18.45744 -67.12225  Aguadilla       PR  Puerto Rico  True   \n",
       "3  606  18.16585 -66.93716    Maricao       PR  Puerto Rico  True   \n",
       "4  610  18.29110 -67.12243     Anasco       PR  Puerto Rico  True   \n",
       "\n",
       "   parent_zcta  population  density  county_fips county_name  \\\n",
       "0          NaN     17126.0    102.6        72001    Adjuntas   \n",
       "1          NaN     37895.0    482.5        72003      Aguada   \n",
       "2          NaN     49136.0    552.4        72005   Aguadilla   \n",
       "3          NaN      5751.0     50.1        72093     Maricao   \n",
       "4          NaN     26153.0    272.1        72011      Añasco   \n",
       "\n",
       "                                      county_weights  \\\n",
       "0                    {\"72001\": 98.73, \"72141\": 1.27}   \n",
       "1                                     {\"72003\": 100}   \n",
       "2                    {\"72005\": 99.76, \"72099\": 0.24}   \n",
       "3    {\"72093\": 82.26, \"72153\": 11.68, \"72121\": 6.06}   \n",
       "4  {\"72011\": 96.71, \"72099\": 2.81, \"72083\": 0.37,...   \n",
       "\n",
       "                county_names_all          county_fips_all  imprecise  \\\n",
       "0                Adjuntas|Utuado              72001|72141      False   \n",
       "1                         Aguada                    72003      False   \n",
       "2                 Aguadilla|Moca              72005|72099      False   \n",
       "3    Maricao|Yauco|Sabana Grande        72093|72153|72121      False   \n",
       "4  Añasco|Moca|Las Marías|Aguada  72011|72099|72083|72003      False   \n",
       "\n",
       "   military             timezone  \n",
       "0     False  America/Puerto_Rico  \n",
       "1     False  America/Puerto_Rico  \n",
       "2     False  America/Puerto_Rico  \n",
       "3     False  America/Puerto_Rico  \n",
       "4     False  America/Puerto_Rico  "
      ]
     },
     "execution_count": 89,
     "metadata": {},
     "output_type": "execute_result"
    }
   ],
   "source": [
    "us_zip.head(5)"
   ]
  },
  {
   "cell_type": "code",
   "execution_count": 90,
   "metadata": {
    "id": "HBs3xLBqDzX8"
   },
   "outputs": [],
   "source": [
    "us_zip['zip'] = us_zip['zip'].astype('str')\n",
    "us_zip = us_zip[['zip','state_id']]\n",
    "us_zip.set_index('zip',inplace= True)\n",
    "us_zip = us_zip['state_id'].to_dict()"
   ]
  },
  {
   "cell_type": "code",
   "execution_count": 91,
   "metadata": {
    "colab": {
     "base_uri": "https://localhost:8080/"
    },
    "id": "VpR9PPYgFoY3",
    "outputId": "6f642319-6deb-44b9-9d47-8c1d8bee899a"
   },
   "outputs": [
    {
     "data": {
      "text/plain": [
       "980"
      ]
     },
     "execution_count": 91,
     "metadata": {},
     "output_type": "execute_result"
    }
   ],
   "source": [
    "#impute the missing state with corresponding zipcode within U.S\n",
    "df['Merch state'].fillna(df['Merch zip'].map(us_zip),inplace = True)\n",
    "df['Merch state'].isna().sum()"
   ]
  },
  {
   "cell_type": "code",
   "execution_count": 92,
   "metadata": {
    "id": "XTvQEAsjJj2C"
   },
   "outputs": [],
   "source": [
    "#create dictionary with merch description to corresponding state name\n",
    "merch_state = {}\n",
    "for index, merch in df.loc[df['Merch description'].notnull() & df['Merch state'].notnull(), 'Merch description'].items():\n",
    "    if merch in merch_state:\n",
    "        merch_state[merch].append(df.loc[index, 'Merch state'])\n",
    "    else:\n",
    "        merch_state[merch] = [df.loc[index, 'Merch state']]\n",
    "\n",
    "#impute each merch description with the mode of corresponding mech description\n",
    "\n",
    "for merch in merch_state:\n",
    "  merch_state[merch] = statistics.mode(merch_state[merch])"
   ]
  },
  {
   "cell_type": "code",
   "execution_count": 93,
   "metadata": {
    "colab": {
     "base_uri": "https://localhost:8080/"
    },
    "id": "LrqsTTYTMf3-",
    "outputId": "9ce5e248-cb6e-4724-882d-3b45cc0db762"
   },
   "outputs": [
    {
     "data": {
      "text/plain": [
       "323"
      ]
     },
     "execution_count": 93,
     "metadata": {},
     "output_type": "execute_result"
    }
   ],
   "source": [
    "#impute the missing state with corresponding merch description\n",
    "df['Merch state'].fillna(df['Merch description'].map(merch_state),inplace = True)\n",
    "df['Merch state'].isna().sum()"
   ]
  },
  {
   "cell_type": "code",
   "execution_count": 94,
   "metadata": {
    "id": "9f-kefRANDa5"
   },
   "outputs": [],
   "source": [
    "#create dictionary with merchnum to corresponding state name\n",
    "merchnum_state = {}\n",
    "for index, merch in df.loc[df['Merch state'].notnull(), 'Merchnum'].items():\n",
    "    if merch in merchnum_state:\n",
    "        merchnum_state[merch].append(df.loc[index, 'Merch state'])\n",
    "    else:\n",
    "        merchnum_state[merch] = [df.loc[index, 'Merch state']]\n",
    "\n",
    "#impute each merch description with the mode of corresponding merchnum\n",
    "\n",
    "for merch in merchnum_state:\n",
    "  merchnum_state[merch] = statistics.mode(merchnum_state[merch])"
   ]
  },
  {
   "cell_type": "code",
   "execution_count": 95,
   "metadata": {
    "colab": {
     "base_uri": "https://localhost:8080/"
    },
    "id": "Wgqe-3PYNZiF",
    "outputId": "6ca35cb1-01dd-46eb-d7a4-2adea98bceac"
   },
   "outputs": [
    {
     "data": {
      "text/plain": [
       "316"
      ]
     },
     "execution_count": 95,
     "metadata": {},
     "output_type": "execute_result"
    }
   ],
   "source": [
    "#impute impute the missing state with corresponding merchnum\n",
    "df['Merch state'].fillna(df['Merchnum'].map(merchnum_state),inplace = True)\n",
    "df['Merch state'].isna().sum()"
   ]
  },
  {
   "cell_type": "code",
   "execution_count": 96,
   "metadata": {
    "colab": {
     "base_uri": "https://localhost:8080/"
    },
    "id": "f8U8Sv42eN9o",
    "outputId": "3193dc26-df7b-48e8-8235-84db00a08a98"
   },
   "outputs": [
    {
     "data": {
      "text/plain": [
       "270"
      ]
     },
     "execution_count": 96,
     "metadata": {},
     "output_type": "execute_result"
    }
   ],
   "source": [
    "#set all the state name as foreign unknown for all the exsting zipcode that doesnt in US\n",
    "for index,zip in df.loc[df['Merch state'].isnull(),'Merch zip'].items():\n",
    "  if pd.notnull(zip):\n",
    "    if zip not in us_zip.keys():\n",
    "      df.loc[index,'Merch state'] = 'Foreign unknown'\n",
    "df['Merch state'].isna().sum()"
   ]
  },
  {
   "cell_type": "code",
   "execution_count": 97,
   "metadata": {
    "id": "I_vCIY1SemP3"
   },
   "outputs": [],
   "source": [
    "#assign unknown state name to adjustment transaction\n",
    "df.loc[df['Merch description'].str.contains('ADJUSTMENT'), 'Merch state'] = 'unknown'"
   ]
  },
  {
   "cell_type": "code",
   "execution_count": 98,
   "metadata": {
    "id": "bvDL6rUpj0vg"
   },
   "outputs": [],
   "source": [
    "#fill the rest of merch state with unknowns\n",
    "df['Merch state'].fillna('unknown',inplace = True)"
   ]
  },
  {
   "cell_type": "code",
   "execution_count": 99,
   "metadata": {
    "colab": {
     "base_uri": "https://localhost:8080/"
    },
    "id": "iUR9IkzVkO9J",
    "outputId": "deab3de0-a2de-405c-d16b-132b2138c24d"
   },
   "outputs": [
    {
     "data": {
      "text/plain": [
       "0"
      ]
     },
     "execution_count": 99,
     "metadata": {},
     "output_type": "execute_result"
    }
   ],
   "source": [
    "df['Merch state'].isna().sum()"
   ]
  },
  {
   "cell_type": "markdown",
   "metadata": {
    "id": "yMJGIfOAkS2b"
   },
   "source": [
    "* Merch Zip"
   ]
  },
  {
   "cell_type": "code",
   "execution_count": 100,
   "metadata": {
    "colab": {
     "base_uri": "https://localhost:8080/"
    },
    "id": "9pRliYjglCg7",
    "outputId": "58abc093-2ba6-490e-c868-2340b6f4ea4c"
   },
   "outputs": [
    {
     "data": {
      "text/plain": [
       "4300"
      ]
     },
     "execution_count": 100,
     "metadata": {},
     "output_type": "execute_result"
    }
   ],
   "source": [
    "df['Merch zip'].isna().sum()"
   ]
  },
  {
   "cell_type": "code",
   "execution_count": 101,
   "metadata": {
    "id": "_MCiv0iArXh8"
   },
   "outputs": [],
   "source": [
    "#create dictionary with merchnum corresponding merch zip\n",
    "merchnum_zip = {}\n",
    "for index, merch in df.loc[df['Merch zip'].notnull(), 'Merchnum'].items():\n",
    "    if merch in merchnum_zip:\n",
    "        merchnum_zip[merch].append(df.loc[index, 'Merch zip'])\n",
    "    else:\n",
    "       merchnum_zip[merch] = [df.loc[index, 'Merch zip']]\n",
    "\n",
    "#impute each merch description with the mode of corresponding merchnum\n",
    "\n",
    "for merch in merchnum_zip:\n",
    "  merchnum_zip[merch] = statistics.mode(merchnum_zip[merch])"
   ]
  },
  {
   "cell_type": "code",
   "execution_count": 102,
   "metadata": {
    "id": "SpA1Az-wrsSX"
   },
   "outputs": [],
   "source": [
    "#create dictionary with merch description corresponding merch zip\n",
    "merch_zip = {}\n",
    "for index, merch in df.loc[df['Merch zip'].notnull(), 'Merch description'].items():\n",
    "    if merch in merch_zip:\n",
    "        merch_zip[merch].append(df.loc[index, 'Merch zip'])\n",
    "    else:\n",
    "       merch_zip[merch] = [df.loc[index, 'Merch zip']]\n",
    "\n",
    "#impute each merch zip with the mode of corresponding merch description\n",
    "\n",
    "for merch in merch_zip:\n",
    "  merch_zip[merch] = statistics.mode(merch_zip[merch])"
   ]
  },
  {
   "cell_type": "code",
   "execution_count": 103,
   "metadata": {
    "id": "EaVggXw-lJdj"
   },
   "outputs": [],
   "source": [
    "#create dictionary with state name corresponding merch zip\n",
    "state_zip = {}\n",
    "for index, merch in df.loc[df['Merch zip'].notnull(), 'Merch state'].items():\n",
    "    if merch in state_zip:\n",
    "        state_zip[merch].append(df.loc[index, 'Merch zip'])\n",
    "    else:\n",
    "        state_zip[merch] = [df.loc[index, 'Merch zip']]\n",
    "\n",
    "#impute each merch description with the mode of corresponding merch state\n",
    "\n",
    "for merch in state_zip:\n",
    "  state_zip[merch] = statistics.mode(state_zip[merch])"
   ]
  },
  {
   "cell_type": "code",
   "execution_count": 104,
   "metadata": {
    "colab": {
     "base_uri": "https://localhost:8080/"
    },
    "id": "mLUPR9oYqLI-",
    "outputId": "46d26b51-98f2-4179-e4ec-7fc68d0799f0"
   },
   "outputs": [
    {
     "data": {
      "text/plain": [
       "185"
      ]
     },
     "execution_count": 104,
     "metadata": {},
     "output_type": "execute_result"
    }
   ],
   "source": [
    "#impute zipcode with mode of corresponding merhnum, merch description, and merch state\n",
    "df['Merch zip'].fillna(df['Merchnum'].map(merchnum_zip),inplace = True)\n",
    "df['Merch zip'].fillna(df['Merch description'].map(merch_zip),inplace = True)\n",
    "df['Merch zip'].fillna(df['Merch state'].map(state_zip),inplace = True)\n",
    "df['Merch zip'].isna().sum()"
   ]
  },
  {
   "cell_type": "code",
   "execution_count": 105,
   "metadata": {
    "id": "V1MkQFE2sjSy"
   },
   "outputs": [],
   "source": [
    " #assign unknown to adjustment transaction\n",
    "df.loc[df['Merch description'].str.contains('ADJUSTMENT'), 'Merch zip'] = 'unknown'"
   ]
  },
  {
   "cell_type": "code",
   "execution_count": 106,
   "metadata": {
    "colab": {
     "base_uri": "https://localhost:8080/"
    },
    "id": "weHG2u-wrPkh",
    "outputId": "d5cfec7d-14f7-498f-b89d-ac15b8dea04d"
   },
   "outputs": [
    {
     "data": {
      "text/plain": [
       "0"
      ]
     },
     "execution_count": 106,
     "metadata": {},
     "output_type": "execute_result"
    }
   ],
   "source": [
    "df['Merch zip'].fillna('unknown',inplace = True)\n",
    "df['Merch zip'].isna().sum()"
   ]
  },
  {
   "cell_type": "code",
   "execution_count": 107,
   "metadata": {
    "id": "GGl-OVgZqV4X"
   },
   "outputs": [],
   "source": [
    "#right alignment\n",
    "df['Merch zip']=df['Merch zip'].apply(lambda x:'{0:0>5}'.format(x))"
   ]
  },
  {
   "cell_type": "markdown",
   "metadata": {
    "id": "JwW6DBXLtVLe"
   },
   "source": [
    "# Create Variables"
   ]
  },
  {
   "cell_type": "code",
   "execution_count": 53,
   "metadata": {
    "colab": {
     "base_uri": "https://localhost:8080/"
    },
    "id": "k0438fTyWPgv",
    "outputId": "5408c4c4-9a6a-429e-dc7a-7ea8b217ebed"
   },
   "outputs": [
    {
     "data": {
      "text/plain": [
       "(96396, 10)"
      ]
     },
     "execution_count": 53,
     "metadata": {},
     "output_type": "execute_result"
    }
   ],
   "source": [
    "final=df.copy()\n",
    "df['check_date']=df.Date\n",
    "df['check_record']=df.Recnum\n",
    "numvars = 1\n",
    "final.shape"
   ]
  },
  {
   "cell_type": "markdown",
   "metadata": {
    "id": "IYAKI1OjY9EL"
   },
   "source": [
    "* **Risk Table Variable**"
   ]
  },
  {
   "cell_type": "code",
   "execution_count": 54,
   "metadata": {
    "colab": {
     "base_uri": "https://localhost:8080/"
    },
    "id": "YMWAKUPlWPed",
    "outputId": "1bd7f739-94d7-4235-cea3-9b64df711072"
   },
   "outputs": [
    {
     "data": {
      "text/plain": [
       "Dow\n",
       "Friday       0.025994\n",
       "Monday       0.008610\n",
       "Saturday     0.010095\n",
       "Sunday       0.009630\n",
       "Thursday     0.018626\n",
       "Tuesday      0.007127\n",
       "Wednesday    0.009788\n",
       "dtype: float64"
      ]
     },
     "execution_count": 54,
     "metadata": {},
     "output_type": "execute_result"
    }
   ],
   "source": [
    "import calendar\n",
    "#likelihood of fraud for that day of the week\n",
    "df['Dow'] = df.Date.apply(lambda x: calendar.day_name[x.weekday()])\n",
    "#exclude OOT\n",
    "train_test = df[df.Date <= '2010-11-01']\n",
    "c=4\n",
    "nmid=20\n",
    "y_avg = train_test['Fraud'].mean()\n",
    "y_dow = train_test.groupby('Dow')['Fraud'].mean()\n",
    "num = train_test.groupby('Dow').size()\n",
    "y_dow_smooth = y_avg + (y_dow - y_avg)/(1+np.exp(-(num-nmid)/c))\n",
    "df['Dow_Risk'] = df.Dow.map(y_dow_smooth)\n",
    "\n",
    "numvars += 1\n",
    "\n",
    "y_dow_smooth"
   ]
  },
  {
   "cell_type": "code",
   "execution_count": 55,
   "metadata": {
    "colab": {
     "base_uri": "https://localhost:8080/",
     "height": 299
    },
    "id": "cNQ8xeYhWPbw",
    "outputId": "0321cb80-5a25-43f5-c06d-61ab8e22bc8d"
   },
   "outputs": [
    {
     "data": {
      "image/png": "[encoded data removed]",
      "text/plain": [
       "<Figure size 640x480 with 1 Axes>"
      ]
     },
     "metadata": {},
     "output_type": "display_data"
    }
   ],
   "source": [
    "import matplotlib.pyplot as plt\n",
    "plt.style.use('ggplot')\n",
    "plt.bar(y_dow_smooth.index, y_dow_smooth)\n",
    "plt.xlabel('Day of the Week')\n",
    "plt.ylabel('Risk Variable')\n",
    "plt.title('Risk Variable by Day of the Week')\n",
    "plt.show()\n"
   ]
  },
  {
   "cell_type": "markdown",
   "metadata": {
    "id": "dnDUBzcwWPYE"
   },
   "source": [
    "* **Foreign Tag**"
   ]
  },
  {
   "cell_type": "code",
   "execution_count": 58,
   "metadata": {},
   "outputs": [
    {
     "data": {
      "text/plain": [
       "0    92952\n",
       "1     3444\n",
       "Name: Foriegn tag, dtype: int64"
      ]
     },
     "execution_count": 58,
     "metadata": {},
     "output_type": "execute_result"
    }
   ],
   "source": [
    "us_state_abbrev = {\n",
    "    'Alabama': 'AL',\n",
    "    'Alaska': 'AK',\n",
    "    'Arizona': 'AZ',\n",
    "    'Arkansas': 'AR',\n",
    "    'California': 'CA',\n",
    "    'Colorado': 'CO',\n",
    "    'Connecticut': 'CT',\n",
    "    'Delaware': 'DE',\n",
    "    'Florida': 'FL',\n",
    "    'Georgia': 'GA',\n",
    "    'Hawaii': 'HI',\n",
    "    'Idaho': 'ID',\n",
    "    'Illinois': 'IL',\n",
    "    'Indiana': 'IN',\n",
    "    'Iowa': 'IA',\n",
    "    'Kansas': 'KS',\n",
    "    'Kentucky': 'KY',\n",
    "    'Louisiana': 'LA',\n",
    "    'Maine': 'ME',\n",
    "    'Maryland': 'MD',\n",
    "    'Massachusetts': 'MA',\n",
    "    'Michigan': 'MI',\n",
    "    'Minnesota': 'MN',\n",
    "    'Mississippi': 'MS',\n",
    "    'Missouri': 'MO',\n",
    "    'Montana': 'MT',\n",
    "    'Nebraska': 'NE',\n",
    "    'Nevada': 'NV',\n",
    "    'New Hampshire': 'NH',\n",
    "    'New Jersey': 'NJ',\n",
    "    'New Mexico': 'NM',\n",
    "    'New York': 'NY',\n",
    "    'North Carolina': 'NC',\n",
    "    'North Dakota': 'ND',\n",
    "    'Ohio': 'OH',\n",
    "    'Oklahoma': 'OK',\n",
    "    'Oregon': 'OR',\n",
    "    'Pennsylvania': 'PA',\n",
    "    'Rhode Island': 'RI',\n",
    "    'South Carolina': 'SC',\n",
    "    'South Dakota': 'SD',\n",
    "    'Tennessee': 'TN',\n",
    "    'Texas': 'TX',\n",
    "    'Utah': 'UT',\n",
    "    'Vermont': 'VT',\n",
    "    'Virginia': 'VA',\n",
    "    'Washington': 'WA',\n",
    "    'West Virginia': 'WV',\n",
    "    'Wisconsin': 'WI',\n",
    "    'Wyoming': 'WY'\n",
    "}\n",
    "\n",
    "us_state_abbrev_list = list(us_state_abbrev.values())\n",
    "us_state_abbrev_list.append('VI')\n",
    "us_state_abbrev_list.append('PR')\n",
    "us_state_abbrev_list.append('unknown')\n",
    "\n",
    "#tag non-US states\n",
    "\n",
    "df['Foriegn tag'] = 0\n",
    "\n",
    "for index, state in df['Merch state'].items( ):\n",
    "    if state not in us_state_abbrev_list:\n",
    "        df.loc[index,'Foriegn tag'] = 1\n",
    "\n",
    "numvars += 1\n",
    "\n",
    "df['Foriegn tag'].value_counts()"
   ]
  },
  {
   "cell_type": "markdown",
   "metadata": {
    "id": "NBbGRs3ktmpL"
   },
   "source": [
    "* **Benford's Law variable (Ignored)**\n"
   ]
  },
  {
   "cell_type": "code",
   "execution_count": 59,
   "metadata": {
    "colab": {
     "base_uri": "https://localhost:8080/"
    },
    "id": "Lehgx1l1tlwH",
    "outputId": "bceb51e6-60ef-41aa-fe0d-1ed9ede30500"
   },
   "outputs": [
    {
     "data": {
      "text/plain": [
       "high    43097\n",
       "low     41524\n",
       "Name: bin, dtype: int64"
      ]
     },
     "execution_count": 59,
     "metadata": {},
     "output_type": "execute_result"
    }
   ],
   "source": [
    "\n",
    "bf= df.copy()\n",
    "bf['amount_100'] = (bf['Amount']*100).astype(str)\n",
    "bf['first_digit'] = bf['amount_100'].str[0]\n",
    "dropfedex = bf[bf['Merch description'].str.contains('FEDEX')]\n",
    "droplist = dropfedex.index.to_list()\n",
    "bf1 = bf.drop(droplist)\n",
    "bf1['bin'] = bf1['first_digit'].apply(lambda x: 'low' if (x == '1' or x == '2') else 'high')\n",
    "bf1['bin'].value_counts()"
   ]
  },
  {
   "cell_type": "code",
   "execution_count": 60,
   "metadata": {
    "colab": {
     "base_uri": "https://localhost:8080/",
     "height": 424
    },
    "id": "BTPBuLHztcha",
    "outputId": "aceae25a-64e2-47f4-b35b-94ee88af11d3"
   },
   "outputs": [
    {
     "data": {
      "text/html": [
       "<div>\n",
       "<style scoped>\n",
       "    .dataframe tbody tr th:only-of-type {\n",
       "        vertical-align: middle;\n",
       "    }\n",
       "\n",
       "    .dataframe tbody tr th {\n",
       "        vertical-align: top;\n",
       "    }\n",
       "\n",
       "    .dataframe thead th {\n",
       "        text-align: right;\n",
       "    }\n",
       "</style>\n",
       "<table border=\"1\" class=\"dataframe\">\n",
       "  <thead>\n",
       "    <tr style=\"text-align: right;\">\n",
       "      <th></th>\n",
       "      <th>Cardnum</th>\n",
       "      <th>n_high</th>\n",
       "      <th>n_low</th>\n",
       "    </tr>\n",
       "  </thead>\n",
       "  <tbody>\n",
       "    <tr>\n",
       "      <th>0</th>\n",
       "      <td>5142110002</td>\n",
       "      <td>1.0</td>\n",
       "      <td>1.0</td>\n",
       "    </tr>\n",
       "    <tr>\n",
       "      <th>1</th>\n",
       "      <td>5142110081</td>\n",
       "      <td>4.0</td>\n",
       "      <td>1.0</td>\n",
       "    </tr>\n",
       "    <tr>\n",
       "      <th>2</th>\n",
       "      <td>5142110313</td>\n",
       "      <td>1.0</td>\n",
       "      <td>2.0</td>\n",
       "    </tr>\n",
       "    <tr>\n",
       "      <th>3</th>\n",
       "      <td>5142110402</td>\n",
       "      <td>8.0</td>\n",
       "      <td>3.0</td>\n",
       "    </tr>\n",
       "    <tr>\n",
       "      <th>4</th>\n",
       "      <td>5142110434</td>\n",
       "      <td>1.0</td>\n",
       "      <td>1.0</td>\n",
       "    </tr>\n",
       "    <tr>\n",
       "      <th>...</th>\n",
       "      <td>...</td>\n",
       "      <td>...</td>\n",
       "      <td>...</td>\n",
       "    </tr>\n",
       "    <tr>\n",
       "      <th>1635</th>\n",
       "      <td>5142310397</td>\n",
       "      <td>1.0</td>\n",
       "      <td>1.0</td>\n",
       "    </tr>\n",
       "    <tr>\n",
       "      <th>1636</th>\n",
       "      <td>5142310525</td>\n",
       "      <td>3.0</td>\n",
       "      <td>1.0</td>\n",
       "    </tr>\n",
       "    <tr>\n",
       "      <th>1637</th>\n",
       "      <td>5142310598</td>\n",
       "      <td>1.0</td>\n",
       "      <td>2.0</td>\n",
       "    </tr>\n",
       "    <tr>\n",
       "      <th>1638</th>\n",
       "      <td>5142310768</td>\n",
       "      <td>2.0</td>\n",
       "      <td>2.0</td>\n",
       "    </tr>\n",
       "    <tr>\n",
       "      <th>1639</th>\n",
       "      <td>5142847398</td>\n",
       "      <td>35.0</td>\n",
       "      <td>10.0</td>\n",
       "    </tr>\n",
       "  </tbody>\n",
       "</table>\n",
       "<p>1640 rows × 3 columns</p>\n",
       "</div>"
      ],
      "text/plain": [
       "         Cardnum  n_high  n_low\n",
       "0     5142110002     1.0    1.0\n",
       "1     5142110081     4.0    1.0\n",
       "2     5142110313     1.0    2.0\n",
       "3     5142110402     8.0    3.0\n",
       "4     5142110434     1.0    1.0\n",
       "...          ...     ...    ...\n",
       "1635  5142310397     1.0    1.0\n",
       "1636  5142310525     3.0    1.0\n",
       "1637  5142310598     1.0    2.0\n",
       "1638  5142310768     2.0    2.0\n",
       "1639  5142847398    35.0   10.0\n",
       "\n",
       "[1640 rows x 3 columns]"
      ]
     },
     "execution_count": 60,
     "metadata": {},
     "output_type": "execute_result"
    }
   ],
   "source": [
    "\n",
    "card_bf = bf1.groupby(['Cardnum','bin']).agg({'bin': ['count']}).reset_index()\n",
    "card_bf.columns = ['Cardnum','bin','count']\n",
    "card_bf = card_bf.pivot_table(index='Cardnum',columns = 'bin',values='count',aggfunc='sum').reset_index()\n",
    "card_bf.columns = ['Cardnum','n_high','n_low']\n",
    "card_bf = card_bf.fillna(1)\n",
    "card_bf\n"
   ]
  },
  {
   "cell_type": "code",
   "execution_count": 61,
   "metadata": {
    "colab": {
     "base_uri": "https://localhost:8080/"
    },
    "id": "F7O3yFKeSLOE",
    "outputId": "0e9c31c4-35ad-44a2-840e-87caecbfc9e5"
   },
   "outputs": [
    {
     "data": {
      "text/plain": [
       "0       1.001244\n",
       "1       1.091267\n",
       "2       1.021440\n",
       "3       1.298955\n",
       "4       1.001244\n",
       "          ...   \n",
       "1635    1.001244\n",
       "1636    1.043299\n",
       "1637    1.021440\n",
       "1638    1.002393\n",
       "1639    3.193331\n",
       "Name: U_smoothed, Length: 1640, dtype: float64"
      ]
     },
     "execution_count": 61,
     "metadata": {},
     "output_type": "execute_result"
    }
   ],
   "source": [
    "\n",
    "#calculating R, 1/R, U, n, t U_smoothed\n",
    "from math import exp\n",
    "c=3\n",
    "n_mid=15\n",
    "card_bf['R'] = (1.096 *card_bf['n_low']/card_bf['n_high'])\n",
    "card_bf['1/R'] = 1/card_bf['R']\n",
    "card_bf['U'] = list(map(lambda x,y :max(x,y),card_bf['R'],card_bf['1/R']))\n",
    "card_bf['n'] = card_bf['n_low']+card_bf['n_high']\n",
    "card_bf['t'] = (card_bf['n'] - n_mid)/c\n",
    "#statistical smoothing\n",
    "card_bf['U_smoothed'] = list(map(lambda x,y: (1 + (x-1)/(1+exp(-y))), card_bf['U'],card_bf['t']))\n",
    "\n",
    "card_bf['U_smoothed']\n"
   ]
  },
  {
   "cell_type": "code",
   "execution_count": 62,
   "metadata": {
    "colab": {
     "base_uri": "https://localhost:8080/",
     "height": 424
    },
    "id": "0cEUgxsISP_I",
    "outputId": "20bd28ec-e981-4117-afa8-a508a56d53db"
   },
   "outputs": [
    {
     "data": {
      "text/html": [
       "<div>\n",
       "<style scoped>\n",
       "    .dataframe tbody tr th:only-of-type {\n",
       "        vertical-align: middle;\n",
       "    }\n",
       "\n",
       "    .dataframe tbody tr th {\n",
       "        vertical-align: top;\n",
       "    }\n",
       "\n",
       "    .dataframe thead th {\n",
       "        text-align: right;\n",
       "    }\n",
       "</style>\n",
       "<table border=\"1\" class=\"dataframe\">\n",
       "  <thead>\n",
       "    <tr style=\"text-align: right;\">\n",
       "      <th></th>\n",
       "      <th>Merchnum</th>\n",
       "      <th>n_high</th>\n",
       "      <th>n_low</th>\n",
       "    </tr>\n",
       "  </thead>\n",
       "  <tbody>\n",
       "    <tr>\n",
       "      <th>0</th>\n",
       "      <td>9996060597901.0</td>\n",
       "      <td>1.0</td>\n",
       "      <td>3.0</td>\n",
       "    </tr>\n",
       "    <tr>\n",
       "      <th>1</th>\n",
       "      <td>9996060597902.0</td>\n",
       "      <td>1.0</td>\n",
       "      <td>1.0</td>\n",
       "    </tr>\n",
       "    <tr>\n",
       "      <th>2</th>\n",
       "      <td>9996060597903.0</td>\n",
       "      <td>2.0</td>\n",
       "      <td>1.0</td>\n",
       "    </tr>\n",
       "    <tr>\n",
       "      <th>3</th>\n",
       "      <td>9996060597904.0</td>\n",
       "      <td>3.0</td>\n",
       "      <td>5.0</td>\n",
       "    </tr>\n",
       "    <tr>\n",
       "      <th>4</th>\n",
       "      <td>9996060597905.0</td>\n",
       "      <td>2.0</td>\n",
       "      <td>7.0</td>\n",
       "    </tr>\n",
       "    <tr>\n",
       "      <th>...</th>\n",
       "      <td>...</td>\n",
       "      <td>...</td>\n",
       "      <td>...</td>\n",
       "    </tr>\n",
       "    <tr>\n",
       "      <th>13582</th>\n",
       "      <td>DU49038320006</td>\n",
       "      <td>1.0</td>\n",
       "      <td>1.0</td>\n",
       "    </tr>\n",
       "    <tr>\n",
       "      <th>13583</th>\n",
       "      <td>JCPENNE9 CO</td>\n",
       "      <td>2.0</td>\n",
       "      <td>1.0</td>\n",
       "    </tr>\n",
       "    <tr>\n",
       "      <th>13584</th>\n",
       "      <td>PENNE9 CO #05</td>\n",
       "      <td>1.0</td>\n",
       "      <td>1.0</td>\n",
       "    </tr>\n",
       "    <tr>\n",
       "      <th>13585</th>\n",
       "      <td>PENNE9 CO #68</td>\n",
       "      <td>1.0</td>\n",
       "      <td>1.0</td>\n",
       "    </tr>\n",
       "    <tr>\n",
       "      <th>13586</th>\n",
       "      <td>unknown</td>\n",
       "      <td>424.0</td>\n",
       "      <td>280.0</td>\n",
       "    </tr>\n",
       "  </tbody>\n",
       "</table>\n",
       "<p>13587 rows × 3 columns</p>\n",
       "</div>"
      ],
      "text/plain": [
       "              Merchnum  n_high  n_low\n",
       "0      9996060597901.0     1.0    3.0\n",
       "1      9996060597902.0     1.0    1.0\n",
       "2      9996060597903.0     2.0    1.0\n",
       "3      9996060597904.0     3.0    5.0\n",
       "4      9996060597905.0     2.0    7.0\n",
       "...                ...     ...    ...\n",
       "13582    DU49038320006     1.0    1.0\n",
       "13583      JCPENNE9 CO     2.0    1.0\n",
       "13584    PENNE9 CO #05     1.0    1.0\n",
       "13585    PENNE9 CO #68     1.0    1.0\n",
       "13586          unknown   424.0  280.0\n",
       "\n",
       "[13587 rows x 3 columns]"
      ]
     },
     "execution_count": 62,
     "metadata": {},
     "output_type": "execute_result"
    }
   ],
   "source": [
    "\n",
    "merch_bf = bf1.groupby(['Merchnum','bin']).agg({'bin': ['count']}).reset_index()\n",
    "merch_bf.columns = ['Merchnum','bin','count']\n",
    "merch_bf = merch_bf.pivot_table(index='Merchnum',columns = 'bin',values='count',aggfunc='sum').reset_index()\n",
    "merch_bf.columns = ['Merchnum','n_high','n_low']\n",
    "merch_bf = merch_bf.fillna(1)\n",
    "merch_bf\n"
   ]
  },
  {
   "cell_type": "code",
   "execution_count": 63,
   "metadata": {
    "colab": {
     "base_uri": "https://localhost:8080/"
    },
    "id": "oZ4nYb2cSSrX",
    "outputId": "a836342b-89c0-4aba-9c4c-6a172637a556"
   },
   "outputs": [
    {
     "data": {
      "text/plain": [
       "0        1.057027\n",
       "1        1.001244\n",
       "2        1.014835\n",
       "3        1.073077\n",
       "4        1.338059\n",
       "           ...   \n",
       "13582    1.001244\n",
       "13583    1.014835\n",
       "13584    1.001244\n",
       "13585    1.001244\n",
       "13586    1.381648\n",
       "Name: U_smoothed, Length: 13587, dtype: float64"
      ]
     },
     "execution_count": 63,
     "metadata": {},
     "output_type": "execute_result"
    }
   ],
   "source": [
    "#calculating R, 1/R, U, n, t U_smoothed\n",
    "\n",
    "merch_bf['R'] = (1.096 * merch_bf['n_low']/merch_bf['n_high'])\n",
    "merch_bf['1/R'] = 1/merch_bf['R']\n",
    "merch_bf['U'] = list(map(lambda x,y :max(x,y),merch_bf['R'],merch_bf['1/R']))\n",
    "merch_bf['n'] = merch_bf['n_low']+merch_bf['n_high']\n",
    "merch_bf['t'] = (merch_bf['n'] - n_mid)/c\n",
    "#statistical smoothing\n",
    "merch_bf['U_smoothed'] = list(map(lambda x,y: (1 + (x-1)/(1+exp(-y))), merch_bf['U'], merch_bf['t']))\n",
    "\n",
    "merch_bf['U_smoothed']\n"
   ]
  },
  {
   "cell_type": "code",
   "execution_count": 64,
   "metadata": {
    "id": "OU9YU1VkSXu0"
   },
   "outputs": [],
   "source": [
    "\n",
    "card_bf['Cardnum'] = card_bf['Cardnum'].apply(str)\n",
    "merch_bf['Merchnum'] = merch_bf['Merchnum'].apply(str)\n"
   ]
  },
  {
   "cell_type": "code",
   "execution_count": 65,
   "metadata": {
    "colab": {
     "base_uri": "https://localhost:8080/",
     "height": 175
    },
    "id": "RwEYZnLDSaSw",
    "outputId": "a2434add-6df1-461e-c078-c75eb9b58903"
   },
   "outputs": [
    {
     "data": {
      "text/html": [
       "<div>\n",
       "<style scoped>\n",
       "    .dataframe tbody tr th:only-of-type {\n",
       "        vertical-align: middle;\n",
       "    }\n",
       "\n",
       "    .dataframe tbody tr th {\n",
       "        vertical-align: top;\n",
       "    }\n",
       "\n",
       "    .dataframe thead th {\n",
       "        text-align: right;\n",
       "    }\n",
       "</style>\n",
       "<table border=\"1\" class=\"dataframe\">\n",
       "  <thead>\n",
       "    <tr style=\"text-align: right;\">\n",
       "      <th></th>\n",
       "      <th>n_high</th>\n",
       "      <th>n_low</th>\n",
       "      <th>R</th>\n",
       "      <th>1/R</th>\n",
       "      <th>U</th>\n",
       "      <th>n</th>\n",
       "      <th>t</th>\n",
       "      <th>U_smoothed</th>\n",
       "    </tr>\n",
       "    <tr>\n",
       "      <th>Cardnum</th>\n",
       "      <th></th>\n",
       "      <th></th>\n",
       "      <th></th>\n",
       "      <th></th>\n",
       "      <th></th>\n",
       "      <th></th>\n",
       "      <th></th>\n",
       "      <th></th>\n",
       "    </tr>\n",
       "  </thead>\n",
       "  <tbody>\n",
       "    <tr>\n",
       "      <th>5142253356</th>\n",
       "      <td>5.0</td>\n",
       "      <td>61.0</td>\n",
       "      <td>13.371200</td>\n",
       "      <td>0.074788</td>\n",
       "      <td>13.371200</td>\n",
       "      <td>66.0</td>\n",
       "      <td>17.000000</td>\n",
       "      <td>13.371199</td>\n",
       "    </tr>\n",
       "    <tr>\n",
       "      <th>5142299705</th>\n",
       "      <td>3.0</td>\n",
       "      <td>25.0</td>\n",
       "      <td>9.133333</td>\n",
       "      <td>0.109489</td>\n",
       "      <td>9.133333</td>\n",
       "      <td>28.0</td>\n",
       "      <td>4.333333</td>\n",
       "      <td>9.027976</td>\n",
       "    </tr>\n",
       "    <tr>\n",
       "      <th>5142197563</th>\n",
       "      <td>134.0</td>\n",
       "      <td>15.0</td>\n",
       "      <td>0.122687</td>\n",
       "      <td>8.150852</td>\n",
       "      <td>8.150852</td>\n",
       "      <td>149.0</td>\n",
       "      <td>44.666667</td>\n",
       "      <td>8.150852</td>\n",
       "    </tr>\n",
       "  </tbody>\n",
       "</table>\n",
       "</div>"
      ],
      "text/plain": [
       "            n_high  n_low          R       1/R          U      n          t  \\\n",
       "Cardnum                                                                       \n",
       "5142253356     5.0   61.0  13.371200  0.074788  13.371200   66.0  17.000000   \n",
       "5142299705     3.0   25.0   9.133333  0.109489   9.133333   28.0   4.333333   \n",
       "5142197563   134.0   15.0   0.122687  8.150852   8.150852  149.0  44.666667   \n",
       "\n",
       "            U_smoothed  \n",
       "Cardnum                 \n",
       "5142253356   13.371199  \n",
       "5142299705    9.027976  \n",
       "5142197563    8.150852  "
      ]
     },
     "execution_count": 65,
     "metadata": {},
     "output_type": "execute_result"
    }
   ],
   "source": [
    "\n",
    "card_bf.set_index('Cardnum',inplace=True)\n",
    "card_Ustar = pd.DataFrame(card_bf['U_smoothed'])\n",
    "card_bf.sort_values(['U_smoothed'],ascending=False).head(3)\n"
   ]
  },
  {
   "cell_type": "code",
   "execution_count": 66,
   "metadata": {
    "colab": {
     "base_uri": "https://localhost:8080/",
     "height": 175
    },
    "id": "B5cREoN9jvTz",
    "outputId": "8c1050b0-1752-4f15-e590-dd2e6cc97ec2"
   },
   "outputs": [
    {
     "data": {
      "text/html": [
       "<div>\n",
       "<style scoped>\n",
       "    .dataframe tbody tr th:only-of-type {\n",
       "        vertical-align: middle;\n",
       "    }\n",
       "\n",
       "    .dataframe tbody tr th {\n",
       "        vertical-align: top;\n",
       "    }\n",
       "\n",
       "    .dataframe thead th {\n",
       "        text-align: right;\n",
       "    }\n",
       "</style>\n",
       "<table border=\"1\" class=\"dataframe\">\n",
       "  <thead>\n",
       "    <tr style=\"text-align: right;\">\n",
       "      <th></th>\n",
       "      <th>n_high</th>\n",
       "      <th>n_low</th>\n",
       "      <th>R</th>\n",
       "      <th>1/R</th>\n",
       "      <th>U</th>\n",
       "      <th>n</th>\n",
       "      <th>t</th>\n",
       "      <th>U_smoothed</th>\n",
       "    </tr>\n",
       "    <tr>\n",
       "      <th>Merchnum</th>\n",
       "      <th></th>\n",
       "      <th></th>\n",
       "      <th></th>\n",
       "      <th></th>\n",
       "      <th></th>\n",
       "      <th></th>\n",
       "      <th></th>\n",
       "      <th></th>\n",
       "    </tr>\n",
       "  </thead>\n",
       "  <tbody>\n",
       "    <tr>\n",
       "      <th>991808369338</th>\n",
       "      <td>181.0</td>\n",
       "      <td>1.0</td>\n",
       "      <td>0.006055</td>\n",
       "      <td>165.145985</td>\n",
       "      <td>165.145985</td>\n",
       "      <td>182.0</td>\n",
       "      <td>55.666667</td>\n",
       "      <td>165.145985</td>\n",
       "    </tr>\n",
       "    <tr>\n",
       "      <th>8078200641472</th>\n",
       "      <td>1.0</td>\n",
       "      <td>59.0</td>\n",
       "      <td>64.664000</td>\n",
       "      <td>0.015465</td>\n",
       "      <td>64.664000</td>\n",
       "      <td>60.0</td>\n",
       "      <td>15.000000</td>\n",
       "      <td>64.663981</td>\n",
       "    </tr>\n",
       "    <tr>\n",
       "      <th>308904389335</th>\n",
       "      <td>53.0</td>\n",
       "      <td>1.0</td>\n",
       "      <td>0.020679</td>\n",
       "      <td>48.357664</td>\n",
       "      <td>48.357664</td>\n",
       "      <td>54.0</td>\n",
       "      <td>13.000000</td>\n",
       "      <td>48.357557</td>\n",
       "    </tr>\n",
       "  </tbody>\n",
       "</table>\n",
       "</div>"
      ],
      "text/plain": [
       "               n_high  n_low          R         1/R           U      n  \\\n",
       "Merchnum                                                                 \n",
       "991808369338    181.0    1.0   0.006055  165.145985  165.145985  182.0   \n",
       "8078200641472     1.0   59.0  64.664000    0.015465   64.664000   60.0   \n",
       "308904389335     53.0    1.0   0.020679   48.357664   48.357664   54.0   \n",
       "\n",
       "                       t  U_smoothed  \n",
       "Merchnum                              \n",
       "991808369338   55.666667  165.145985  \n",
       "8078200641472  15.000000   64.663981  \n",
       "308904389335   13.000000   48.357557  "
      ]
     },
     "execution_count": 66,
     "metadata": {},
     "output_type": "execute_result"
    }
   ],
   "source": [
    "merch_bf.set_index('Merchnum',inplace=True)\n",
    "merch_Ustar = pd.DataFrame(merch_bf['U_smoothed'])\n",
    "merch_bf.sort_values(['U_smoothed'],ascending=False).head(3)"
   ]
  },
  {
   "cell_type": "code",
   "execution_count": 67,
   "metadata": {
    "colab": {
     "base_uri": "https://localhost:8080/",
     "height": 392
    },
    "id": "HnHMTaSFSh9Q",
    "outputId": "8695345a-7f34-44c0-8bc6-bc73f0fb2364"
   },
   "outputs": [
    {
     "data": {
      "text/html": [
       "<div>\n",
       "<style scoped>\n",
       "    .dataframe tbody tr th:only-of-type {\n",
       "        vertical-align: middle;\n",
       "    }\n",
       "\n",
       "    .dataframe tbody tr th {\n",
       "        vertical-align: top;\n",
       "    }\n",
       "\n",
       "    .dataframe thead th {\n",
       "        text-align: right;\n",
       "    }\n",
       "</style>\n",
       "<table border=\"1\" class=\"dataframe\">\n",
       "  <thead>\n",
       "    <tr style=\"text-align: right;\">\n",
       "      <th></th>\n",
       "      <th>Recnum</th>\n",
       "      <th>Cardnum</th>\n",
       "      <th>Date</th>\n",
       "      <th>Merchnum</th>\n",
       "      <th>Merch description</th>\n",
       "      <th>Merch state</th>\n",
       "      <th>Merch zip</th>\n",
       "      <th>Transtype</th>\n",
       "      <th>Amount</th>\n",
       "      <th>Fraud</th>\n",
       "      <th>check_date</th>\n",
       "      <th>check_record</th>\n",
       "      <th>Dow</th>\n",
       "      <th>Dow_Risk</th>\n",
       "      <th>Foriegn tag</th>\n",
       "      <th>U*_cardnum</th>\n",
       "      <th>U*_merchnum</th>\n",
       "    </tr>\n",
       "  </thead>\n",
       "  <tbody>\n",
       "    <tr>\n",
       "      <th>0</th>\n",
       "      <td>1</td>\n",
       "      <td>5509006296254</td>\n",
       "      <td>2010-01-01</td>\n",
       "      <td>5509006296254</td>\n",
       "      <td>FEDEX SHP 12/23/09 AB#</td>\n",
       "      <td>TN</td>\n",
       "      <td>38118</td>\n",
       "      <td>P</td>\n",
       "      <td>3.62</td>\n",
       "      <td>0</td>\n",
       "      <td>2010-01-01</td>\n",
       "      <td>1</td>\n",
       "      <td>Friday</td>\n",
       "      <td>0.025994</td>\n",
       "      <td>0</td>\n",
       "      <td>NaN</td>\n",
       "      <td>NaN</td>\n",
       "    </tr>\n",
       "    <tr>\n",
       "      <th>1</th>\n",
       "      <td>2</td>\n",
       "      <td>61003026333</td>\n",
       "      <td>2010-01-01</td>\n",
       "      <td>61003026333</td>\n",
       "      <td>SERVICE MERCHANDISE #81</td>\n",
       "      <td>MA</td>\n",
       "      <td>01803</td>\n",
       "      <td>P</td>\n",
       "      <td>31.42</td>\n",
       "      <td>0</td>\n",
       "      <td>2010-01-01</td>\n",
       "      <td>2</td>\n",
       "      <td>Friday</td>\n",
       "      <td>0.025994</td>\n",
       "      <td>0</td>\n",
       "      <td>NaN</td>\n",
       "      <td>1.001244</td>\n",
       "    </tr>\n",
       "    <tr>\n",
       "      <th>2</th>\n",
       "      <td>3</td>\n",
       "      <td>4503082993600</td>\n",
       "      <td>2010-01-01</td>\n",
       "      <td>4503082993600</td>\n",
       "      <td>OFFICE DEPOT #191</td>\n",
       "      <td>MD</td>\n",
       "      <td>20706</td>\n",
       "      <td>P</td>\n",
       "      <td>178.49</td>\n",
       "      <td>0</td>\n",
       "      <td>2010-01-01</td>\n",
       "      <td>3</td>\n",
       "      <td>Friday</td>\n",
       "      <td>0.025994</td>\n",
       "      <td>0</td>\n",
       "      <td>NaN</td>\n",
       "      <td>1.025818</td>\n",
       "    </tr>\n",
       "    <tr>\n",
       "      <th>3</th>\n",
       "      <td>4</td>\n",
       "      <td>5509006296254</td>\n",
       "      <td>2010-01-01</td>\n",
       "      <td>5509006296254</td>\n",
       "      <td>FEDEX SHP 12/28/09 AB#</td>\n",
       "      <td>TN</td>\n",
       "      <td>38118</td>\n",
       "      <td>P</td>\n",
       "      <td>3.62</td>\n",
       "      <td>0</td>\n",
       "      <td>2010-01-01</td>\n",
       "      <td>4</td>\n",
       "      <td>Friday</td>\n",
       "      <td>0.025994</td>\n",
       "      <td>0</td>\n",
       "      <td>NaN</td>\n",
       "      <td>NaN</td>\n",
       "    </tr>\n",
       "    <tr>\n",
       "      <th>4</th>\n",
       "      <td>5</td>\n",
       "      <td>5509006296254</td>\n",
       "      <td>2010-01-01</td>\n",
       "      <td>5509006296254</td>\n",
       "      <td>FEDEX SHP 12/23/09 AB#</td>\n",
       "      <td>TN</td>\n",
       "      <td>38118</td>\n",
       "      <td>P</td>\n",
       "      <td>3.62</td>\n",
       "      <td>0</td>\n",
       "      <td>2010-01-01</td>\n",
       "      <td>5</td>\n",
       "      <td>Friday</td>\n",
       "      <td>0.025994</td>\n",
       "      <td>0</td>\n",
       "      <td>NaN</td>\n",
       "      <td>NaN</td>\n",
       "    </tr>\n",
       "  </tbody>\n",
       "</table>\n",
       "</div>"
      ],
      "text/plain": [
       "   Recnum        Cardnum       Date       Merchnum        Merch description  \\\n",
       "0       1  5509006296254 2010-01-01  5509006296254   FEDEX SHP 12/23/09 AB#   \n",
       "1       2    61003026333 2010-01-01    61003026333  SERVICE MERCHANDISE #81   \n",
       "2       3  4503082993600 2010-01-01  4503082993600        OFFICE DEPOT #191   \n",
       "3       4  5509006296254 2010-01-01  5509006296254   FEDEX SHP 12/28/09 AB#   \n",
       "4       5  5509006296254 2010-01-01  5509006296254   FEDEX SHP 12/23/09 AB#   \n",
       "\n",
       "  Merch state Merch zip Transtype  Amount  Fraud check_date  check_record  \\\n",
       "0          TN     38118         P    3.62      0 2010-01-01             1   \n",
       "1          MA     01803         P   31.42      0 2010-01-01             2   \n",
       "2          MD     20706         P  178.49      0 2010-01-01             3   \n",
       "3          TN     38118         P    3.62      0 2010-01-01             4   \n",
       "4          TN     38118         P    3.62      0 2010-01-01             5   \n",
       "\n",
       "      Dow  Dow_Risk  Foriegn tag  U*_cardnum  U*_merchnum  \n",
       "0  Friday  0.025994            0         NaN          NaN  \n",
       "1  Friday  0.025994            0         NaN     1.001244  \n",
       "2  Friday  0.025994            0         NaN     1.025818  \n",
       "3  Friday  0.025994            0         NaN          NaN  \n",
       "4  Friday  0.025994            0         NaN          NaN  "
      ]
     },
     "execution_count": 67,
     "metadata": {},
     "output_type": "execute_result"
    }
   ],
   "source": [
    "#add variables to the dataset\n",
    "df['Cardnum'] = df['Cardnum'].astype('str')\n",
    "df['Cardnum'] = df['Merchnum'].astype('str')\n",
    "df = df.merge(card_Ustar,how ='left',left_on = 'Cardnum',right_on = card_Ustar.index)\n",
    "df = df.rename(columns = {'U_smoothed':'U*_cardnum'})\n",
    "df = df.merge(merch_Ustar,how ='left',left_on = 'Merchnum',right_on = merch_Ustar.index)\n",
    "df = df.rename(columns = {'U_smoothed':'U*_merchnum'})\n",
    "df.head()\n"
   ]
  },
  {
   "cell_type": "markdown",
   "metadata": {
    "id": "J6jKMw-aWNbk"
   },
   "source": [
    "* **Entities**\n",
    "\n"
   ]
  },
  {
   "cell_type": "code",
   "execution_count": 68,
   "metadata": {
    "id": "jdpB2TMRWMxE"
   },
   "outputs": [],
   "source": [
    "\n",
    "# Make new entities for variables\n",
    "\n",
    "df['card_merch']=str(df['Cardnum']) + str(df.Merchnum)\n",
    "df['card_zip']=str(df.Cardnum) + str(df['Merch zip'])\n",
    "df['card_state']=str(df.Cardnum) + df['Merch state']\n",
    "df['merch_zip']=str(df.Merchnum) + str(df['Merch zip'])\n",
    "df['merch_state']=str(df.Merchnum) + df['Merch state']"
   ]
  },
  {
   "cell_type": "code",
   "execution_count": 69,
   "metadata": {
    "colab": {
     "base_uri": "https://localhost:8080/"
    },
    "id": "XNW7-7dLtWyF",
    "outputId": "b8c10fe1-5eb6-41b5-828f-67c594798f9c"
   },
   "outputs": [
    {
     "data": {
      "text/plain": [
       "Index(['Recnum', 'Cardnum', 'Date', 'Merchnum', 'Merch description',\n",
       "       'Merch state', 'Merch zip', 'Transtype', 'Amount', 'Fraud',\n",
       "       'check_date', 'check_record', 'Dow', 'Dow_Risk', 'Foriegn tag',\n",
       "       'U*_cardnum', 'U*_merchnum', 'card_merch', 'card_zip', 'card_state',\n",
       "       'merch_zip', 'merch_state'],\n",
       "      dtype='object')"
      ]
     },
     "execution_count": 69,
     "metadata": {},
     "output_type": "execute_result"
    }
   ],
   "source": [
    "df.columns"
   ]
  },
  {
   "cell_type": "code",
   "execution_count": 70,
   "metadata": {
    "colab": {
     "base_uri": "https://localhost:8080/"
    },
    "id": "ZRLv2x6gUgs2",
    "outputId": "18f0b474-d704-4948-e5d6-ce50e807b255"
   },
   "outputs": [
    {
     "data": {
      "text/plain": [
       "(96396, 22)"
      ]
     },
     "execution_count": 70,
     "metadata": {},
     "output_type": "execute_result"
    }
   ],
   "source": [
    "df.shape"
   ]
  },
  {
   "cell_type": "code",
   "execution_count": 73,
   "metadata": {
    "colab": {
     "base_uri": "https://localhost:8080/"
    },
    "id": "nyV3f-RP1kDb",
    "outputId": "4e72f1a4-d66c-4a81-c18b-1ec9245c17e3"
   },
   "outputs": [
    {
     "data": {
      "text/plain": [
       "['Cardnum',\n",
       " 'Merchnum',\n",
       " 'Merch state',\n",
       " 'Merch zip',\n",
       " 'card_merch',\n",
       " 'card_zip',\n",
       " 'card_state',\n",
       " 'merch_zip',\n",
       " 'merch_state']"
      ]
     },
     "execution_count": 73,
     "metadata": {},
     "output_type": "execute_result"
    }
   ],
   "source": [
    "entities=list(df.iloc[:,np.r_[1, 3, 5, 6, 17:22]].columns)\n",
    "entities"
   ]
  },
  {
   "cell_type": "code",
   "execution_count": 74,
   "metadata": {},
   "outputs": [
    {
     "data": {
      "text/plain": [
       "9"
      ]
     },
     "execution_count": 74,
     "metadata": {},
     "output_type": "execute_result"
    }
   ],
   "source": [
    "len(entities)"
   ]
  },
  {
   "cell_type": "code",
   "execution_count": 75,
   "metadata": {},
   "outputs": [],
   "source": [
    "df.to_csv('cleaned_transaction_data.csv')"
   ]
  },
  {
   "cell_type": "markdown",
   "metadata": {
    "id": "sI-My4ZC2Nvc"
   },
   "source": [
    "* **Day Since & Frequency & Amount Variables**"
   ]
  },
  {
   "cell_type": "code",
   "execution_count": 52,
   "metadata": {},
   "outputs": [],
   "source": [
    "import pandas as pd\n",
    "import numpy as np\n",
    "#this code is used for rerun (kernel die problem)\n",
    "final = pd.read_csv('final_variables.csv',index_col = 0)\n"
   ]
  },
  {
   "cell_type": "code",
   "execution_count": 17,
   "metadata": {},
   "outputs": [],
   "source": [
    "df = pd.read_csv('cleaned_transaction_data.csv',index_col = 0)"
   ]
  },
  {
   "cell_type": "code",
   "execution_count": 18,
   "metadata": {},
   "outputs": [
    {
     "data": {
      "text/plain": [
       "['Cardnum',\n",
       " 'Merchnum',\n",
       " 'Merch state',\n",
       " 'Merch zip',\n",
       " 'card_merch',\n",
       " 'card_zip',\n",
       " 'card_state',\n",
       " 'merch_zip',\n",
       " 'merch_state']"
      ]
     },
     "execution_count": 18,
     "metadata": {},
     "output_type": "execute_result"
    }
   ],
   "source": [
    "entities=list(df.iloc[:,np.r_[1, 3, 5, 6, 17:22]].columns)\n",
    "entities"
   ]
  },
  {
   "cell_type": "code",
   "execution_count": 19,
   "metadata": {},
   "outputs": [],
   "source": [
    "final['Date'] = pd.to_datetime(final['Date'])\n",
    "df['Date'] = pd.to_datetime(df['Date'])\n",
    "df['check_date'] = pd.to_datetime(df['check_date'])"
   ]
  },
  {
   "cell_type": "code",
   "execution_count": null,
   "metadata": {
    "id": "LChoadye1mvx"
   },
   "outputs": [],
   "source": [
    "import timeit\n",
    "import datetime as dt\n",
    "start = timeit.default_timer()\n",
    "for entity in entities:    \n",
    "    try: print('Run time for the last entity ----------------- {}s'.format(timeit.default_timer() - st))\n",
    "    except: print('')\n",
    "    st = timeit.default_timer()    \n",
    "    ## Day-since variables:   \n",
    "    df_l = df[['Recnum', 'Date', entity]]\n",
    "    df_r = df[['check_record', 'check_date', entity, 'Amount']]    \n",
    "    temp = pd.merge(df_l, df_r, left_on = entity, right_on = entity)   \n",
    "    temp1 = temp[temp.Recnum > temp.check_record][['Recnum','Date','check_date']]\\\n",
    "                                                   .groupby('Recnum')[['Date', 'check_date']].last()\n",
    "    mapper = (temp1.Date - temp1.check_date).dt.days\n",
    "    final[entity + '_day_since'] = final.Recnum.map(mapper)\n",
    "    final[entity + '_day_since'].fillna((final.Date - pd.to_datetime('2010-01-01')).dt.days, inplace = True)\n",
    "    print('\\n' + entity + '_day_since ---> Done')   \n",
    "    ## Frequency & Amount variables:   \n",
    "    for time in [0,1,3,7,14,30]:       \n",
    "        temp2 = temp[(temp.check_date >= (temp.Date - dt.timedelta(time))) &\\\n",
    "                       (temp.Recnum >= temp.check_record)][['Recnum', entity, 'Amount']]       \n",
    "        col_name = entity + '_count_' + str(time)    \n",
    "        mapper2 = temp2.groupby('Recnum')[entity].count()      \n",
    "        final[col_name] = final.Recnum.map(mapper2)        \n",
    "        print(col_name + ' ---> Done')       \n",
    "        final[entity + '_avg_' + str(time)] = final.Recnum.map(temp2.groupby('Recnum')['Amount'].mean())\n",
    "        final[entity + '_max_' + str(time)] = final.Recnum.map(temp2.groupby('Recnum')['Amount'].max())\n",
    "        final[entity + '_med_' + str(time)] = final.Recnum.map(temp2.groupby('Recnum')['Amount'].median())\n",
    "        final[entity + '_total_' + str(time)] = final.Recnum.map(temp2.groupby('Recnum')['Amount'].sum())\n",
    "        final[entity + '_actual/avg_' + str(time)] = final['Amount'] / final[entity + '_avg_' + str(time)]\n",
    "        final[entity + '_actual/max_' + str(time)] = final['Amount'] / final[entity + '_max_' + str(time)]\n",
    "        final[entity + '_actual/med_' + str(time)] = final['Amount'] / final[entity + '_med_' + str(time)]\n",
    "        final[entity + '_actual/toal_' + str(time)] = final['Amount'] / final[entity + '_total_' + str(time)]       \n",
    "        print(entity + ' amount variables over past ' + str(time) + ' ---> Done')"
   ]
  },
  {
   "cell_type": "code",
   "execution_count": null,
   "metadata": {},
   "outputs": [],
   "source": [
    "#create day since variables in 60 days\n",
    "import timeit\n",
    "import datetime as dt\n",
    "start = timeit.default_timer()\n",
    "\n",
    "#run first 5 entities to reduce memory usage\n",
    "for entity in entities[:5]:    \n",
    "    try: print('Run time for the last entity ----------------- {}s'.format(timeit.default_timer() - st))\n",
    "    except: print('')\n",
    "    st = timeit.default_timer()    \n",
    "    ## Day-since variables:   \n",
    "    df_l = df[['Recnum', 'Date', entity]]\n",
    "    df_r = df[['check_record', 'check_date', entity, 'Amount']]    \n",
    "    temp = pd.merge(df_l, df_r, left_on = entity, right_on = entity)   \n",
    "    temp1 = temp[temp.Recnum > temp.check_record][['Recnum','Date','check_date']]\\\n",
    "                                                   .groupby('Recnum')[['Date', 'check_date']].last()\n",
    "    mapper = (temp1.Date - temp1.check_date).dt.days\n",
    "    final[entity + '_day_since'] = final.Recnum.map(mapper)\n",
    "    final[entity + '_day_since'].fillna((final.Date - pd.to_datetime('2010-01-01')).dt.days, inplace = True)\n",
    "    print('\\n' + entity + '_day_since ---> Done')   \n",
    "    ## Frequency & Amount variables:   \n",
    "    for time in [60]:       \n",
    "        temp2 = temp[(temp.check_date >= (temp.Date - dt.timedelta(time))) &\\\n",
    "                       (temp.Recnum >= temp.check_record)][['Recnum', entity, 'Amount']]       \n",
    "        col_name = entity + '_count_' + str(time)    \n",
    "        mapper2 = temp2.groupby('Recnum')[entity].count()      \n",
    "        final[col_name] = final.Recnum.map(mapper2)        \n",
    "        print(col_name + ' ---> Done')       \n",
    "        final[entity + '_avg_' + str(time)] = final.Recnum.map(temp2.groupby('Recnum')['Amount'].mean())\n",
    "        final[entity + '_max_' + str(time)] = final.Recnum.map(temp2.groupby('Recnum')['Amount'].max())\n",
    "        final[entity + '_med_' + str(time)] = final.Recnum.map(temp2.groupby('Recnum')['Amount'].median())\n",
    "        final[entity + '_total_' + str(time)] = final.Recnum.map(temp2.groupby('Recnum')['Amount'].sum())\n",
    "        final[entity + '_actual/avg_' + str(time)] = final['Amount'] / final[entity + '_avg_' + str(time)]\n",
    "        final[entity + '_actual/max_' + str(time)] = final['Amount'] / final[entity + '_max_' + str(time)]\n",
    "       e final[entity + '_actual/med_' + str(time)] = final['Amount'] / final[entity + '_med_' + str(time)]\n",
    "        final[entity + '_actual/toal_' + str(time)] = final['Amount'] / final[entity + '_total_' + str(time)]       \n",
    "        print(entity + ' amount variables over past ' + str(time) + ' ---> Done')"
   ]
  },
  {
   "cell_type": "code",
   "execution_count": 35,
   "metadata": {},
   "outputs": [],
   "source": [
    "final.to_csv('finals_version1.csv')"
   ]
  },
  {
   "cell_type": "code",
   "execution_count": null,
   "metadata": {},
   "outputs": [
    {
     "name": "stdout",
     "output_type": "stream",
     "text": [
      "\n"
     ]
    }
   ],
   "source": [
    "#skip the merch description (4th entities always crush)\n",
    "import timeit\n",
    "import datetime as dt\n",
    "start = timeit.default_timer()\n",
    "for entity in entities[6:]:    \n",
    "    try: print('Run time for the last entity ----------------- {}s'.format(timeit.default_timer() - st))\n",
    "    except: print('')\n",
    "    st = timeit.default_timer()    \n",
    "    ## Day-since variables:   \n",
    "    df_l = df[['Recnum', 'Date', entity]]\n",
    "    df_r = df[['check_record', 'check_date', entity, 'Amount']]    \n",
    "    temp = pd.merge(df_l, df_r, left_on = entity, right_on = entity)   \n",
    "    temp1 = temp[temp.Recnum > temp.check_record][['Recnum','Date','check_date']]\\\n",
    "                                                   .groupby('Recnum')[['Date', 'check_date']].last()\n",
    "    mapper = (temp1.Date - temp1.check_date).dt.days\n",
    "    final[entity + '_day_since'] = final.Recnum.map(mapper)\n",
    "    final[entity + '_day_since'].fillna((final.Date - pd.to_datetime('2010-01-01')).dt.days, inplace = True)\n",
    "    print('\\n' + entity + '_day_since ---> Done')   \n",
    "    ## Frequency & Amount variables:   \n",
    "    for time in [60]:       \n",
    "        temp2 = temp[(temp.check_date >= (temp.Date - dt.timedelta(time))) &\\\n",
    "                       (temp.Recnum >= temp.check_record)][['Recnum', entity, 'Amount']]       \n",
    "        col_name = entity + '_count_' + str(time)    \n",
    "        mapper2 = temp2.groupby('Recnum')[entity].count()      \n",
    "        final[col_name] = final.Recnum.map(mapper2)        \n",
    "        print(col_name + ' ---> Done')       \n",
    "        final[entity + '_avg_' + str(time)] = final.Recnum.map(temp2.groupby('Recnum')['Amount'].mean())\n",
    "        final[entity + '_max_' + str(time)] = final.Recnum.map(temp2.groupby('Recnum')['Amount'].max())\n",
    "        final[entity + '_med_' + str(time)] = final.Recnum.map(temp2.groupby('Recnum')['Amount'].median())\n",
    "        final[entity + '_total_' + str(time)] = final.Recnum.map(temp2.groupby('Recnum')['Amount'].sum())\n",
    "        final[entity + '_actual/avg_' + str(time)] = final['Amount'] / final[entity + '_avg_' + str(time)]\n",
    "        final[entity + '_actual/max_' + str(time)] = final['Amount'] / final[entity + '_max_' + str(time)]\n",
    "        final[entity + '_actual/med_' + str(time)] = final['Amount'] / final[entity + '_med_' + str(time)]\n",
    "        final[entity + '_actual/toal_' + str(time)] = final['Amount'] / final[entity + '_total_' + str(time)]       \n",
    "        print(entity + ' amount variables over past ' + str(time) + ' ---> Done')"
   ]
  },
  {
   "cell_type": "markdown",
   "metadata": {
    "id": "czy_dPz-4jIj"
   },
   "source": [
    "* **Average Relative Velocity  Variable**"
   ]
  },
  {
   "cell_type": "code",
   "execution_count": 9,
   "metadata": {},
   "outputs": [],
   "source": [
    "import timeit\n",
    "import datetime as dt\n",
    "start = timeit.default_timer()"
   ]
  },
  {
   "cell_type": "code",
   "execution_count": 10,
   "metadata": {
    "id": "SIhFMNKY2Xgl"
   },
   "outputs": [],
   "source": [
    "start = timeit.default_timer()\n",
    "# average relative velocity\n",
    "for ent in entities:\n",
    "    for d in ['0', '1']:\n",
    "        for dd in ['7', '14', '30']:\n",
    "            final[ent + '_count_' + d + '_by_' + dd] =\\\n",
    "            final[ent + '_count_' + d]/(final[ent + '_count_' + dd])/float(dd)\n",
    "            "
   ]
  },
  {
   "cell_type": "code",
   "execution_count": 12,
   "metadata": {},
   "outputs": [
    {
     "data": {
      "text/plain": [
       "0        0.142857\n",
       "1        0.142857\n",
       "2        0.142857\n",
       "3        0.142857\n",
       "4        0.142857\n",
       "           ...   \n",
       "96748    0.142857\n",
       "96749    0.142857\n",
       "96750    0.095238\n",
       "96751    0.023810\n",
       "96752    0.047619\n",
       "Name: Merchnum_count_0_by_7, Length: 96397, dtype: float64"
      ]
     },
     "execution_count": 12,
     "metadata": {},
     "output_type": "execute_result"
    }
   ],
   "source": [
    "final['Merchnum_count_0_by_7']"
   ]
  },
  {
   "cell_type": "markdown",
   "metadata": {
    "id": "2c1kmd0K4p5_"
   },
   "source": [
    "* **Velocity Days Since Variable**"
   ]
  },
  {
   "cell_type": "code",
   "execution_count": 11,
   "metadata": {
    "id": "dA1HqoInj--S"
   },
   "outputs": [
    {
     "name": "stderr",
     "output_type": "stream",
     "text": [
      "/var/folders/2f/fpszyvs50jl1c4sw9dlynhjm0000gn/T/ipykernel_78807/2040162364.py:6: PerformanceWarning: DataFrame is highly fragmented.  This is usually the result of calling `frame.insert` many times, which has poor performance.  Consider joining all columns at once using pd.concat(axis=1) instead. To get a de-fragmented frame, use `newframe = frame.copy()`\n",
      "  final[ent + '_vdratio_' + d  + 'by' + dd] =\\\n",
      "/var/folders/2f/fpszyvs50jl1c4sw9dlynhjm0000gn/T/ipykernel_78807/2040162364.py:6: PerformanceWarning: DataFrame is highly fragmented.  This is usually the result of calling `frame.insert` many times, which has poor performance.  Consider joining all columns at once using pd.concat(axis=1) instead. To get a de-fragmented frame, use `newframe = frame.copy()`\n",
      "  final[ent + '_vdratio_' + d  + 'by' + dd] =\\\n",
      "/var/folders/2f/fpszyvs50jl1c4sw9dlynhjm0000gn/T/ipykernel_78807/2040162364.py:6: PerformanceWarning: DataFrame is highly fragmented.  This is usually the result of calling `frame.insert` many times, which has poor performance.  Consider joining all columns at once using pd.concat(axis=1) instead. To get a de-fragmented frame, use `newframe = frame.copy()`\n",
      "  final[ent + '_vdratio_' + d  + 'by' + dd] =\\\n",
      "/var/folders/2f/fpszyvs50jl1c4sw9dlynhjm0000gn/T/ipykernel_78807/2040162364.py:6: PerformanceWarning: DataFrame is highly fragmented.  This is usually the result of calling `frame.insert` many times, which has poor performance.  Consider joining all columns at once using pd.concat(axis=1) instead. To get a de-fragmented frame, use `newframe = frame.copy()`\n",
      "  final[ent + '_vdratio_' + d  + 'by' + dd] =\\\n",
      "/var/folders/2f/fpszyvs50jl1c4sw9dlynhjm0000gn/T/ipykernel_78807/2040162364.py:6: PerformanceWarning: DataFrame is highly fragmented.  This is usually the result of calling `frame.insert` many times, which has poor performance.  Consider joining all columns at once using pd.concat(axis=1) instead. To get a de-fragmented frame, use `newframe = frame.copy()`\n",
      "  final[ent + '_vdratio_' + d  + 'by' + dd] =\\\n",
      "/var/folders/2f/fpszyvs50jl1c4sw9dlynhjm0000gn/T/ipykernel_78807/2040162364.py:6: PerformanceWarning: DataFrame is highly fragmented.  This is usually the result of calling `frame.insert` many times, which has poor performance.  Consider joining all columns at once using pd.concat(axis=1) instead. To get a de-fragmented frame, use `newframe = frame.copy()`\n",
      "  final[ent + '_vdratio_' + d  + 'by' + dd] =\\\n",
      "/var/folders/2f/fpszyvs50jl1c4sw9dlynhjm0000gn/T/ipykernel_78807/2040162364.py:6: PerformanceWarning: DataFrame is highly fragmented.  This is usually the result of calling `frame.insert` many times, which has poor performance.  Consider joining all columns at once using pd.concat(axis=1) instead. To get a de-fragmented frame, use `newframe = frame.copy()`\n",
      "  final[ent + '_vdratio_' + d  + 'by' + dd] =\\\n",
      "/var/folders/2f/fpszyvs50jl1c4sw9dlynhjm0000gn/T/ipykernel_78807/2040162364.py:6: PerformanceWarning: DataFrame is highly fragmented.  This is usually the result of calling `frame.insert` many times, which has poor performance.  Consider joining all columns at once using pd.concat(axis=1) instead. To get a de-fragmented frame, use `newframe = frame.copy()`\n",
      "  final[ent + '_vdratio_' + d  + 'by' + dd] =\\\n",
      "/var/folders/2f/fpszyvs50jl1c4sw9dlynhjm0000gn/T/ipykernel_78807/2040162364.py:6: PerformanceWarning: DataFrame is highly fragmented.  This is usually the result of calling `frame.insert` many times, which has poor performance.  Consider joining all columns at once using pd.concat(axis=1) instead. To get a de-fragmented frame, use `newframe = frame.copy()`\n",
      "  final[ent + '_vdratio_' + d  + 'by' + dd] =\\\n",
      "/var/folders/2f/fpszyvs50jl1c4sw9dlynhjm0000gn/T/ipykernel_78807/2040162364.py:6: PerformanceWarning: DataFrame is highly fragmented.  This is usually the result of calling `frame.insert` many times, which has poor performance.  Consider joining all columns at once using pd.concat(axis=1) instead. To get a de-fragmented frame, use `newframe = frame.copy()`\n",
      "  final[ent + '_vdratio_' + d  + 'by' + dd] =\\\n",
      "/var/folders/2f/fpszyvs50jl1c4sw9dlynhjm0000gn/T/ipykernel_78807/2040162364.py:6: PerformanceWarning: DataFrame is highly fragmented.  This is usually the result of calling `frame.insert` many times, which has poor performance.  Consider joining all columns at once using pd.concat(axis=1) instead. To get a de-fragmented frame, use `newframe = frame.copy()`\n",
      "  final[ent + '_vdratio_' + d  + 'by' + dd] =\\\n",
      "/var/folders/2f/fpszyvs50jl1c4sw9dlynhjm0000gn/T/ipykernel_78807/2040162364.py:6: PerformanceWarning: DataFrame is highly fragmented.  This is usually the result of calling `frame.insert` many times, which has poor performance.  Consider joining all columns at once using pd.concat(axis=1) instead. To get a de-fragmented frame, use `newframe = frame.copy()`\n",
      "  final[ent + '_vdratio_' + d  + 'by' + dd] =\\\n"
     ]
    }
   ],
   "source": [
    "start = timeit.default_timer()\n",
    "# velocity days since ratio\n",
    "for ent in entities:\n",
    "    for d in ['0', '1']:\n",
    "        for dd in ['7', '14', '30']:\n",
    "            final[ent + '_vdratio_' + d  + 'by' + dd] =\\\n",
    "            final[ent + '_count_' + d + '_by_' + dd]/(final[ent + '_day_since']+1)\n"
   ]
  },
  {
   "cell_type": "code",
   "execution_count": 16,
   "metadata": {},
   "outputs": [
    {
     "data": {
      "text/plain": [
       "0        0.142857\n",
       "1        0.142857\n",
       "2        0.142857\n",
       "3        0.142857\n",
       "4        0.142857\n",
       "           ...   \n",
       "96748    0.000391\n",
       "96749    0.014286\n",
       "96750    0.095238\n",
       "96751    0.011905\n",
       "96752    0.015873\n",
       "Name: Merchnum_vdratio_0by7, Length: 96397, dtype: float64"
      ]
     },
     "execution_count": 16,
     "metadata": {},
     "output_type": "execute_result"
    }
   ],
   "source": [
    "final['Merchnum_vdratio_0by7']"
   ]
  },
  {
   "cell_type": "code",
   "execution_count": 17,
   "metadata": {},
   "outputs": [],
   "source": [
    "#save the version 2 final in case of kernel die in following cells\n",
    "final.to_csv('final_vesion2.csv')"
   ]
  },
  {
   "cell_type": "markdown",
   "metadata": {
    "id": "d7zqNzn040Er"
   },
   "source": [
    "* **Cross entity uniqueness variables**"
   ]
  },
  {
   "cell_type": "code",
   "execution_count": 27,
   "metadata": {
    "id": "auLdSLFR4zUW"
   },
   "outputs": [
    {
     "name": "stdout",
     "output_type": "stream",
     "text": [
      "Run time for entity Cardnum in field Cardnum ---> Done\n",
      "Run time for entity Cardnum in field Merchnum ---> Done\n",
      "Run time for entity Cardnum in field Merch state ---> Done\n",
      "Run time for entity Cardnum in field Merch zip ---> Done\n",
      "Run time for entity Cardnum in field card_merch ---> Done\n",
      "Run time for entity Cardnum in field card_zip ---> Done\n"
     ]
    },
    {
     "name": "stderr",
     "output_type": "stream",
     "text": [
      "/var/folders/2f/fpszyvs50jl1c4sw9dlynhjm0000gn/T/ipykernel_78807/2589271082.py:9: PerformanceWarning: DataFrame is highly fragmented.  This is usually the result of calling `frame.insert` many times, which has poor performance.  Consider joining all columns at once using pd.concat(axis=1) instead. To get a de-fragmented frame, use `newframe = frame.copy()`\n",
      "  final[new_attributes] = df[entity].map(mapper3)\n",
      "/var/folders/2f/fpszyvs50jl1c4sw9dlynhjm0000gn/T/ipykernel_78807/2589271082.py:9: PerformanceWarning: DataFrame is highly fragmented.  This is usually the result of calling `frame.insert` many times, which has poor performance.  Consider joining all columns at once using pd.concat(axis=1) instead. To get a de-fragmented frame, use `newframe = frame.copy()`\n",
      "  final[new_attributes] = df[entity].map(mapper3)\n",
      "/var/folders/2f/fpszyvs50jl1c4sw9dlynhjm0000gn/T/ipykernel_78807/2589271082.py:9: PerformanceWarning: DataFrame is highly fragmented.  This is usually the result of calling `frame.insert` many times, which has poor performance.  Consider joining all columns at once using pd.concat(axis=1) instead. To get a de-fragmented frame, use `newframe = frame.copy()`\n",
      "  final[new_attributes] = df[entity].map(mapper3)\n"
     ]
    },
    {
     "name": "stdout",
     "output_type": "stream",
     "text": [
      "Run time for entity Cardnum in field card_state ---> Done\n",
      "Run time for entity Cardnum in field merch_zip ---> Done\n",
      "Run time for entity Cardnum in field merch_state ---> Done\n",
      "Run time for entity Merchnum in field Cardnum ---> Done\n",
      "Run time for entity Merchnum in field Merchnum ---> Done\n"
     ]
    },
    {
     "name": "stderr",
     "output_type": "stream",
     "text": [
      "/var/folders/2f/fpszyvs50jl1c4sw9dlynhjm0000gn/T/ipykernel_78807/2589271082.py:9: PerformanceWarning: DataFrame is highly fragmented.  This is usually the result of calling `frame.insert` many times, which has poor performance.  Consider joining all columns at once using pd.concat(axis=1) instead. To get a de-fragmented frame, use `newframe = frame.copy()`\n",
      "  final[new_attributes] = df[entity].map(mapper3)\n",
      "/var/folders/2f/fpszyvs50jl1c4sw9dlynhjm0000gn/T/ipykernel_78807/2589271082.py:9: PerformanceWarning: DataFrame is highly fragmented.  This is usually the result of calling `frame.insert` many times, which has poor performance.  Consider joining all columns at once using pd.concat(axis=1) instead. To get a de-fragmented frame, use `newframe = frame.copy()`\n",
      "  final[new_attributes] = df[entity].map(mapper3)\n",
      "/var/folders/2f/fpszyvs50jl1c4sw9dlynhjm0000gn/T/ipykernel_78807/2589271082.py:9: PerformanceWarning: DataFrame is highly fragmented.  This is usually the result of calling `frame.insert` many times, which has poor performance.  Consider joining all columns at once using pd.concat(axis=1) instead. To get a de-fragmented frame, use `newframe = frame.copy()`\n",
      "  final[new_attributes] = df[entity].map(mapper3)\n",
      "/var/folders/2f/fpszyvs50jl1c4sw9dlynhjm0000gn/T/ipykernel_78807/2589271082.py:9: PerformanceWarning: DataFrame is highly fragmented.  This is usually the result of calling `frame.insert` many times, which has poor performance.  Consider joining all columns at once using pd.concat(axis=1) instead. To get a de-fragmented frame, use `newframe = frame.copy()`\n",
      "  final[new_attributes] = df[entity].map(mapper3)\n",
      "/var/folders/2f/fpszyvs50jl1c4sw9dlynhjm0000gn/T/ipykernel_78807/2589271082.py:9: PerformanceWarning: DataFrame is highly fragmented.  This is usually the result of calling `frame.insert` many times, which has poor performance.  Consider joining all columns at once using pd.concat(axis=1) instead. To get a de-fragmented frame, use `newframe = frame.copy()`\n",
      "  final[new_attributes] = df[entity].map(mapper3)\n"
     ]
    },
    {
     "name": "stdout",
     "output_type": "stream",
     "text": [
      "Run time for entity Merchnum in field Merch state ---> Done\n",
      "Run time for entity Merchnum in field Merch zip ---> Done\n",
      "Run time for entity Merchnum in field card_merch ---> Done\n",
      "Run time for entity Merchnum in field card_zip ---> Done\n"
     ]
    },
    {
     "name": "stderr",
     "output_type": "stream",
     "text": [
      "/var/folders/2f/fpszyvs50jl1c4sw9dlynhjm0000gn/T/ipykernel_78807/2589271082.py:9: PerformanceWarning: DataFrame is highly fragmented.  This is usually the result of calling `frame.insert` many times, which has poor performance.  Consider joining all columns at once using pd.concat(axis=1) instead. To get a de-fragmented frame, use `newframe = frame.copy()`\n",
      "  final[new_attributes] = df[entity].map(mapper3)\n",
      "/var/folders/2f/fpszyvs50jl1c4sw9dlynhjm0000gn/T/ipykernel_78807/2589271082.py:9: PerformanceWarning: DataFrame is highly fragmented.  This is usually the result of calling `frame.insert` many times, which has poor performance.  Consider joining all columns at once using pd.concat(axis=1) instead. To get a de-fragmented frame, use `newframe = frame.copy()`\n",
      "  final[new_attributes] = df[entity].map(mapper3)\n",
      "/var/folders/2f/fpszyvs50jl1c4sw9dlynhjm0000gn/T/ipykernel_78807/2589271082.py:9: PerformanceWarning: DataFrame is highly fragmented.  This is usually the result of calling `frame.insert` many times, which has poor performance.  Consider joining all columns at once using pd.concat(axis=1) instead. To get a de-fragmented frame, use `newframe = frame.copy()`\n",
      "  final[new_attributes] = df[entity].map(mapper3)\n",
      "/var/folders/2f/fpszyvs50jl1c4sw9dlynhjm0000gn/T/ipykernel_78807/2589271082.py:9: PerformanceWarning: DataFrame is highly fragmented.  This is usually the result of calling `frame.insert` many times, which has poor performance.  Consider joining all columns at once using pd.concat(axis=1) instead. To get a de-fragmented frame, use `newframe = frame.copy()`\n",
      "  final[new_attributes] = df[entity].map(mapper3)\n"
     ]
    },
    {
     "name": "stdout",
     "output_type": "stream",
     "text": [
      "Run time for entity Merchnum in field card_state ---> Done\n",
      "Run time for entity Merchnum in field merch_zip ---> Done\n",
      "Run time for entity Merchnum in field merch_state ---> Done\n",
      "Run time for entity Merch state in field Cardnum ---> Done\n",
      "Run time for entity Merch state in field Merchnum ---> Done\n",
      "Run time for entity Merch state in field Merch state ---> Done\n",
      "Run time for entity Merch state in field Merch zip ---> Done\n"
     ]
    },
    {
     "name": "stderr",
     "output_type": "stream",
     "text": [
      "/var/folders/2f/fpszyvs50jl1c4sw9dlynhjm0000gn/T/ipykernel_78807/2589271082.py:9: PerformanceWarning: DataFrame is highly fragmented.  This is usually the result of calling `frame.insert` many times, which has poor performance.  Consider joining all columns at once using pd.concat(axis=1) instead. To get a de-fragmented frame, use `newframe = frame.copy()`\n",
      "  final[new_attributes] = df[entity].map(mapper3)\n",
      "/var/folders/2f/fpszyvs50jl1c4sw9dlynhjm0000gn/T/ipykernel_78807/2589271082.py:9: PerformanceWarning: DataFrame is highly fragmented.  This is usually the result of calling `frame.insert` many times, which has poor performance.  Consider joining all columns at once using pd.concat(axis=1) instead. To get a de-fragmented frame, use `newframe = frame.copy()`\n",
      "  final[new_attributes] = df[entity].map(mapper3)\n",
      "/var/folders/2f/fpszyvs50jl1c4sw9dlynhjm0000gn/T/ipykernel_78807/2589271082.py:9: PerformanceWarning: DataFrame is highly fragmented.  This is usually the result of calling `frame.insert` many times, which has poor performance.  Consider joining all columns at once using pd.concat(axis=1) instead. To get a de-fragmented frame, use `newframe = frame.copy()`\n",
      "  final[new_attributes] = df[entity].map(mapper3)\n",
      "/var/folders/2f/fpszyvs50jl1c4sw9dlynhjm0000gn/T/ipykernel_78807/2589271082.py:9: PerformanceWarning: DataFrame is highly fragmented.  This is usually the result of calling `frame.insert` many times, which has poor performance.  Consider joining all columns at once using pd.concat(axis=1) instead. To get a de-fragmented frame, use `newframe = frame.copy()`\n",
      "  final[new_attributes] = df[entity].map(mapper3)\n",
      "/var/folders/2f/fpszyvs50jl1c4sw9dlynhjm0000gn/T/ipykernel_78807/2589271082.py:9: PerformanceWarning: DataFrame is highly fragmented.  This is usually the result of calling `frame.insert` many times, which has poor performance.  Consider joining all columns at once using pd.concat(axis=1) instead. To get a de-fragmented frame, use `newframe = frame.copy()`\n",
      "  final[new_attributes] = df[entity].map(mapper3)\n",
      "/var/folders/2f/fpszyvs50jl1c4sw9dlynhjm0000gn/T/ipykernel_78807/2589271082.py:9: PerformanceWarning: DataFrame is highly fragmented.  This is usually the result of calling `frame.insert` many times, which has poor performance.  Consider joining all columns at once using pd.concat(axis=1) instead. To get a de-fragmented frame, use `newframe = frame.copy()`\n",
      "  final[new_attributes] = df[entity].map(mapper3)\n"
     ]
    },
    {
     "name": "stdout",
     "output_type": "stream",
     "text": [
      "Run time for entity Merch state in field card_merch ---> Done\n",
      "Run time for entity Merch state in field card_zip ---> Done\n",
      "Run time for entity Merch state in field card_state ---> Done\n",
      "Run time for entity Merch state in field merch_zip ---> Done\n",
      "Run time for entity Merch state in field merch_state ---> Done\n"
     ]
    },
    {
     "name": "stderr",
     "output_type": "stream",
     "text": [
      "/var/folders/2f/fpszyvs50jl1c4sw9dlynhjm0000gn/T/ipykernel_78807/2589271082.py:9: PerformanceWarning: DataFrame is highly fragmented.  This is usually the result of calling `frame.insert` many times, which has poor performance.  Consider joining all columns at once using pd.concat(axis=1) instead. To get a de-fragmented frame, use `newframe = frame.copy()`\n",
      "  final[new_attributes] = df[entity].map(mapper3)\n",
      "/var/folders/2f/fpszyvs50jl1c4sw9dlynhjm0000gn/T/ipykernel_78807/2589271082.py:9: PerformanceWarning: DataFrame is highly fragmented.  This is usually the result of calling `frame.insert` many times, which has poor performance.  Consider joining all columns at once using pd.concat(axis=1) instead. To get a de-fragmented frame, use `newframe = frame.copy()`\n",
      "  final[new_attributes] = df[entity].map(mapper3)\n",
      "/var/folders/2f/fpszyvs50jl1c4sw9dlynhjm0000gn/T/ipykernel_78807/2589271082.py:9: PerformanceWarning: DataFrame is highly fragmented.  This is usually the result of calling `frame.insert` many times, which has poor performance.  Consider joining all columns at once using pd.concat(axis=1) instead. To get a de-fragmented frame, use `newframe = frame.copy()`\n",
      "  final[new_attributes] = df[entity].map(mapper3)\n",
      "/var/folders/2f/fpszyvs50jl1c4sw9dlynhjm0000gn/T/ipykernel_78807/2589271082.py:9: PerformanceWarning: DataFrame is highly fragmented.  This is usually the result of calling `frame.insert` many times, which has poor performance.  Consider joining all columns at once using pd.concat(axis=1) instead. To get a de-fragmented frame, use `newframe = frame.copy()`\n",
      "  final[new_attributes] = df[entity].map(mapper3)\n",
      "/var/folders/2f/fpszyvs50jl1c4sw9dlynhjm0000gn/T/ipykernel_78807/2589271082.py:9: PerformanceWarning: DataFrame is highly fragmented.  This is usually the result of calling `frame.insert` many times, which has poor performance.  Consider joining all columns at once using pd.concat(axis=1) instead. To get a de-fragmented frame, use `newframe = frame.copy()`\n",
      "  final[new_attributes] = df[entity].map(mapper3)\n",
      "/var/folders/2f/fpszyvs50jl1c4sw9dlynhjm0000gn/T/ipykernel_78807/2589271082.py:9: PerformanceWarning: DataFrame is highly fragmented.  This is usually the result of calling `frame.insert` many times, which has poor performance.  Consider joining all columns at once using pd.concat(axis=1) instead. To get a de-fragmented frame, use `newframe = frame.copy()`\n",
      "  final[new_attributes] = df[entity].map(mapper3)\n"
     ]
    },
    {
     "name": "stdout",
     "output_type": "stream",
     "text": [
      "Run time for entity Merch zip in field Cardnum ---> Done\n",
      "Run time for entity Merch zip in field Merchnum ---> Done\n",
      "Run time for entity Merch zip in field Merch state ---> Done\n",
      "Run time for entity Merch zip in field Merch zip ---> Done\n",
      "Run time for entity Merch zip in field card_merch ---> Done\n",
      "Run time for entity Merch zip in field card_zip ---> Done\n"
     ]
    },
    {
     "name": "stderr",
     "output_type": "stream",
     "text": [
      "/var/folders/2f/fpszyvs50jl1c4sw9dlynhjm0000gn/T/ipykernel_78807/2589271082.py:9: PerformanceWarning: DataFrame is highly fragmented.  This is usually the result of calling `frame.insert` many times, which has poor performance.  Consider joining all columns at once using pd.concat(axis=1) instead. To get a de-fragmented frame, use `newframe = frame.copy()`\n",
      "  final[new_attributes] = df[entity].map(mapper3)\n",
      "/var/folders/2f/fpszyvs50jl1c4sw9dlynhjm0000gn/T/ipykernel_78807/2589271082.py:9: PerformanceWarning: DataFrame is highly fragmented.  This is usually the result of calling `frame.insert` many times, which has poor performance.  Consider joining all columns at once using pd.concat(axis=1) instead. To get a de-fragmented frame, use `newframe = frame.copy()`\n",
      "  final[new_attributes] = df[entity].map(mapper3)\n",
      "/var/folders/2f/fpszyvs50jl1c4sw9dlynhjm0000gn/T/ipykernel_78807/2589271082.py:9: PerformanceWarning: DataFrame is highly fragmented.  This is usually the result of calling `frame.insert` many times, which has poor performance.  Consider joining all columns at once using pd.concat(axis=1) instead. To get a de-fragmented frame, use `newframe = frame.copy()`\n",
      "  final[new_attributes] = df[entity].map(mapper3)\n",
      "/var/folders/2f/fpszyvs50jl1c4sw9dlynhjm0000gn/T/ipykernel_78807/2589271082.py:9: PerformanceWarning: DataFrame is highly fragmented.  This is usually the result of calling `frame.insert` many times, which has poor performance.  Consider joining all columns at once using pd.concat(axis=1) instead. To get a de-fragmented frame, use `newframe = frame.copy()`\n",
      "  final[new_attributes] = df[entity].map(mapper3)\n"
     ]
    },
    {
     "name": "stdout",
     "output_type": "stream",
     "text": [
      "Run time for entity Merch zip in field card_state ---> Done\n",
      "Run time for entity Merch zip in field merch_zip ---> Done\n",
      "Run time for entity Merch zip in field merch_state ---> Done\n",
      "Run time for entity card_merch in field Cardnum ---> Done\n"
     ]
    },
    {
     "name": "stderr",
     "output_type": "stream",
     "text": [
      "/var/folders/2f/fpszyvs50jl1c4sw9dlynhjm0000gn/T/ipykernel_78807/2589271082.py:9: PerformanceWarning: DataFrame is highly fragmented.  This is usually the result of calling `frame.insert` many times, which has poor performance.  Consider joining all columns at once using pd.concat(axis=1) instead. To get a de-fragmented frame, use `newframe = frame.copy()`\n",
      "  final[new_attributes] = df[entity].map(mapper3)\n",
      "/var/folders/2f/fpszyvs50jl1c4sw9dlynhjm0000gn/T/ipykernel_78807/2589271082.py:9: PerformanceWarning: DataFrame is highly fragmented.  This is usually the result of calling `frame.insert` many times, which has poor performance.  Consider joining all columns at once using pd.concat(axis=1) instead. To get a de-fragmented frame, use `newframe = frame.copy()`\n",
      "  final[new_attributes] = df[entity].map(mapper3)\n",
      "/var/folders/2f/fpszyvs50jl1c4sw9dlynhjm0000gn/T/ipykernel_78807/2589271082.py:9: PerformanceWarning: DataFrame is highly fragmented.  This is usually the result of calling `frame.insert` many times, which has poor performance.  Consider joining all columns at once using pd.concat(axis=1) instead. To get a de-fragmented frame, use `newframe = frame.copy()`\n",
      "  final[new_attributes] = df[entity].map(mapper3)\n",
      "/var/folders/2f/fpszyvs50jl1c4sw9dlynhjm0000gn/T/ipykernel_78807/2589271082.py:9: PerformanceWarning: DataFrame is highly fragmented.  This is usually the result of calling `frame.insert` many times, which has poor performance.  Consider joining all columns at once using pd.concat(axis=1) instead. To get a de-fragmented frame, use `newframe = frame.copy()`\n",
      "  final[new_attributes] = df[entity].map(mapper3)\n"
     ]
    },
    {
     "name": "stdout",
     "output_type": "stream",
     "text": [
      "Run time for entity card_merch in field Merchnum ---> Done\n",
      "Run time for entity card_merch in field Merch state ---> Done\n",
      "Run time for entity card_merch in field Merch zip ---> Done\n",
      "Run time for entity card_merch in field card_merch ---> Done\n"
     ]
    },
    {
     "name": "stderr",
     "output_type": "stream",
     "text": [
      "/var/folders/2f/fpszyvs50jl1c4sw9dlynhjm0000gn/T/ipykernel_78807/2589271082.py:9: PerformanceWarning: DataFrame is highly fragmented.  This is usually the result of calling `frame.insert` many times, which has poor performance.  Consider joining all columns at once using pd.concat(axis=1) instead. To get a de-fragmented frame, use `newframe = frame.copy()`\n",
      "  final[new_attributes] = df[entity].map(mapper3)\n",
      "/var/folders/2f/fpszyvs50jl1c4sw9dlynhjm0000gn/T/ipykernel_78807/2589271082.py:9: PerformanceWarning: DataFrame is highly fragmented.  This is usually the result of calling `frame.insert` many times, which has poor performance.  Consider joining all columns at once using pd.concat(axis=1) instead. To get a de-fragmented frame, use `newframe = frame.copy()`\n",
      "  final[new_attributes] = df[entity].map(mapper3)\n",
      "/var/folders/2f/fpszyvs50jl1c4sw9dlynhjm0000gn/T/ipykernel_78807/2589271082.py:9: PerformanceWarning: DataFrame is highly fragmented.  This is usually the result of calling `frame.insert` many times, which has poor performance.  Consider joining all columns at once using pd.concat(axis=1) instead. To get a de-fragmented frame, use `newframe = frame.copy()`\n",
      "  final[new_attributes] = df[entity].map(mapper3)\n"
     ]
    },
    {
     "name": "stdout",
     "output_type": "stream",
     "text": [
      "Run time for entity card_merch in field card_zip ---> Done\n",
      "Run time for entity card_merch in field card_state ---> Done\n",
      "Run time for entity card_merch in field merch_zip ---> Done\n"
     ]
    },
    {
     "name": "stderr",
     "output_type": "stream",
     "text": [
      "/var/folders/2f/fpszyvs50jl1c4sw9dlynhjm0000gn/T/ipykernel_78807/2589271082.py:9: PerformanceWarning: DataFrame is highly fragmented.  This is usually the result of calling `frame.insert` many times, which has poor performance.  Consider joining all columns at once using pd.concat(axis=1) instead. To get a de-fragmented frame, use `newframe = frame.copy()`\n",
      "  final[new_attributes] = df[entity].map(mapper3)\n",
      "/var/folders/2f/fpszyvs50jl1c4sw9dlynhjm0000gn/T/ipykernel_78807/2589271082.py:9: PerformanceWarning: DataFrame is highly fragmented.  This is usually the result of calling `frame.insert` many times, which has poor performance.  Consider joining all columns at once using pd.concat(axis=1) instead. To get a de-fragmented frame, use `newframe = frame.copy()`\n",
      "  final[new_attributes] = df[entity].map(mapper3)\n",
      "/var/folders/2f/fpszyvs50jl1c4sw9dlynhjm0000gn/T/ipykernel_78807/2589271082.py:9: PerformanceWarning: DataFrame is highly fragmented.  This is usually the result of calling `frame.insert` many times, which has poor performance.  Consider joining all columns at once using pd.concat(axis=1) instead. To get a de-fragmented frame, use `newframe = frame.copy()`\n",
      "  final[new_attributes] = df[entity].map(mapper3)\n",
      "/var/folders/2f/fpszyvs50jl1c4sw9dlynhjm0000gn/T/ipykernel_78807/2589271082.py:9: PerformanceWarning: DataFrame is highly fragmented.  This is usually the result of calling `frame.insert` many times, which has poor performance.  Consider joining all columns at once using pd.concat(axis=1) instead. To get a de-fragmented frame, use `newframe = frame.copy()`\n",
      "  final[new_attributes] = df[entity].map(mapper3)\n"
     ]
    },
    {
     "name": "stdout",
     "output_type": "stream",
     "text": [
      "Run time for entity card_merch in field merch_state ---> Done\n",
      "Run time for entity card_zip in field Cardnum ---> Done\n",
      "Run time for entity card_zip in field Merchnum ---> Done\n",
      "Run time for entity card_zip in field Merch state ---> Done\n"
     ]
    },
    {
     "name": "stderr",
     "output_type": "stream",
     "text": [
      "/var/folders/2f/fpszyvs50jl1c4sw9dlynhjm0000gn/T/ipykernel_78807/2589271082.py:9: PerformanceWarning: DataFrame is highly fragmented.  This is usually the result of calling `frame.insert` many times, which has poor performance.  Consider joining all columns at once using pd.concat(axis=1) instead. To get a de-fragmented frame, use `newframe = frame.copy()`\n",
      "  final[new_attributes] = df[entity].map(mapper3)\n",
      "/var/folders/2f/fpszyvs50jl1c4sw9dlynhjm0000gn/T/ipykernel_78807/2589271082.py:9: PerformanceWarning: DataFrame is highly fragmented.  This is usually the result of calling `frame.insert` many times, which has poor performance.  Consider joining all columns at once using pd.concat(axis=1) instead. To get a de-fragmented frame, use `newframe = frame.copy()`\n",
      "  final[new_attributes] = df[entity].map(mapper3)\n",
      "/var/folders/2f/fpszyvs50jl1c4sw9dlynhjm0000gn/T/ipykernel_78807/2589271082.py:9: PerformanceWarning: DataFrame is highly fragmented.  This is usually the result of calling `frame.insert` many times, which has poor performance.  Consider joining all columns at once using pd.concat(axis=1) instead. To get a de-fragmented frame, use `newframe = frame.copy()`\n",
      "  final[new_attributes] = df[entity].map(mapper3)\n"
     ]
    },
    {
     "name": "stdout",
     "output_type": "stream",
     "text": [
      "Run time for entity card_zip in field Merch zip ---> Done\n",
      "Run time for entity card_zip in field card_merch ---> Done\n",
      "Run time for entity card_zip in field card_zip ---> Done\n",
      "Run time for entity card_zip in field card_state ---> Done\n"
     ]
    },
    {
     "name": "stderr",
     "output_type": "stream",
     "text": [
      "/var/folders/2f/fpszyvs50jl1c4sw9dlynhjm0000gn/T/ipykernel_78807/2589271082.py:9: PerformanceWarning: DataFrame is highly fragmented.  This is usually the result of calling `frame.insert` many times, which has poor performance.  Consider joining all columns at once using pd.concat(axis=1) instead. To get a de-fragmented frame, use `newframe = frame.copy()`\n",
      "  final[new_attributes] = df[entity].map(mapper3)\n",
      "/var/folders/2f/fpszyvs50jl1c4sw9dlynhjm0000gn/T/ipykernel_78807/2589271082.py:9: PerformanceWarning: DataFrame is highly fragmented.  This is usually the result of calling `frame.insert` many times, which has poor performance.  Consider joining all columns at once using pd.concat(axis=1) instead. To get a de-fragmented frame, use `newframe = frame.copy()`\n",
      "  final[new_attributes] = df[entity].map(mapper3)\n",
      "/var/folders/2f/fpszyvs50jl1c4sw9dlynhjm0000gn/T/ipykernel_78807/2589271082.py:9: PerformanceWarning: DataFrame is highly fragmented.  This is usually the result of calling `frame.insert` many times, which has poor performance.  Consider joining all columns at once using pd.concat(axis=1) instead. To get a de-fragmented frame, use `newframe = frame.copy()`\n",
      "  final[new_attributes] = df[entity].map(mapper3)\n"
     ]
    },
    {
     "name": "stdout",
     "output_type": "stream",
     "text": [
      "Run time for entity card_zip in field merch_zip ---> Done\n",
      "Run time for entity card_zip in field merch_state ---> Done\n",
      "Run time for entity card_state in field Cardnum ---> Done\n",
      "Run time for entity card_state in field Merchnum ---> Done\n"
     ]
    },
    {
     "name": "stderr",
     "output_type": "stream",
     "text": [
      "/var/folders/2f/fpszyvs50jl1c4sw9dlynhjm0000gn/T/ipykernel_78807/2589271082.py:9: PerformanceWarning: DataFrame is highly fragmented.  This is usually the result of calling `frame.insert` many times, which has poor performance.  Consider joining all columns at once using pd.concat(axis=1) instead. To get a de-fragmented frame, use `newframe = frame.copy()`\n",
      "  final[new_attributes] = df[entity].map(mapper3)\n",
      "/var/folders/2f/fpszyvs50jl1c4sw9dlynhjm0000gn/T/ipykernel_78807/2589271082.py:9: PerformanceWarning: DataFrame is highly fragmented.  This is usually the result of calling `frame.insert` many times, which has poor performance.  Consider joining all columns at once using pd.concat(axis=1) instead. To get a de-fragmented frame, use `newframe = frame.copy()`\n",
      "  final[new_attributes] = df[entity].map(mapper3)\n",
      "/var/folders/2f/fpszyvs50jl1c4sw9dlynhjm0000gn/T/ipykernel_78807/2589271082.py:9: PerformanceWarning: DataFrame is highly fragmented.  This is usually the result of calling `frame.insert` many times, which has poor performance.  Consider joining all columns at once using pd.concat(axis=1) instead. To get a de-fragmented frame, use `newframe = frame.copy()`\n",
      "  final[new_attributes] = df[entity].map(mapper3)\n",
      "/var/folders/2f/fpszyvs50jl1c4sw9dlynhjm0000gn/T/ipykernel_78807/2589271082.py:9: PerformanceWarning: DataFrame is highly fragmented.  This is usually the result of calling `frame.insert` many times, which has poor performance.  Consider joining all columns at once using pd.concat(axis=1) instead. To get a de-fragmented frame, use `newframe = frame.copy()`\n",
      "  final[new_attributes] = df[entity].map(mapper3)\n"
     ]
    },
    {
     "name": "stdout",
     "output_type": "stream",
     "text": [
      "Run time for entity card_state in field Merch state ---> Done\n",
      "Run time for entity card_state in field Merch zip ---> Done\n",
      "Run time for entity card_state in field card_merch ---> Done\n",
      "Run time for entity card_state in field card_zip ---> Done\n",
      "Run time for entity card_state in field card_state ---> Done\n"
     ]
    },
    {
     "name": "stderr",
     "output_type": "stream",
     "text": [
      "/var/folders/2f/fpszyvs50jl1c4sw9dlynhjm0000gn/T/ipykernel_78807/2589271082.py:9: PerformanceWarning: DataFrame is highly fragmented.  This is usually the result of calling `frame.insert` many times, which has poor performance.  Consider joining all columns at once using pd.concat(axis=1) instead. To get a de-fragmented frame, use `newframe = frame.copy()`\n",
      "  final[new_attributes] = df[entity].map(mapper3)\n",
      "/var/folders/2f/fpszyvs50jl1c4sw9dlynhjm0000gn/T/ipykernel_78807/2589271082.py:9: PerformanceWarning: DataFrame is highly fragmented.  This is usually the result of calling `frame.insert` many times, which has poor performance.  Consider joining all columns at once using pd.concat(axis=1) instead. To get a de-fragmented frame, use `newframe = frame.copy()`\n",
      "  final[new_attributes] = df[entity].map(mapper3)\n",
      "/var/folders/2f/fpszyvs50jl1c4sw9dlynhjm0000gn/T/ipykernel_78807/2589271082.py:9: PerformanceWarning: DataFrame is highly fragmented.  This is usually the result of calling `frame.insert` many times, which has poor performance.  Consider joining all columns at once using pd.concat(axis=1) instead. To get a de-fragmented frame, use `newframe = frame.copy()`\n",
      "  final[new_attributes] = df[entity].map(mapper3)\n"
     ]
    },
    {
     "name": "stdout",
     "output_type": "stream",
     "text": [
      "Run time for entity card_state in field merch_zip ---> Done\n",
      "Run time for entity card_state in field merch_state ---> Done\n",
      "Run time for entity merch_zip in field Cardnum ---> Done\n",
      "Run time for entity merch_zip in field Merchnum ---> Done\n"
     ]
    },
    {
     "name": "stderr",
     "output_type": "stream",
     "text": [
      "/var/folders/2f/fpszyvs50jl1c4sw9dlynhjm0000gn/T/ipykernel_78807/2589271082.py:9: PerformanceWarning: DataFrame is highly fragmented.  This is usually the result of calling `frame.insert` many times, which has poor performance.  Consider joining all columns at once using pd.concat(axis=1) instead. To get a de-fragmented frame, use `newframe = frame.copy()`\n",
      "  final[new_attributes] = df[entity].map(mapper3)\n",
      "/var/folders/2f/fpszyvs50jl1c4sw9dlynhjm0000gn/T/ipykernel_78807/2589271082.py:9: PerformanceWarning: DataFrame is highly fragmented.  This is usually the result of calling `frame.insert` many times, which has poor performance.  Consider joining all columns at once using pd.concat(axis=1) instead. To get a de-fragmented frame, use `newframe = frame.copy()`\n",
      "  final[new_attributes] = df[entity].map(mapper3)\n",
      "/var/folders/2f/fpszyvs50jl1c4sw9dlynhjm0000gn/T/ipykernel_78807/2589271082.py:9: PerformanceWarning: DataFrame is highly fragmented.  This is usually the result of calling `frame.insert` many times, which has poor performance.  Consider joining all columns at once using pd.concat(axis=1) instead. To get a de-fragmented frame, use `newframe = frame.copy()`\n",
      "  final[new_attributes] = df[entity].map(mapper3)\n",
      "/var/folders/2f/fpszyvs50jl1c4sw9dlynhjm0000gn/T/ipykernel_78807/2589271082.py:9: PerformanceWarning: DataFrame is highly fragmented.  This is usually the result of calling `frame.insert` many times, which has poor performance.  Consider joining all columns at once using pd.concat(axis=1) instead. To get a de-fragmented frame, use `newframe = frame.copy()`\n",
      "  final[new_attributes] = df[entity].map(mapper3)\n"
     ]
    },
    {
     "name": "stdout",
     "output_type": "stream",
     "text": [
      "Run time for entity merch_zip in field Merch state ---> Done\n",
      "Run time for entity merch_zip in field Merch zip ---> Done\n",
      "Run time for entity merch_zip in field card_merch ---> Done\n"
     ]
    },
    {
     "name": "stderr",
     "output_type": "stream",
     "text": [
      "/var/folders/2f/fpszyvs50jl1c4sw9dlynhjm0000gn/T/ipykernel_78807/2589271082.py:9: PerformanceWarning: DataFrame is highly fragmented.  This is usually the result of calling `frame.insert` many times, which has poor performance.  Consider joining all columns at once using pd.concat(axis=1) instead. To get a de-fragmented frame, use `newframe = frame.copy()`\n",
      "  final[new_attributes] = df[entity].map(mapper3)\n",
      "/var/folders/2f/fpszyvs50jl1c4sw9dlynhjm0000gn/T/ipykernel_78807/2589271082.py:9: PerformanceWarning: DataFrame is highly fragmented.  This is usually the result of calling `frame.insert` many times, which has poor performance.  Consider joining all columns at once using pd.concat(axis=1) instead. To get a de-fragmented frame, use `newframe = frame.copy()`\n",
      "  final[new_attributes] = df[entity].map(mapper3)\n",
      "/var/folders/2f/fpszyvs50jl1c4sw9dlynhjm0000gn/T/ipykernel_78807/2589271082.py:9: PerformanceWarning: DataFrame is highly fragmented.  This is usually the result of calling `frame.insert` many times, which has poor performance.  Consider joining all columns at once using pd.concat(axis=1) instead. To get a de-fragmented frame, use `newframe = frame.copy()`\n",
      "  final[new_attributes] = df[entity].map(mapper3)\n"
     ]
    },
    {
     "name": "stdout",
     "output_type": "stream",
     "text": [
      "Run time for entity merch_zip in field card_zip ---> Done\n",
      "Run time for entity merch_zip in field card_state ---> Done\n",
      "Run time for entity merch_zip in field merch_zip ---> Done\n",
      "Run time for entity merch_zip in field merch_state ---> Done\n",
      "Run time for entity merch_state in field Cardnum ---> Done\n"
     ]
    },
    {
     "name": "stderr",
     "output_type": "stream",
     "text": [
      "/var/folders/2f/fpszyvs50jl1c4sw9dlynhjm0000gn/T/ipykernel_78807/2589271082.py:9: PerformanceWarning: DataFrame is highly fragmented.  This is usually the result of calling `frame.insert` many times, which has poor performance.  Consider joining all columns at once using pd.concat(axis=1) instead. To get a de-fragmented frame, use `newframe = frame.copy()`\n",
      "  final[new_attributes] = df[entity].map(mapper3)\n",
      "/var/folders/2f/fpszyvs50jl1c4sw9dlynhjm0000gn/T/ipykernel_78807/2589271082.py:9: PerformanceWarning: DataFrame is highly fragmented.  This is usually the result of calling `frame.insert` many times, which has poor performance.  Consider joining all columns at once using pd.concat(axis=1) instead. To get a de-fragmented frame, use `newframe = frame.copy()`\n",
      "  final[new_attributes] = df[entity].map(mapper3)\n",
      "/var/folders/2f/fpszyvs50jl1c4sw9dlynhjm0000gn/T/ipykernel_78807/2589271082.py:9: PerformanceWarning: DataFrame is highly fragmented.  This is usually the result of calling `frame.insert` many times, which has poor performance.  Consider joining all columns at once using pd.concat(axis=1) instead. To get a de-fragmented frame, use `newframe = frame.copy()`\n",
      "  final[new_attributes] = df[entity].map(mapper3)\n",
      "/var/folders/2f/fpszyvs50jl1c4sw9dlynhjm0000gn/T/ipykernel_78807/2589271082.py:9: PerformanceWarning: DataFrame is highly fragmented.  This is usually the result of calling `frame.insert` many times, which has poor performance.  Consider joining all columns at once using pd.concat(axis=1) instead. To get a de-fragmented frame, use `newframe = frame.copy()`\n",
      "  final[new_attributes] = df[entity].map(mapper3)\n",
      "/var/folders/2f/fpszyvs50jl1c4sw9dlynhjm0000gn/T/ipykernel_78807/2589271082.py:9: PerformanceWarning: DataFrame is highly fragmented.  This is usually the result of calling `frame.insert` many times, which has poor performance.  Consider joining all columns at once using pd.concat(axis=1) instead. To get a de-fragmented frame, use `newframe = frame.copy()`\n",
      "  final[new_attributes] = df[entity].map(mapper3)\n"
     ]
    },
    {
     "name": "stdout",
     "output_type": "stream",
     "text": [
      "Run time for entity merch_state in field Merchnum ---> Done\n",
      "Run time for entity merch_state in field Merch state ---> Done\n",
      "Run time for entity merch_state in field Merch zip ---> Done\n",
      "Run time for entity merch_state in field card_merch ---> Done\n"
     ]
    },
    {
     "name": "stderr",
     "output_type": "stream",
     "text": [
      "/var/folders/2f/fpszyvs50jl1c4sw9dlynhjm0000gn/T/ipykernel_78807/2589271082.py:9: PerformanceWarning: DataFrame is highly fragmented.  This is usually the result of calling `frame.insert` many times, which has poor performance.  Consider joining all columns at once using pd.concat(axis=1) instead. To get a de-fragmented frame, use `newframe = frame.copy()`\n",
      "  final[new_attributes] = df[entity].map(mapper3)\n",
      "/var/folders/2f/fpszyvs50jl1c4sw9dlynhjm0000gn/T/ipykernel_78807/2589271082.py:9: PerformanceWarning: DataFrame is highly fragmented.  This is usually the result of calling `frame.insert` many times, which has poor performance.  Consider joining all columns at once using pd.concat(axis=1) instead. To get a de-fragmented frame, use `newframe = frame.copy()`\n",
      "  final[new_attributes] = df[entity].map(mapper3)\n",
      "/var/folders/2f/fpszyvs50jl1c4sw9dlynhjm0000gn/T/ipykernel_78807/2589271082.py:9: PerformanceWarning: DataFrame is highly fragmented.  This is usually the result of calling `frame.insert` many times, which has poor performance.  Consider joining all columns at once using pd.concat(axis=1) instead. To get a de-fragmented frame, use `newframe = frame.copy()`\n",
      "  final[new_attributes] = df[entity].map(mapper3)\n"
     ]
    },
    {
     "name": "stdout",
     "output_type": "stream",
     "text": [
      "Run time for entity merch_state in field card_zip ---> Done\n",
      "Run time for entity merch_state in field card_state ---> Done\n",
      "Run time for entity merch_state in field merch_zip ---> Done\n",
      "Run time for entity merch_state in field merch_state ---> Done\n"
     ]
    },
    {
     "name": "stderr",
     "output_type": "stream",
     "text": [
      "/var/folders/2f/fpszyvs50jl1c4sw9dlynhjm0000gn/T/ipykernel_78807/2589271082.py:9: PerformanceWarning: DataFrame is highly fragmented.  This is usually the result of calling `frame.insert` many times, which has poor performance.  Consider joining all columns at once using pd.concat(axis=1) instead. To get a de-fragmented frame, use `newframe = frame.copy()`\n",
      "  final[new_attributes] = df[entity].map(mapper3)\n",
      "/var/folders/2f/fpszyvs50jl1c4sw9dlynhjm0000gn/T/ipykernel_78807/2589271082.py:9: PerformanceWarning: DataFrame is highly fragmented.  This is usually the result of calling `frame.insert` many times, which has poor performance.  Consider joining all columns at once using pd.concat(axis=1) instead. To get a de-fragmented frame, use `newframe = frame.copy()`\n",
      "  final[new_attributes] = df[entity].map(mapper3)\n"
     ]
    }
   ],
   "source": [
    "# Cross entity uniqueness variables\n",
    "for entity in entities: \n",
    "    for field in entities:\n",
    "        st = timeit.default_timer()\n",
    "        if entity != field:\n",
    "            new_attributes = f'{entity}_{field}_nunique'\n",
    "            if new_attributes not in list(final.columns):\n",
    "                mapper3 = df.groupby(entity)[field].nunique()\n",
    "                final[new_attributes] = df[entity].map(mapper3)\n",
    "        print(f'Run time for entity {entity} in field {field}'+ ' ---> Done')"
   ]
  },
  {
   "cell_type": "code",
   "execution_count": null,
   "metadata": {},
   "outputs": [],
   "source": []
  },
  {
   "cell_type": "markdown",
   "metadata": {
    "id": "IMyr3yqY44sZ"
   },
   "source": [
    "* **Velocity Change**"
   ]
  },
  {
   "cell_type": "code",
   "execution_count": 26,
   "metadata": {
    "id": "OiIAmK1b44cf"
   },
   "outputs": [],
   "source": [
    "# frequencies\n",
    "import timeit\n",
    "import datetime as dt\n",
    "start = timeit.default_timer()\n",
    "df2 = df.copy()\n",
    "df2['check_date'] = df2.Date\n",
    "df2['check_recnum'] = df2.Recnum\n",
    "df_2 = df2[['Recnum', 'Date', 'Amount', 'Cardnum', 'Merchnum']]\n",
    "df_s = df2[['check_recnum', 'check_date', 'Amount', 'Cardnum', 'Merchnum']]\n",
    "temp2 = pd.merge(df_2, df_s, left_on = 'Cardnum', right_on = 'Cardnum')\n",
    "\n",
    "#Frequency Mappers\n",
    "# groupers = ['Cardnum', 'Merchnum']\n",
    "groupers = ['Cardnum']\n",
    "for grouper in groupers: \n",
    "    for d in [0,1]:\n",
    "        for dd in [3,7,14,30]:\n",
    "            numerator_df = temp2[(temp2.check_date >= (temp2.Date - dt.timedelta(d)))\n",
    "                               & (temp2.Recnum >= temp2.check_recnum)]\n",
    "            denominator_df = temp2[(temp2.check_date >= (temp2.Date - dt.timedelta(dd)))\n",
    "                               & (temp2.Recnum >= temp2.check_recnum)]\n",
    "\n",
    "            numerator = numerator_df.groupby(grouper)['Recnum'].count()\n",
    "            denominator = denominator_df.groupby(grouper)['Recnum'].count()/dd\n",
    "\n",
    "            colname = 'velocity_change_count_by_' + grouper + '_' + str(d) + '_days_over_' + str(dd)\n",
    "\n",
    "            final[colname] = final[grouper].map(numerator)/final[grouper].map(denominator)"
   ]
  },
  {
   "cell_type": "code",
   "execution_count": 26,
   "metadata": {},
   "outputs": [
    {
     "name": "stderr",
     "output_type": "stream",
     "text": [
      "/var/folders/2f/fpszyvs50jl1c4sw9dlynhjm0000gn/T/ipykernel_78807/794439165.py:24: PerformanceWarning: DataFrame is highly fragmented.  This is usually the result of calling `frame.insert` many times, which has poor performance.  Consider joining all columns at once using pd.concat(axis=1) instead. To get a de-fragmented frame, use `newframe = frame.copy()`\n",
      "  final[colname] = final[grouper].map(numerator)/final[grouper].map(denominator)\n",
      "/var/folders/2f/fpszyvs50jl1c4sw9dlynhjm0000gn/T/ipykernel_78807/794439165.py:24: PerformanceWarning: DataFrame is highly fragmented.  This is usually the result of calling `frame.insert` many times, which has poor performance.  Consider joining all columns at once using pd.concat(axis=1) instead. To get a de-fragmented frame, use `newframe = frame.copy()`\n",
      "  final[colname] = final[grouper].map(numerator)/final[grouper].map(denominator)\n",
      "/var/folders/2f/fpszyvs50jl1c4sw9dlynhjm0000gn/T/ipykernel_78807/794439165.py:24: PerformanceWarning: DataFrame is highly fragmented.  This is usually the result of calling `frame.insert` many times, which has poor performance.  Consider joining all columns at once using pd.concat(axis=1) instead. To get a de-fragmented frame, use `newframe = frame.copy()`\n",
      "  final[colname] = final[grouper].map(numerator)/final[grouper].map(denominator)\n",
      "/var/folders/2f/fpszyvs50jl1c4sw9dlynhjm0000gn/T/ipykernel_78807/794439165.py:24: PerformanceWarning: DataFrame is highly fragmented.  This is usually the result of calling `frame.insert` many times, which has poor performance.  Consider joining all columns at once using pd.concat(axis=1) instead. To get a de-fragmented frame, use `newframe = frame.copy()`\n",
      "  final[colname] = final[grouper].map(numerator)/final[grouper].map(denominator)\n",
      "/var/folders/2f/fpszyvs50jl1c4sw9dlynhjm0000gn/T/ipykernel_78807/794439165.py:24: PerformanceWarning: DataFrame is highly fragmented.  This is usually the result of calling `frame.insert` many times, which has poor performance.  Consider joining all columns at once using pd.concat(axis=1) instead. To get a de-fragmented frame, use `newframe = frame.copy()`\n",
      "  final[colname] = final[grouper].map(numerator)/final[grouper].map(denominator)\n",
      "/var/folders/2f/fpszyvs50jl1c4sw9dlynhjm0000gn/T/ipykernel_78807/794439165.py:24: PerformanceWarning: DataFrame is highly fragmented.  This is usually the result of calling `frame.insert` many times, which has poor performance.  Consider joining all columns at once using pd.concat(axis=1) instead. To get a de-fragmented frame, use `newframe = frame.copy()`\n",
      "  final[colname] = final[grouper].map(numerator)/final[grouper].map(denominator)\n",
      "/var/folders/2f/fpszyvs50jl1c4sw9dlynhjm0000gn/T/ipykernel_78807/794439165.py:24: PerformanceWarning: DataFrame is highly fragmented.  This is usually the result of calling `frame.insert` many times, which has poor performance.  Consider joining all columns at once using pd.concat(axis=1) instead. To get a de-fragmented frame, use `newframe = frame.copy()`\n",
      "  final[colname] = final[grouper].map(numerator)/final[grouper].map(denominator)\n",
      "/var/folders/2f/fpszyvs50jl1c4sw9dlynhjm0000gn/T/ipykernel_78807/794439165.py:24: PerformanceWarning: DataFrame is highly fragmented.  This is usually the result of calling `frame.insert` many times, which has poor performance.  Consider joining all columns at once using pd.concat(axis=1) instead. To get a de-fragmented frame, use `newframe = frame.copy()`\n",
      "  final[colname] = final[grouper].map(numerator)/final[grouper].map(denominator)\n"
     ]
    }
   ],
   "source": [
    "df2 = df.copy()\n",
    "df2['check_date'] = df2.Date\n",
    "df2['check_recnum'] = df2.Recnum\n",
    "df_2 = df2[['Recnum', 'Date', 'Amount', 'Cardnum', 'Merchnum']]\n",
    "df_s = df2[['check_recnum', 'check_date', 'Amount', 'Cardnum', 'Merchnum']]\n",
    "temp2 = pd.merge(df_2, df_s, left_on = 'Merchnum', right_on = 'Merchnum')\n",
    "\n",
    "#Frequency Mappers\n",
    "# groupers = ['Cardnum', 'Merchnum']\n",
    "groupers = ['Merchnum']\n",
    "for grouper in groupers: \n",
    "    for d in [0,1]:\n",
    "        for dd in [3,7,14,30]:\n",
    "            numerator_df = temp2[(temp2.check_date >= (temp2.Date - dt.timedelta(d)))\n",
    "                               & (temp2.Recnum >= temp2.check_recnum)]\n",
    "            denominator_df = temp2[(temp2.check_date >= (temp2.Date - dt.timedelta(dd)))\n",
    "                               & (temp2.Recnum >= temp2.check_recnum)]\n",
    "\n",
    "            numerator = numerator_df.groupby(grouper)['Recnum'].count()\n",
    "            denominator = denominator_df.groupby(grouper)['Recnum'].count()/dd\n",
    "\n",
    "            colname = 'velocity_change_count_by_' + grouper + '_' + str(d) + '_days_over_' + str(dd)\n",
    "\n",
    "            final[colname] = final[grouper].map(numerator)/final[grouper].map(denominator)"
   ]
  },
  {
   "cell_type": "code",
   "execution_count": null,
   "metadata": {},
   "outputs": [],
   "source": []
  },
  {
   "cell_type": "markdown",
   "metadata": {
    "id": "g-lHRYZ75FR8"
   },
   "source": [
    "* **Variability** "
   ]
  },
  {
   "cell_type": "code",
   "execution_count": null,
   "metadata": {},
   "outputs": [],
   "source": [
    "df1 = data.copy()\n",
    "df1['check_date'] = df1.Date\n",
    "df1['check_recnum'] = df1.Recnum"
   ]
  },
  {
   "cell_type": "code",
   "execution_count": null,
   "metadata": {
    "id": "YUh7O0kU5KJ_"
   },
   "outputs": [],
   "source": [
    "# variability\n",
    "\n",
    "for entity in entities:\n",
    "    try: print('Run time for the last entity ----------------- {}s'.format(timeit.default_timer() - st))\n",
    "    except: \n",
    "        print('')\n",
    "    st = timeit.default_timer() \n",
    "    df_l = df1[['Recnum', 'Date', entity,'Amount']]\n",
    "    df_r = df1[['check_record', 'check_date', entity, 'Amount']]\n",
    "    temp = pd.merge(df_l, df_r, left_on = entity, right_on = entity)\n",
    "    \n",
    "    for time in [0,1,3,7,14,30]:\n",
    "        temp2 = temp[(temp.check_date >= (temp.Date - dt.timedelta(time))) &\\\n",
    "                       (temp.Recnum >= temp.check_record)][['Recnum', 'check_record',entity, 'Amount_x','Amount_y']]\n",
    "        temp2['Amount_diff']=temp2['Amount_y']-temp2['Amount_x']\n",
    "\n",
    "        col_name = entity + '_variability_avg_' + str(time)\n",
    "        mapper2 = temp2.groupby('Recnum')['Amount_diff'].mean()\n",
    "        final[col_name] = final.Recnum.map(mapper2)        \n",
    "        print(col_name + ' ---> Done')\n",
    "        \n",
    "        col_name = entity + '_variability_max_' + str(time)\n",
    "        mapper2 = temp2.groupby('Recnum')['Amount_diff'].max()\n",
    "        final[col_name] = final.Recnum.map(mapper2)        \n",
    "        print(col_name + ' ---> Done')\n",
    "        \n",
    "        col_name = entity + '_variability_med_' + str(time)\n",
    "        mapper2 = temp2.groupby('Recnum')['Amount_diff'].median()\n",
    "        final[col_name] = final.Recnum.map(mapper2)        \n",
    "        print(col_name + ' ---> Done')\n",
    "        \n",
    "        print(entity + ' amount variables over past ' + str(time) + ' ---> Done')"
   ]
  },
  {
   "cell_type": "markdown",
   "metadata": {
    "id": "tJLZj-Uf5OxR"
   },
   "source": [
    "* **Unique Count**"
   ]
  },
  {
   "cell_type": "code",
   "execution_count": null,
   "metadata": {
    "id": "lpKKx3eN5NTk"
   },
   "outputs": [],
   "source": [
    "for i in entities:\n",
    "    for v in entities:\n",
    "        if i==v:\n",
    "            continue\n",
    "        else:\n",
    "            df_c=df1[['Recnum','Date',i]]\n",
    "            df_d=df1[['check_record','check_date',i,v]]\n",
    "            temp=pd.merge(df_c,df_d,left_on=i,right_on=i)\n",
    "            \n",
    "        for t in [1,3,7,14,30]:\n",
    "            count_day_df=temp[(temp.check_date>=(temp.Date-dt.timedelta(t)))&(temp.Recnum>=temp.check_record)]\n",
    "            col_name=f'{i}_unique_count_for_{v}_{t}'\n",
    "            mapper=count_day_df.groupby(['Recnum'])[v].nunique()\n",
    "            final[col_name]=final.Recnum.map(mapper)"
   ]
  },
  {
   "cell_type": "markdown",
   "metadata": {
    "id": "Gn8fiP6O5Twb"
   },
   "source": [
    "* **Amount**"
   ]
  },
  {
   "cell_type": "code",
   "execution_count": null,
   "metadata": {
    "id": "Q001Bal_5W0l"
   },
   "outputs": [],
   "source": [
    "# Amount bins\n",
    "AMOUNT = True\n",
    "if AMOUNT:\n",
    "      final['amount_cat'] = pd.qcut(final.Amount, q=5,labels=[1,2,3,4,5])\n",
    "      \n",
    "      final['amount_cat'].value_counts().plot(kind='barh')\n",
    "      plt.show()\n",
    "      \n",
    "      qcut_series, qcut_intervals = pd.qcut(final.Amount, q=5,labels=[1,2,3,4,5],retbins=True)\n",
    "      \n",
    "      qcut_series.value_counts()"
   ]
  },
  {
   "cell_type": "code",
   "execution_count": 22,
   "metadata": {},
   "outputs": [
    {
     "data": {
      "text/plain": [
       "0        1\n",
       "1        2\n",
       "2        3\n",
       "3        1\n",
       "4        1\n",
       "        ..\n",
       "96748    2\n",
       "96749    3\n",
       "96750    4\n",
       "96751    5\n",
       "96752    5\n",
       "Name: amount_cat, Length: 96397, dtype: int64"
      ]
     },
     "execution_count": 22,
     "metadata": {},
     "output_type": "execute_result"
    }
   ],
   "source": [
    "final['amount_cat']"
   ]
  },
  {
   "cell_type": "markdown",
   "metadata": {
    "id": "UhlLYkbg5Y_-"
   },
   "source": [
    "* **Acceleration**"
   ]
  },
  {
   "cell_type": "code",
   "execution_count": 21,
   "metadata": {
    "id": "ncP_Xkjw5jL_"
   },
   "outputs": [
    {
     "name": "stdout",
     "output_type": "stream",
     "text": [
      "Cardnum\n",
      "Merchnum\n",
      "Merch state\n",
      "Merch zip\n",
      "card_merch\n",
      "card_zip\n",
      "card_state\n",
      "merch_zip\n",
      "merch_state\n"
     ]
    },
    {
     "name": "stderr",
     "output_type": "stream",
     "text": [
      "/var/folders/2f/fpszyvs50jl1c4sw9dlynhjm0000gn/T/ipykernel_78807/3222937936.py:6: PerformanceWarning: DataFrame is highly fragmented.  This is usually the result of calling `frame.insert` many times, which has poor performance.  Consider joining all columns at once using pd.concat(axis=1) instead. To get a de-fragmented frame, use `newframe = frame.copy()`\n",
      "  final[ent + '_count_' + d + '_by_' + dd + \"_sq\"] =\\\n",
      "/var/folders/2f/fpszyvs50jl1c4sw9dlynhjm0000gn/T/ipykernel_78807/3222937936.py:6: PerformanceWarning: DataFrame is highly fragmented.  This is usually the result of calling `frame.insert` many times, which has poor performance.  Consider joining all columns at once using pd.concat(axis=1) instead. To get a de-fragmented frame, use `newframe = frame.copy()`\n",
      "  final[ent + '_count_' + d + '_by_' + dd + \"_sq\"] =\\\n",
      "/var/folders/2f/fpszyvs50jl1c4sw9dlynhjm0000gn/T/ipykernel_78807/3222937936.py:6: PerformanceWarning: DataFrame is highly fragmented.  This is usually the result of calling `frame.insert` many times, which has poor performance.  Consider joining all columns at once using pd.concat(axis=1) instead. To get a de-fragmented frame, use `newframe = frame.copy()`\n",
      "  final[ent + '_count_' + d + '_by_' + dd + \"_sq\"] =\\\n",
      "/var/folders/2f/fpszyvs50jl1c4sw9dlynhjm0000gn/T/ipykernel_78807/3222937936.py:6: PerformanceWarning: DataFrame is highly fragmented.  This is usually the result of calling `frame.insert` many times, which has poor performance.  Consider joining all columns at once using pd.concat(axis=1) instead. To get a de-fragmented frame, use `newframe = frame.copy()`\n",
      "  final[ent + '_count_' + d + '_by_' + dd + \"_sq\"] =\\\n",
      "/var/folders/2f/fpszyvs50jl1c4sw9dlynhjm0000gn/T/ipykernel_78807/3222937936.py:6: PerformanceWarning: DataFrame is highly fragmented.  This is usually the result of calling `frame.insert` many times, which has poor performance.  Consider joining all columns at once using pd.concat(axis=1) instead. To get a de-fragmented frame, use `newframe = frame.copy()`\n",
      "  final[ent + '_count_' + d + '_by_' + dd + \"_sq\"] =\\\n",
      "/var/folders/2f/fpszyvs50jl1c4sw9dlynhjm0000gn/T/ipykernel_78807/3222937936.py:6: PerformanceWarning: DataFrame is highly fragmented.  This is usually the result of calling `frame.insert` many times, which has poor performance.  Consider joining all columns at once using pd.concat(axis=1) instead. To get a de-fragmented frame, use `newframe = frame.copy()`\n",
      "  final[ent + '_count_' + d + '_by_' + dd + \"_sq\"] =\\\n",
      "/var/folders/2f/fpszyvs50jl1c4sw9dlynhjm0000gn/T/ipykernel_78807/3222937936.py:6: PerformanceWarning: DataFrame is highly fragmented.  This is usually the result of calling `frame.insert` many times, which has poor performance.  Consider joining all columns at once using pd.concat(axis=1) instead. To get a de-fragmented frame, use `newframe = frame.copy()`\n",
      "  final[ent + '_count_' + d + '_by_' + dd + \"_sq\"] =\\\n",
      "/var/folders/2f/fpszyvs50jl1c4sw9dlynhjm0000gn/T/ipykernel_78807/3222937936.py:6: PerformanceWarning: DataFrame is highly fragmented.  This is usually the result of calling `frame.insert` many times, which has poor performance.  Consider joining all columns at once using pd.concat(axis=1) instead. To get a de-fragmented frame, use `newframe = frame.copy()`\n",
      "  final[ent + '_count_' + d + '_by_' + dd + \"_sq\"] =\\\n",
      "/var/folders/2f/fpszyvs50jl1c4sw9dlynhjm0000gn/T/ipykernel_78807/3222937936.py:6: PerformanceWarning: DataFrame is highly fragmented.  This is usually the result of calling `frame.insert` many times, which has poor performance.  Consider joining all columns at once using pd.concat(axis=1) instead. To get a de-fragmented frame, use `newframe = frame.copy()`\n",
      "  final[ent + '_count_' + d + '_by_' + dd + \"_sq\"] =\\\n",
      "/var/folders/2f/fpszyvs50jl1c4sw9dlynhjm0000gn/T/ipykernel_78807/3222937936.py:6: PerformanceWarning: DataFrame is highly fragmented.  This is usually the result of calling `frame.insert` many times, which has poor performance.  Consider joining all columns at once using pd.concat(axis=1) instead. To get a de-fragmented frame, use `newframe = frame.copy()`\n",
      "  final[ent + '_count_' + d + '_by_' + dd + \"_sq\"] =\\\n",
      "/var/folders/2f/fpszyvs50jl1c4sw9dlynhjm0000gn/T/ipykernel_78807/3222937936.py:6: PerformanceWarning: DataFrame is highly fragmented.  This is usually the result of calling `frame.insert` many times, which has poor performance.  Consider joining all columns at once using pd.concat(axis=1) instead. To get a de-fragmented frame, use `newframe = frame.copy()`\n",
      "  final[ent + '_count_' + d + '_by_' + dd + \"_sq\"] =\\\n",
      "/var/folders/2f/fpszyvs50jl1c4sw9dlynhjm0000gn/T/ipykernel_78807/3222937936.py:6: PerformanceWarning: DataFrame is highly fragmented.  This is usually the result of calling `frame.insert` many times, which has poor performance.  Consider joining all columns at once using pd.concat(axis=1) instead. To get a de-fragmented frame, use `newframe = frame.copy()`\n",
      "  final[ent + '_count_' + d + '_by_' + dd + \"_sq\"] =\\\n",
      "/var/folders/2f/fpszyvs50jl1c4sw9dlynhjm0000gn/T/ipykernel_78807/3222937936.py:6: PerformanceWarning: DataFrame is highly fragmented.  This is usually the result of calling `frame.insert` many times, which has poor performance.  Consider joining all columns at once using pd.concat(axis=1) instead. To get a de-fragmented frame, use `newframe = frame.copy()`\n",
      "  final[ent + '_count_' + d + '_by_' + dd + \"_sq\"] =\\\n",
      "/var/folders/2f/fpszyvs50jl1c4sw9dlynhjm0000gn/T/ipykernel_78807/3222937936.py:6: PerformanceWarning: DataFrame is highly fragmented.  This is usually the result of calling `frame.insert` many times, which has poor performance.  Consider joining all columns at once using pd.concat(axis=1) instead. To get a de-fragmented frame, use `newframe = frame.copy()`\n",
      "  final[ent + '_count_' + d + '_by_' + dd + \"_sq\"] =\\\n",
      "/var/folders/2f/fpszyvs50jl1c4sw9dlynhjm0000gn/T/ipykernel_78807/3222937936.py:6: PerformanceWarning: DataFrame is highly fragmented.  This is usually the result of calling `frame.insert` many times, which has poor performance.  Consider joining all columns at once using pd.concat(axis=1) instead. To get a de-fragmented frame, use `newframe = frame.copy()`\n",
      "  final[ent + '_count_' + d + '_by_' + dd + \"_sq\"] =\\\n",
      "/var/folders/2f/fpszyvs50jl1c4sw9dlynhjm0000gn/T/ipykernel_78807/3222937936.py:6: PerformanceWarning: DataFrame is highly fragmented.  This is usually the result of calling `frame.insert` many times, which has poor performance.  Consider joining all columns at once using pd.concat(axis=1) instead. To get a de-fragmented frame, use `newframe = frame.copy()`\n",
      "  final[ent + '_count_' + d + '_by_' + dd + \"_sq\"] =\\\n",
      "/var/folders/2f/fpszyvs50jl1c4sw9dlynhjm0000gn/T/ipykernel_78807/3222937936.py:6: PerformanceWarning: DataFrame is highly fragmented.  This is usually the result of calling `frame.insert` many times, which has poor performance.  Consider joining all columns at once using pd.concat(axis=1) instead. To get a de-fragmented frame, use `newframe = frame.copy()`\n",
      "  final[ent + '_count_' + d + '_by_' + dd + \"_sq\"] =\\\n",
      "/var/folders/2f/fpszyvs50jl1c4sw9dlynhjm0000gn/T/ipykernel_78807/3222937936.py:6: PerformanceWarning: DataFrame is highly fragmented.  This is usually the result of calling `frame.insert` many times, which has poor performance.  Consider joining all columns at once using pd.concat(axis=1) instead. To get a de-fragmented frame, use `newframe = frame.copy()`\n",
      "  final[ent + '_count_' + d + '_by_' + dd + \"_sq\"] =\\\n",
      "/var/folders/2f/fpszyvs50jl1c4sw9dlynhjm0000gn/T/ipykernel_78807/3222937936.py:6: PerformanceWarning: DataFrame is highly fragmented.  This is usually the result of calling `frame.insert` many times, which has poor performance.  Consider joining all columns at once using pd.concat(axis=1) instead. To get a de-fragmented frame, use `newframe = frame.copy()`\n",
      "  final[ent + '_count_' + d + '_by_' + dd + \"_sq\"] =\\\n",
      "/var/folders/2f/fpszyvs50jl1c4sw9dlynhjm0000gn/T/ipykernel_78807/3222937936.py:6: PerformanceWarning: DataFrame is highly fragmented.  This is usually the result of calling `frame.insert` many times, which has poor performance.  Consider joining all columns at once using pd.concat(axis=1) instead. To get a de-fragmented frame, use `newframe = frame.copy()`\n",
      "  final[ent + '_count_' + d + '_by_' + dd + \"_sq\"] =\\\n",
      "/var/folders/2f/fpszyvs50jl1c4sw9dlynhjm0000gn/T/ipykernel_78807/3222937936.py:6: PerformanceWarning: DataFrame is highly fragmented.  This is usually the result of calling `frame.insert` many times, which has poor performance.  Consider joining all columns at once using pd.concat(axis=1) instead. To get a de-fragmented frame, use `newframe = frame.copy()`\n",
      "  final[ent + '_count_' + d + '_by_' + dd + \"_sq\"] =\\\n",
      "/var/folders/2f/fpszyvs50jl1c4sw9dlynhjm0000gn/T/ipykernel_78807/3222937936.py:6: PerformanceWarning: DataFrame is highly fragmented.  This is usually the result of calling `frame.insert` many times, which has poor performance.  Consider joining all columns at once using pd.concat(axis=1) instead. To get a de-fragmented frame, use `newframe = frame.copy()`\n",
      "  final[ent + '_count_' + d + '_by_' + dd + \"_sq\"] =\\\n",
      "/var/folders/2f/fpszyvs50jl1c4sw9dlynhjm0000gn/T/ipykernel_78807/3222937936.py:6: PerformanceWarning: DataFrame is highly fragmented.  This is usually the result of calling `frame.insert` many times, which has poor performance.  Consider joining all columns at once using pd.concat(axis=1) instead. To get a de-fragmented frame, use `newframe = frame.copy()`\n",
      "  final[ent + '_count_' + d + '_by_' + dd + \"_sq\"] =\\\n",
      "/var/folders/2f/fpszyvs50jl1c4sw9dlynhjm0000gn/T/ipykernel_78807/3222937936.py:6: PerformanceWarning: DataFrame is highly fragmented.  This is usually the result of calling `frame.insert` many times, which has poor performance.  Consider joining all columns at once using pd.concat(axis=1) instead. To get a de-fragmented frame, use `newframe = frame.copy()`\n",
      "  final[ent + '_count_' + d + '_by_' + dd + \"_sq\"] =\\\n",
      "/var/folders/2f/fpszyvs50jl1c4sw9dlynhjm0000gn/T/ipykernel_78807/3222937936.py:6: PerformanceWarning: DataFrame is highly fragmented.  This is usually the result of calling `frame.insert` many times, which has poor performance.  Consider joining all columns at once using pd.concat(axis=1) instead. To get a de-fragmented frame, use `newframe = frame.copy()`\n",
      "  final[ent + '_count_' + d + '_by_' + dd + \"_sq\"] =\\\n",
      "/var/folders/2f/fpszyvs50jl1c4sw9dlynhjm0000gn/T/ipykernel_78807/3222937936.py:6: PerformanceWarning: DataFrame is highly fragmented.  This is usually the result of calling `frame.insert` many times, which has poor performance.  Consider joining all columns at once using pd.concat(axis=1) instead. To get a de-fragmented frame, use `newframe = frame.copy()`\n",
      "  final[ent + '_count_' + d + '_by_' + dd + \"_sq\"] =\\\n",
      "/var/folders/2f/fpszyvs50jl1c4sw9dlynhjm0000gn/T/ipykernel_78807/3222937936.py:6: PerformanceWarning: DataFrame is highly fragmented.  This is usually the result of calling `frame.insert` many times, which has poor performance.  Consider joining all columns at once using pd.concat(axis=1) instead. To get a de-fragmented frame, use `newframe = frame.copy()`\n",
      "  final[ent + '_count_' + d + '_by_' + dd + \"_sq\"] =\\\n",
      "/var/folders/2f/fpszyvs50jl1c4sw9dlynhjm0000gn/T/ipykernel_78807/3222937936.py:6: PerformanceWarning: DataFrame is highly fragmented.  This is usually the result of calling `frame.insert` many times, which has poor performance.  Consider joining all columns at once using pd.concat(axis=1) instead. To get a de-fragmented frame, use `newframe = frame.copy()`\n",
      "  final[ent + '_count_' + d + '_by_' + dd + \"_sq\"] =\\\n",
      "/var/folders/2f/fpszyvs50jl1c4sw9dlynhjm0000gn/T/ipykernel_78807/3222937936.py:6: PerformanceWarning: DataFrame is highly fragmented.  This is usually the result of calling `frame.insert` many times, which has poor performance.  Consider joining all columns at once using pd.concat(axis=1) instead. To get a de-fragmented frame, use `newframe = frame.copy()`\n",
      "  final[ent + '_count_' + d + '_by_' + dd + \"_sq\"] =\\\n",
      "/var/folders/2f/fpszyvs50jl1c4sw9dlynhjm0000gn/T/ipykernel_78807/3222937936.py:6: PerformanceWarning: DataFrame is highly fragmented.  This is usually the result of calling `frame.insert` many times, which has poor performance.  Consider joining all columns at once using pd.concat(axis=1) instead. To get a de-fragmented frame, use `newframe = frame.copy()`\n",
      "  final[ent + '_count_' + d + '_by_' + dd + \"_sq\"] =\\\n",
      "/var/folders/2f/fpszyvs50jl1c4sw9dlynhjm0000gn/T/ipykernel_78807/3222937936.py:6: PerformanceWarning: DataFrame is highly fragmented.  This is usually the result of calling `frame.insert` many times, which has poor performance.  Consider joining all columns at once using pd.concat(axis=1) instead. To get a de-fragmented frame, use `newframe = frame.copy()`\n",
      "  final[ent + '_count_' + d + '_by_' + dd + \"_sq\"] =\\\n",
      "/var/folders/2f/fpszyvs50jl1c4sw9dlynhjm0000gn/T/ipykernel_78807/3222937936.py:6: PerformanceWarning: DataFrame is highly fragmented.  This is usually the result of calling `frame.insert` many times, which has poor performance.  Consider joining all columns at once using pd.concat(axis=1) instead. To get a de-fragmented frame, use `newframe = frame.copy()`\n",
      "  final[ent + '_count_' + d + '_by_' + dd + \"_sq\"] =\\\n",
      "/var/folders/2f/fpszyvs50jl1c4sw9dlynhjm0000gn/T/ipykernel_78807/3222937936.py:6: PerformanceWarning: DataFrame is highly fragmented.  This is usually the result of calling `frame.insert` many times, which has poor performance.  Consider joining all columns at once using pd.concat(axis=1) instead. To get a de-fragmented frame, use `newframe = frame.copy()`\n",
      "  final[ent + '_count_' + d + '_by_' + dd + \"_sq\"] =\\\n",
      "/var/folders/2f/fpszyvs50jl1c4sw9dlynhjm0000gn/T/ipykernel_78807/3222937936.py:6: PerformanceWarning: DataFrame is highly fragmented.  This is usually the result of calling `frame.insert` many times, which has poor performance.  Consider joining all columns at once using pd.concat(axis=1) instead. To get a de-fragmented frame, use `newframe = frame.copy()`\n",
      "  final[ent + '_count_' + d + '_by_' + dd + \"_sq\"] =\\\n",
      "/var/folders/2f/fpszyvs50jl1c4sw9dlynhjm0000gn/T/ipykernel_78807/3222937936.py:6: PerformanceWarning: DataFrame is highly fragmented.  This is usually the result of calling `frame.insert` many times, which has poor performance.  Consider joining all columns at once using pd.concat(axis=1) instead. To get a de-fragmented frame, use `newframe = frame.copy()`\n",
      "  final[ent + '_count_' + d + '_by_' + dd + \"_sq\"] =\\\n",
      "/var/folders/2f/fpszyvs50jl1c4sw9dlynhjm0000gn/T/ipykernel_78807/3222937936.py:6: PerformanceWarning: DataFrame is highly fragmented.  This is usually the result of calling `frame.insert` many times, which has poor performance.  Consider joining all columns at once using pd.concat(axis=1) instead. To get a de-fragmented frame, use `newframe = frame.copy()`\n",
      "  final[ent + '_count_' + d + '_by_' + dd + \"_sq\"] =\\\n",
      "/var/folders/2f/fpszyvs50jl1c4sw9dlynhjm0000gn/T/ipykernel_78807/3222937936.py:6: PerformanceWarning: DataFrame is highly fragmented.  This is usually the result of calling `frame.insert` many times, which has poor performance.  Consider joining all columns at once using pd.concat(axis=1) instead. To get a de-fragmented frame, use `newframe = frame.copy()`\n",
      "  final[ent + '_count_' + d + '_by_' + dd + \"_sq\"] =\\\n",
      "/var/folders/2f/fpszyvs50jl1c4sw9dlynhjm0000gn/T/ipykernel_78807/3222937936.py:6: PerformanceWarning: DataFrame is highly fragmented.  This is usually the result of calling `frame.insert` many times, which has poor performance.  Consider joining all columns at once using pd.concat(axis=1) instead. To get a de-fragmented frame, use `newframe = frame.copy()`\n",
      "  final[ent + '_count_' + d + '_by_' + dd + \"_sq\"] =\\\n",
      "/var/folders/2f/fpszyvs50jl1c4sw9dlynhjm0000gn/T/ipykernel_78807/3222937936.py:6: PerformanceWarning: DataFrame is highly fragmented.  This is usually the result of calling `frame.insert` many times, which has poor performance.  Consider joining all columns at once using pd.concat(axis=1) instead. To get a de-fragmented frame, use `newframe = frame.copy()`\n",
      "  final[ent + '_count_' + d + '_by_' + dd + \"_sq\"] =\\\n",
      "/var/folders/2f/fpszyvs50jl1c4sw9dlynhjm0000gn/T/ipykernel_78807/3222937936.py:6: PerformanceWarning: DataFrame is highly fragmented.  This is usually the result of calling `frame.insert` many times, which has poor performance.  Consider joining all columns at once using pd.concat(axis=1) instead. To get a de-fragmented frame, use `newframe = frame.copy()`\n",
      "  final[ent + '_count_' + d + '_by_' + dd + \"_sq\"] =\\\n",
      "/var/folders/2f/fpszyvs50jl1c4sw9dlynhjm0000gn/T/ipykernel_78807/3222937936.py:6: PerformanceWarning: DataFrame is highly fragmented.  This is usually the result of calling `frame.insert` many times, which has poor performance.  Consider joining all columns at once using pd.concat(axis=1) instead. To get a de-fragmented frame, use `newframe = frame.copy()`\n",
      "  final[ent + '_count_' + d + '_by_' + dd + \"_sq\"] =\\\n",
      "/var/folders/2f/fpszyvs50jl1c4sw9dlynhjm0000gn/T/ipykernel_78807/3222937936.py:6: PerformanceWarning: DataFrame is highly fragmented.  This is usually the result of calling `frame.insert` many times, which has poor performance.  Consider joining all columns at once using pd.concat(axis=1) instead. To get a de-fragmented frame, use `newframe = frame.copy()`\n",
      "  final[ent + '_count_' + d + '_by_' + dd + \"_sq\"] =\\\n",
      "/var/folders/2f/fpszyvs50jl1c4sw9dlynhjm0000gn/T/ipykernel_78807/3222937936.py:6: PerformanceWarning: DataFrame is highly fragmented.  This is usually the result of calling `frame.insert` many times, which has poor performance.  Consider joining all columns at once using pd.concat(axis=1) instead. To get a de-fragmented frame, use `newframe = frame.copy()`\n",
      "  final[ent + '_count_' + d + '_by_' + dd + \"_sq\"] =\\\n",
      "/var/folders/2f/fpszyvs50jl1c4sw9dlynhjm0000gn/T/ipykernel_78807/3222937936.py:6: PerformanceWarning: DataFrame is highly fragmented.  This is usually the result of calling `frame.insert` many times, which has poor performance.  Consider joining all columns at once using pd.concat(axis=1) instead. To get a de-fragmented frame, use `newframe = frame.copy()`\n",
      "  final[ent + '_count_' + d + '_by_' + dd + \"_sq\"] =\\\n",
      "/var/folders/2f/fpszyvs50jl1c4sw9dlynhjm0000gn/T/ipykernel_78807/3222937936.py:6: PerformanceWarning: DataFrame is highly fragmented.  This is usually the result of calling `frame.insert` many times, which has poor performance.  Consider joining all columns at once using pd.concat(axis=1) instead. To get a de-fragmented frame, use `newframe = frame.copy()`\n",
      "  final[ent + '_count_' + d + '_by_' + dd + \"_sq\"] =\\\n",
      "/var/folders/2f/fpszyvs50jl1c4sw9dlynhjm0000gn/T/ipykernel_78807/3222937936.py:6: PerformanceWarning: DataFrame is highly fragmented.  This is usually the result of calling `frame.insert` many times, which has poor performance.  Consider joining all columns at once using pd.concat(axis=1) instead. To get a de-fragmented frame, use `newframe = frame.copy()`\n",
      "  final[ent + '_count_' + d + '_by_' + dd + \"_sq\"] =\\\n",
      "/var/folders/2f/fpszyvs50jl1c4sw9dlynhjm0000gn/T/ipykernel_78807/3222937936.py:6: PerformanceWarning: DataFrame is highly fragmented.  This is usually the result of calling `frame.insert` many times, which has poor performance.  Consider joining all columns at once using pd.concat(axis=1) instead. To get a de-fragmented frame, use `newframe = frame.copy()`\n",
      "  final[ent + '_count_' + d + '_by_' + dd + \"_sq\"] =\\\n",
      "/var/folders/2f/fpszyvs50jl1c4sw9dlynhjm0000gn/T/ipykernel_78807/3222937936.py:6: PerformanceWarning: DataFrame is highly fragmented.  This is usually the result of calling `frame.insert` many times, which has poor performance.  Consider joining all columns at once using pd.concat(axis=1) instead. To get a de-fragmented frame, use `newframe = frame.copy()`\n",
      "  final[ent + '_count_' + d + '_by_' + dd + \"_sq\"] =\\\n",
      "/var/folders/2f/fpszyvs50jl1c4sw9dlynhjm0000gn/T/ipykernel_78807/3222937936.py:6: PerformanceWarning: DataFrame is highly fragmented.  This is usually the result of calling `frame.insert` many times, which has poor performance.  Consider joining all columns at once using pd.concat(axis=1) instead. To get a de-fragmented frame, use `newframe = frame.copy()`\n",
      "  final[ent + '_count_' + d + '_by_' + dd + \"_sq\"] =\\\n",
      "/var/folders/2f/fpszyvs50jl1c4sw9dlynhjm0000gn/T/ipykernel_78807/3222937936.py:6: PerformanceWarning: DataFrame is highly fragmented.  This is usually the result of calling `frame.insert` many times, which has poor performance.  Consider joining all columns at once using pd.concat(axis=1) instead. To get a de-fragmented frame, use `newframe = frame.copy()`\n",
      "  final[ent + '_count_' + d + '_by_' + dd + \"_sq\"] =\\\n",
      "/var/folders/2f/fpszyvs50jl1c4sw9dlynhjm0000gn/T/ipykernel_78807/3222937936.py:6: PerformanceWarning: DataFrame is highly fragmented.  This is usually the result of calling `frame.insert` many times, which has poor performance.  Consider joining all columns at once using pd.concat(axis=1) instead. To get a de-fragmented frame, use `newframe = frame.copy()`\n",
      "  final[ent + '_count_' + d + '_by_' + dd + \"_sq\"] =\\\n"
     ]
    }
   ],
   "source": [
    "# acceleration\n",
    "for ent in entities:\n",
    "    print(ent)\n",
    "    for d in ['0', '1']:\n",
    "        for dd in ['7', '14', '30']:\n",
    "            final[ent + '_count_' + d + '_by_' + dd + \"_sq\"] =\\\n",
    "            final[ent + '_count_' + d]/(final[ent + '_count_' + dd])/pow(float(dd),2)\n"
   ]
  },
  {
   "cell_type": "code",
   "execution_count": 3,
   "metadata": {},
   "outputs": [
    {
     "name": "stdout",
     "output_type": "stream",
     "text": [
      "Notebook already signed: Make_Variables_Project2.ipynb\r\n"
     ]
    }
   ],
   "source": [
    "! jupyter trust Make_Variables_Project2.ipynb "
   ]
  },
  {
   "cell_type": "code",
   "execution_count": 28,
   "metadata": {},
   "outputs": [
    {
     "data": {
      "text/plain": [
       "(96397, 1068)"
      ]
     },
     "execution_count": 28,
     "metadata": {},
     "output_type": "execute_result"
    }
   ],
   "source": [
    "final.shape"
   ]
  },
  {
   "cell_type": "code",
   "execution_count": null,
   "metadata": {},
   "outputs": [],
   "source": [
    "final.to_csv('final_variabless.csv')"
   ]
  },
  {
   "cell_type": "code",
   "execution_count": null,
   "metadata": {},
   "outputs": [],
   "source": []
  }
 ],
 "metadata": {
  "colab": {
   "provenance": []
  },
  "kernelspec": {
   "display_name": "Python 3 (ipykernel)",
   "language": "python",
   "name": "python3"
  },
  "language_info": {
   "codemirror_mode": {
    "name": "ipython",
    "version": 3
   },
   "file_extension": ".py",
   "mimetype": "text/x-python",
   "name": "python",
   "nbconvert_exporter": "python",
   "pygments_lexer": "ipython3",
   "version": "3.9.12"
  },
  "toc": {
   "base_numbering": 1,
   "nav_menu": {},
   "number_sections": true,
   "sideBar": true,
   "skip_h1_title": false,
   "title_cell": "Table of Contents",
   "title_sidebar": "Contents",
   "toc_cell": false,
   "toc_position": {},
   "toc_section_display": true,
   "toc_window_display": false
  }
 },
 "nbformat": 4,
 "nbformat_minor": 1
}
