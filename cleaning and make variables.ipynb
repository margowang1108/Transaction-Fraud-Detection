{
  "nbformat": 4,
  "nbformat_minor": 0,
  "metadata": {
    "colab": {
      "provenance": []
    },
    "kernelspec": {
      "name": "python3",
      "display_name": "Python 3"
    },
    "language_info": {
      "name": "python"
    }
  },
  "cells": [
    {
      "cell_type": "code",
      "execution_count": null,
      "metadata": {
        "id": "kD5P0XPO5cap",
        "colab": {
          "base_uri": "https://localhost:8080/"
        },
        "outputId": "a2639392-655e-48e5-ebbb-1ab6e68bbf2f"
      },
      "outputs": [
        {
          "output_type": "stream",
          "name": "stdout",
          "text": [
            "Drive already mounted at /content/drive; to attempt to forcibly remount, call drive.mount(\"/content/drive\", force_remount=True).\n"
          ]
        }
      ],
      "source": [
        "from google.colab import drive                          \n",
        "drive.mount('/content/drive')"
      ]
    },
    {
      "cell_type": "code",
      "source": [
        "import os \n",
        "os.chdir(\"/content/drive/MyDrive/\")"
      ],
      "metadata": {
        "id": "Ewx7A8kp6Xe8"
      },
      "execution_count": null,
      "outputs": []
    },
    {
      "cell_type": "code",
      "source": [
        "import pandas as pd\n",
        "import numpy as np"
      ],
      "metadata": {
        "id": "ht6YvQu48ZXq"
      },
      "execution_count": null,
      "outputs": []
    },
    {
      "cell_type": "code",
      "source": [
        "df = pd.read_csv('new_card_transactions.csv')"
      ],
      "metadata": {
        "id": "uvhiJth_8SPU"
      },
      "execution_count": null,
      "outputs": []
    },
    {
      "cell_type": "code",
      "source": [
        "df.head(5)"
      ],
      "metadata": {
        "id": "L36viBcm9lmv",
        "colab": {
          "base_uri": "https://localhost:8080/",
          "height": 206
        },
        "outputId": "b39582ed-5399-4620-8024-e722e9a74997"
      },
      "execution_count": null,
      "outputs": [
        {
          "output_type": "execute_result",
          "data": {
            "text/plain": [
              "   Recnum     Cardnum    Date     Merchnum        Merch description  \\\n",
              "0       1  5142190439  1/1/10  5.50901E+12   FEDEX SHP 12/23/09 AB#   \n",
              "1       2  5142183973  1/1/10  61003026333  SERVICE MERCHANDISE #81   \n",
              "2       3  5142131721  1/1/10  4.50308E+12        OFFICE DEPOT #191   \n",
              "3       4  5142148452  1/1/10  5.50901E+12   FEDEX SHP 12/28/09 AB#   \n",
              "4       5  5142190439  1/1/10  5.50901E+12   FEDEX SHP 12/23/09 AB#   \n",
              "\n",
              "  Merch state  Merch zip Transtype  Amount  Fraud  \n",
              "0          TN    38118.0         P    3.62      0  \n",
              "1          MA     1803.0         P   31.42      0  \n",
              "2          MD    20706.0         P  178.49      0  \n",
              "3          TN    38118.0         P    3.62      0  \n",
              "4          TN    38118.0         P    3.62      0  "
            ],
            "text/html": [
              "\n",
              "  <div id=\"df-e1348751-81b7-4226-9704-6a884a97c330\">\n",
              "    <div class=\"colab-df-container\">\n",
              "      <div>\n",
              "<style scoped>\n",
              "    .dataframe tbody tr th:only-of-type {\n",
              "        vertical-align: middle;\n",
              "    }\n",
              "\n",
              "    .dataframe tbody tr th {\n",
              "        vertical-align: top;\n",
              "    }\n",
              "\n",
              "    .dataframe thead th {\n",
              "        text-align: right;\n",
              "    }\n",
              "</style>\n",
              "<table border=\"1\" class=\"dataframe\">\n",
              "  <thead>\n",
              "    <tr style=\"text-align: right;\">\n",
              "      <th></th>\n",
              "      <th>Recnum</th>\n",
              "      <th>Cardnum</th>\n",
              "      <th>Date</th>\n",
              "      <th>Merchnum</th>\n",
              "      <th>Merch description</th>\n",
              "      <th>Merch state</th>\n",
              "      <th>Merch zip</th>\n",
              "      <th>Transtype</th>\n",
              "      <th>Amount</th>\n",
              "      <th>Fraud</th>\n",
              "    </tr>\n",
              "  </thead>\n",
              "  <tbody>\n",
              "    <tr>\n",
              "      <th>0</th>\n",
              "      <td>1</td>\n",
              "      <td>5142190439</td>\n",
              "      <td>1/1/10</td>\n",
              "      <td>5.50901E+12</td>\n",
              "      <td>FEDEX SHP 12/23/09 AB#</td>\n",
              "      <td>TN</td>\n",
              "      <td>38118.0</td>\n",
              "      <td>P</td>\n",
              "      <td>3.62</td>\n",
              "      <td>0</td>\n",
              "    </tr>\n",
              "    <tr>\n",
              "      <th>1</th>\n",
              "      <td>2</td>\n",
              "      <td>5142183973</td>\n",
              "      <td>1/1/10</td>\n",
              "      <td>61003026333</td>\n",
              "      <td>SERVICE MERCHANDISE #81</td>\n",
              "      <td>MA</td>\n",
              "      <td>1803.0</td>\n",
              "      <td>P</td>\n",
              "      <td>31.42</td>\n",
              "      <td>0</td>\n",
              "    </tr>\n",
              "    <tr>\n",
              "      <th>2</th>\n",
              "      <td>3</td>\n",
              "      <td>5142131721</td>\n",
              "      <td>1/1/10</td>\n",
              "      <td>4.50308E+12</td>\n",
              "      <td>OFFICE DEPOT #191</td>\n",
              "      <td>MD</td>\n",
              "      <td>20706.0</td>\n",
              "      <td>P</td>\n",
              "      <td>178.49</td>\n",
              "      <td>0</td>\n",
              "    </tr>\n",
              "    <tr>\n",
              "      <th>3</th>\n",
              "      <td>4</td>\n",
              "      <td>5142148452</td>\n",
              "      <td>1/1/10</td>\n",
              "      <td>5.50901E+12</td>\n",
              "      <td>FEDEX SHP 12/28/09 AB#</td>\n",
              "      <td>TN</td>\n",
              "      <td>38118.0</td>\n",
              "      <td>P</td>\n",
              "      <td>3.62</td>\n",
              "      <td>0</td>\n",
              "    </tr>\n",
              "    <tr>\n",
              "      <th>4</th>\n",
              "      <td>5</td>\n",
              "      <td>5142190439</td>\n",
              "      <td>1/1/10</td>\n",
              "      <td>5.50901E+12</td>\n",
              "      <td>FEDEX SHP 12/23/09 AB#</td>\n",
              "      <td>TN</td>\n",
              "      <td>38118.0</td>\n",
              "      <td>P</td>\n",
              "      <td>3.62</td>\n",
              "      <td>0</td>\n",
              "    </tr>\n",
              "  </tbody>\n",
              "</table>\n",
              "</div>\n",
              "      <button class=\"colab-df-convert\" onclick=\"convertToInteractive('df-e1348751-81b7-4226-9704-6a884a97c330')\"\n",
              "              title=\"Convert this dataframe to an interactive table.\"\n",
              "              style=\"display:none;\">\n",
              "        \n",
              "  <svg xmlns=\"http://www.w3.org/2000/svg\" height=\"24px\"viewBox=\"0 0 24 24\"\n",
              "       width=\"24px\">\n",
              "    <path d=\"M0 0h24v24H0V0z\" fill=\"none\"/>\n",
              "    <path d=\"M18.56 5.44l.94 2.06.94-2.06 2.06-.94-2.06-.94-.94-2.06-.94 2.06-2.06.94zm-11 1L8.5 8.5l.94-2.06 2.06-.94-2.06-.94L8.5 2.5l-.94 2.06-2.06.94zm10 10l.94 2.06.94-2.06 2.06-.94-2.06-.94-.94-2.06-.94 2.06-2.06.94z\"/><path d=\"M17.41 7.96l-1.37-1.37c-.4-.4-.92-.59-1.43-.59-.52 0-1.04.2-1.43.59L10.3 9.45l-7.72 7.72c-.78.78-.78 2.05 0 2.83L4 21.41c.39.39.9.59 1.41.59.51 0 1.02-.2 1.41-.59l7.78-7.78 2.81-2.81c.8-.78.8-2.07 0-2.86zM5.41 20L4 18.59l7.72-7.72 1.47 1.35L5.41 20z\"/>\n",
              "  </svg>\n",
              "      </button>\n",
              "      \n",
              "  <style>\n",
              "    .colab-df-container {\n",
              "      display:flex;\n",
              "      flex-wrap:wrap;\n",
              "      gap: 12px;\n",
              "    }\n",
              "\n",
              "    .colab-df-convert {\n",
              "      background-color: #E8F0FE;\n",
              "      border: none;\n",
              "      border-radius: 50%;\n",
              "      cursor: pointer;\n",
              "      display: none;\n",
              "      fill: #1967D2;\n",
              "      height: 32px;\n",
              "      padding: 0 0 0 0;\n",
              "      width: 32px;\n",
              "    }\n",
              "\n",
              "    .colab-df-convert:hover {\n",
              "      background-color: #E2EBFA;\n",
              "      box-shadow: 0px 1px 2px rgba(60, 64, 67, 0.3), 0px 1px 3px 1px rgba(60, 64, 67, 0.15);\n",
              "      fill: #174EA6;\n",
              "    }\n",
              "\n",
              "    [theme=dark] .colab-df-convert {\n",
              "      background-color: #3B4455;\n",
              "      fill: #D2E3FC;\n",
              "    }\n",
              "\n",
              "    [theme=dark] .colab-df-convert:hover {\n",
              "      background-color: #434B5C;\n",
              "      box-shadow: 0px 1px 3px 1px rgba(0, 0, 0, 0.15);\n",
              "      filter: drop-shadow(0px 1px 2px rgba(0, 0, 0, 0.3));\n",
              "      fill: #FFFFFF;\n",
              "    }\n",
              "  </style>\n",
              "\n",
              "      <script>\n",
              "        const buttonEl =\n",
              "          document.querySelector('#df-e1348751-81b7-4226-9704-6a884a97c330 button.colab-df-convert');\n",
              "        buttonEl.style.display =\n",
              "          google.colab.kernel.accessAllowed ? 'block' : 'none';\n",
              "\n",
              "        async function convertToInteractive(key) {\n",
              "          const element = document.querySelector('#df-e1348751-81b7-4226-9704-6a884a97c330');\n",
              "          const dataTable =\n",
              "            await google.colab.kernel.invokeFunction('convertToInteractive',\n",
              "                                                     [key], {});\n",
              "          if (!dataTable) return;\n",
              "\n",
              "          const docLinkHtml = 'Like what you see? Visit the ' +\n",
              "            '<a target=\"_blank\" href=https://colab.research.google.com/notebooks/data_table.ipynb>data table notebook</a>'\n",
              "            + ' to learn more about interactive tables.';\n",
              "          element.innerHTML = '';\n",
              "          dataTable['output_type'] = 'display_data';\n",
              "          await google.colab.output.renderOutput(dataTable, element);\n",
              "          const docLink = document.createElement('div');\n",
              "          docLink.innerHTML = docLinkHtml;\n",
              "          element.appendChild(docLink);\n",
              "        }\n",
              "      </script>\n",
              "    </div>\n",
              "  </div>\n",
              "  "
            ]
          },
          "metadata": {},
          "execution_count": 50
        }
      ]
    },
    {
      "cell_type": "code",
      "source": [
        "df.info()"
      ],
      "metadata": {
        "id": "98HZPMW4KNkE",
        "colab": {
          "base_uri": "https://localhost:8080/"
        },
        "outputId": "9b61144b-0626-4484-a4ae-3f07cd8557eb"
      },
      "execution_count": null,
      "outputs": [
        {
          "output_type": "stream",
          "name": "stdout",
          "text": [
            "<class 'pandas.core.frame.DataFrame'>\n",
            "RangeIndex: 96753 entries, 0 to 96752\n",
            "Data columns (total 10 columns):\n",
            " #   Column             Non-Null Count  Dtype  \n",
            "---  ------             --------------  -----  \n",
            " 0   Recnum             96753 non-null  int64  \n",
            " 1   Cardnum            96753 non-null  int64  \n",
            " 2   Date               96753 non-null  object \n",
            " 3   Merchnum           93378 non-null  object \n",
            " 4   Merch description  96753 non-null  object \n",
            " 5   Merch state        95558 non-null  object \n",
            " 6   Merch zip          92097 non-null  float64\n",
            " 7   Transtype          96753 non-null  object \n",
            " 8   Amount             96753 non-null  float64\n",
            " 9   Fraud              96753 non-null  int64  \n",
            "dtypes: float64(2), int64(3), object(5)\n",
            "memory usage: 7.4+ MB\n"
          ]
        }
      ]
    },
    {
      "cell_type": "code",
      "source": [
        "df['Date'] = pd.to_datetime(df['Date'])\n",
        "#remove all but P type transaction\n",
        "df.drop(df.loc[df['Transtype']!='P'].index,inplace = True)"
      ],
      "metadata": {
        "id": "P46IyRhO_H4r"
      },
      "execution_count": null,
      "outputs": []
    },
    {
      "cell_type": "code",
      "source": [
        "#identify the single outlier in Amount\n",
        "df.Amount.sort_values(ascending = False).head(5)"
      ],
      "metadata": {
        "id": "OshWPhrVNcbc",
        "colab": {
          "base_uri": "https://localhost:8080/"
        },
        "outputId": "cfe4665b-6d30-430f-82ff-675bbd3025aa"
      },
      "execution_count": null,
      "outputs": [
        {
          "output_type": "execute_result",
          "data": {
            "text/plain": [
              "52714    3102045.53\n",
              "47339      47900.00\n",
              "59516      30372.46\n",
              "80886      28392.84\n",
              "89673      27218.00\n",
              "Name: Amount, dtype: float64"
            ]
          },
          "metadata": {},
          "execution_count": 53
        }
      ]
    },
    {
      "cell_type": "code",
      "source": [
        "#remove outlier\n",
        "df.drop(df.Amount.idxmax(),inplace = True)"
      ],
      "metadata": {
        "id": "1NGREOiRBp7Q"
      },
      "execution_count": null,
      "outputs": []
    },
    {
      "cell_type": "code",
      "source": [
        "#check\n",
        "df.Amount.sort_values(ascending = False).head(5)"
      ],
      "metadata": {
        "id": "_N7h9j_bNO_X",
        "colab": {
          "base_uri": "https://localhost:8080/"
        },
        "outputId": "a049166d-75bf-41fa-fc0d-fc5e9edc1e7a"
      },
      "execution_count": null,
      "outputs": [
        {
          "output_type": "execute_result",
          "data": {
            "text/plain": [
              "47339    47900.00\n",
              "59516    30372.46\n",
              "80886    28392.84\n",
              "89673    27218.00\n",
              "1103     26910.00\n",
              "Name: Amount, dtype: float64"
            ]
          },
          "metadata": {},
          "execution_count": 55
        }
      ]
    },
    {
      "cell_type": "code",
      "source": [
        "#sanity check\n",
        "df.Transtype.unique()"
      ],
      "metadata": {
        "id": "IG-tg3ZRJ0d6",
        "colab": {
          "base_uri": "https://localhost:8080/"
        },
        "outputId": "317d407e-b96d-444e-88ed-c52789904bc5"
      },
      "execution_count": null,
      "outputs": [
        {
          "output_type": "execute_result",
          "data": {
            "text/plain": [
              "array(['P'], dtype=object)"
            ]
          },
          "metadata": {},
          "execution_count": 56
        }
      ]
    },
    {
      "cell_type": "markdown",
      "source": [
        "# Data Cleaning"
      ],
      "metadata": {
        "id": "UhmhfIMuELme"
      }
    },
    {
      "cell_type": "markdown",
      "source": [
        "**Missing Values** "
      ],
      "metadata": {
        "id": "yRnapTElES4q"
      }
    },
    {
      "cell_type": "code",
      "source": [
        "df.isna().sum()"
      ],
      "metadata": {
        "id": "G-bKZERQEKH1",
        "colab": {
          "base_uri": "https://localhost:8080/"
        },
        "outputId": "225177b6-2fb8-4a75-c5d2-67cef02fd3c9"
      },
      "execution_count": null,
      "outputs": [
        {
          "output_type": "execute_result",
          "data": {
            "text/plain": [
              "Recnum                  0\n",
              "Cardnum                 0\n",
              "Date                    0\n",
              "Merchnum             3198\n",
              "Merch description       0\n",
              "Merch state          1020\n",
              "Merch zip            4300\n",
              "Transtype               0\n",
              "Amount                  0\n",
              "Fraud                   0\n",
              "dtype: int64"
            ]
          },
          "metadata": {},
          "execution_count": 57
        }
      ]
    },
    {
      "cell_type": "markdown",
      "source": [
        "* Merchnum"
      ],
      "metadata": {
        "id": "Le3IZ-nNNsAn"
      }
    },
    {
      "cell_type": "code",
      "source": [
        "#replace zeros with nan\n",
        "df['Merchnum'] = df['Merchnum'].replace({'0':np.nan})"
      ],
      "metadata": {
        "id": "UTx2lGqOF8Yv"
      },
      "execution_count": null,
      "outputs": []
    },
    {
      "cell_type": "code",
      "source": [
        "#check if each merch description only has one corresponding merchnum\n",
        "group = df.groupby(['Merch description']).Merchnum.nunique()\n",
        "(group != 1).sum()"
      ],
      "metadata": {
        "id": "2jSD4g3MsKPt",
        "colab": {
          "base_uri": "https://localhost:8080/"
        },
        "outputId": "87d42d62-4c27-407c-efc5-10a17a31d51d"
      },
      "execution_count": null,
      "outputs": [
        {
          "output_type": "execute_result",
          "data": {
            "text/plain": [
              "1329"
            ]
          },
          "metadata": {},
          "execution_count": 59
        }
      ]
    },
    {
      "cell_type": "code",
      "source": [
        "#create dictionary to store each merch description with corresponding merchnum\n",
        "merch_merchnum = {}\n",
        "for index, merch in df.loc[df['Merch description'].notnull() & df['Merchnum'].notnull(), 'Merch description'].items():\n",
        "    if merch in merch_merchnum:\n",
        "        merch_merchnum[merch].append(df.loc[index, 'Merchnum'])\n",
        "    else:\n",
        "        merch_merchnum[merch] = [df.loc[index, 'Merchnum']]\n",
        "\n"
      ],
      "metadata": {
        "id": "ImGPhUNTxNAX"
      },
      "execution_count": null,
      "outputs": []
    },
    {
      "cell_type": "code",
      "source": [
        "#impute each merch description with the mode of corresponding merchnum\n",
        "import statistics\n",
        "\n",
        "for merch in merch_merchnum:\n",
        "  merch_merchnum[merch] = statistics.mode(merch_merchnum[merch])"
      ],
      "metadata": {
        "id": "Twx5JeInznbH"
      },
      "execution_count": null,
      "outputs": []
    },
    {
      "cell_type": "code",
      "source": [
        "#display first 5\n",
        "list(merch_merchnum.items())[:5]\n",
        "  "
      ],
      "metadata": {
        "id": "dq_-cV0kF8Jr",
        "colab": {
          "base_uri": "https://localhost:8080/"
        },
        "outputId": "e88a6a67-710b-4608-f200-1791ed4929cd"
      },
      "execution_count": null,
      "outputs": [
        {
          "output_type": "execute_result",
          "data": {
            "text/plain": [
              "[('FEDEX SHP 12/23/09 AB#', '5.50901E+12'),\n",
              " ('SERVICE MERCHANDISE #81', '61003026333'),\n",
              " ('OFFICE DEPOT #191', '4.50308E+12'),\n",
              " ('FEDEX SHP 12/28/09 AB#', '5.50901E+12'),\n",
              " ('FEDEX SHP 12/22/09 AB#', '5.50901E+12')]"
            ]
          },
          "metadata": {},
          "execution_count": 62
        }
      ]
    },
    {
      "cell_type": "code",
      "source": [
        "#fill the merchnum with value of records share the same merch descriptions\n",
        "df['Merchnum'] = df['Merchnum'].fillna(df['Merch description'].map(merch_merchnum))"
      ],
      "metadata": {
        "id": "HgXPTA2hlPI4"
      },
      "execution_count": null,
      "outputs": []
    },
    {
      "cell_type": "code",
      "source": [
        "df['Merchnum'].isna().sum()"
      ],
      "metadata": {
        "id": "Y8D5kQEJl2me",
        "colab": {
          "base_uri": "https://localhost:8080/"
        },
        "outputId": "8f3c838b-4443-4c4f-d1c0-1830897d1c95"
      },
      "execution_count": null,
      "outputs": [
        {
          "output_type": "execute_result",
          "data": {
            "text/plain": [
              "2094"
            ]
          },
          "metadata": {},
          "execution_count": 64
        }
      ]
    },
    {
      "cell_type": "code",
      "source": [
        "#convert adjustment transactions with unknown \n",
        "df.loc[df['Merch description'].str.contains('ADJUSTMENT'), 'Merchnum'] = 'unknown'"
      ],
      "metadata": {
        "id": "HIMQZl5znJ2p"
      },
      "execution_count": null,
      "outputs": []
    },
    {
      "cell_type": "code",
      "source": [
        "df.loc[df['Merchnum'].isna(),'Merch description'].nunique()"
      ],
      "metadata": {
        "id": "G7eExtxRpYpM",
        "colab": {
          "base_uri": "https://localhost:8080/"
        },
        "outputId": "7c60a2ac-bc83-4fca-8f69-c25bda83921d"
      },
      "execution_count": null,
      "outputs": [
        {
          "output_type": "execute_result",
          "data": {
            "text/plain": [
              "504"
            ]
          },
          "metadata": {},
          "execution_count": 66
        }
      ]
    },
    {
      "cell_type": "code",
      "source": [
        "create_merchnum = {}\n",
        "n = 1\n",
        "for index,merch in df.loc[df['Merchnum'].isna(),'Merch description'].items():\n",
        "  if merch not in create_merchnum:\n",
        "    create_merchnum[merch] = n+ max(pd.to_numeric(df['Merchnum'],errors = 'coerce'))\n",
        "    n+=1\n",
        "\n"
      ],
      "metadata": {
        "id": "1DGGF_QcpqGR"
      },
      "execution_count": null,
      "outputs": []
    },
    {
      "cell_type": "code",
      "source": [
        "df['Merchnum'] = df['Merchnum'].fillna(df['Merch description'].map(create_merchnum))"
      ],
      "metadata": {
        "id": "vRHzpiAopwWS"
      },
      "execution_count": null,
      "outputs": []
    },
    {
      "cell_type": "code",
      "source": [
        "df['Merchnum'].isna().sum()"
      ],
      "metadata": {
        "id": "eZd0JpUgsKiW",
        "colab": {
          "base_uri": "https://localhost:8080/"
        },
        "outputId": "5f3c5ea0-eb6c-4bb2-ec17-17ffaa5c60ae"
      },
      "execution_count": null,
      "outputs": [
        {
          "output_type": "execute_result",
          "data": {
            "text/plain": [
              "0"
            ]
          },
          "metadata": {},
          "execution_count": 69
        }
      ]
    },
    {
      "cell_type": "markdown",
      "source": [
        "* Merch state"
      ],
      "metadata": {
        "id": "2iQpX0wJqm-r"
      }
    },
    {
      "cell_type": "code",
      "source": [
        "df['Merch state'].isna().sum()"
      ],
      "metadata": {
        "id": "eE20WCFv0oPW",
        "colab": {
          "base_uri": "https://localhost:8080/"
        },
        "outputId": "46920bb6-3a3c-4ae9-fab1-8d44cafbf642"
      },
      "execution_count": null,
      "outputs": [
        {
          "output_type": "execute_result",
          "data": {
            "text/plain": [
              "1020"
            ]
          },
          "metadata": {},
          "execution_count": 70
        }
      ]
    },
    {
      "cell_type": "code",
      "source": [
        "#transfer the zipcode to standard format\n",
        "df['Merch zip'] = df['Merch zip'].astype('str')\n",
        "df.loc[df['Merch zip'].str.contains('nan'), 'Merch zip'] = None\n",
        "df['Merch zip'] = df['Merch zip'].apply(lambda x: x[:-2] if pd.notnull(x) else x)\n",
        "df['Merch zip'].isna().sum()"
      ],
      "metadata": {
        "id": "WboE1I4XBu7f",
        "colab": {
          "base_uri": "https://localhost:8080/"
        },
        "outputId": "861e9f65-82cc-4a76-f34b-b6cc149f8534"
      },
      "execution_count": null,
      "outputs": [
        {
          "output_type": "execute_result",
          "data": {
            "text/plain": [
              "4300"
            ]
          },
          "metadata": {},
          "execution_count": 71
        }
      ]
    },
    {
      "cell_type": "code",
      "source": [
        "us_zip = pd.read_csv('uszips.csv')"
      ],
      "metadata": {
        "id": "pd_QwMPPCXmH"
      },
      "execution_count": null,
      "outputs": []
    },
    {
      "cell_type": "code",
      "source": [
        "us_zip.head(5)"
      ],
      "metadata": {
        "id": "XdmhPbInEUv6",
        "colab": {
          "base_uri": "https://localhost:8080/",
          "height": 374
        },
        "outputId": "e0270ade-109f-417d-a176-6c88e517a47c"
      },
      "execution_count": null,
      "outputs": [
        {
          "output_type": "execute_result",
          "data": {
            "text/plain": [
              "   zip       lat       lng       city state_id   state_name  zcta  \\\n",
              "0  601  18.18027 -66.75266   Adjuntas       PR  Puerto Rico  True   \n",
              "1  602  18.36075 -67.17541     Aguada       PR  Puerto Rico  True   \n",
              "2  603  18.45744 -67.12225  Aguadilla       PR  Puerto Rico  True   \n",
              "3  606  18.16585 -66.93716    Maricao       PR  Puerto Rico  True   \n",
              "4  610  18.29110 -67.12243     Anasco       PR  Puerto Rico  True   \n",
              "\n",
              "   parent_zcta  population  density  county_fips county_name  \\\n",
              "0          NaN     17126.0    102.6        72001    Adjuntas   \n",
              "1          NaN     37895.0    482.5        72003      Aguada   \n",
              "2          NaN     49136.0    552.4        72005   Aguadilla   \n",
              "3          NaN      5751.0     50.1        72093     Maricao   \n",
              "4          NaN     26153.0    272.1        72011      Añasco   \n",
              "\n",
              "                                      county_weights  \\\n",
              "0                    {\"72001\": 98.73, \"72141\": 1.27}   \n",
              "1                                     {\"72003\": 100}   \n",
              "2                    {\"72005\": 99.76, \"72099\": 0.24}   \n",
              "3    {\"72093\": 82.26, \"72153\": 11.68, \"72121\": 6.06}   \n",
              "4  {\"72011\": 96.71, \"72099\": 2.81, \"72083\": 0.37,...   \n",
              "\n",
              "                county_names_all          county_fips_all  imprecise  \\\n",
              "0                Adjuntas|Utuado              72001|72141      False   \n",
              "1                         Aguada                    72003      False   \n",
              "2                 Aguadilla|Moca              72005|72099      False   \n",
              "3    Maricao|Yauco|Sabana Grande        72093|72153|72121      False   \n",
              "4  Añasco|Moca|Las Marías|Aguada  72011|72099|72083|72003      False   \n",
              "\n",
              "   military             timezone  \n",
              "0     False  America/Puerto_Rico  \n",
              "1     False  America/Puerto_Rico  \n",
              "2     False  America/Puerto_Rico  \n",
              "3     False  America/Puerto_Rico  \n",
              "4     False  America/Puerto_Rico  "
            ],
            "text/html": [
              "\n",
              "  <div id=\"df-0140d654-3795-4988-b9ca-6af646346d42\">\n",
              "    <div class=\"colab-df-container\">\n",
              "      <div>\n",
              "<style scoped>\n",
              "    .dataframe tbody tr th:only-of-type {\n",
              "        vertical-align: middle;\n",
              "    }\n",
              "\n",
              "    .dataframe tbody tr th {\n",
              "        vertical-align: top;\n",
              "    }\n",
              "\n",
              "    .dataframe thead th {\n",
              "        text-align: right;\n",
              "    }\n",
              "</style>\n",
              "<table border=\"1\" class=\"dataframe\">\n",
              "  <thead>\n",
              "    <tr style=\"text-align: right;\">\n",
              "      <th></th>\n",
              "      <th>zip</th>\n",
              "      <th>lat</th>\n",
              "      <th>lng</th>\n",
              "      <th>city</th>\n",
              "      <th>state_id</th>\n",
              "      <th>state_name</th>\n",
              "      <th>zcta</th>\n",
              "      <th>parent_zcta</th>\n",
              "      <th>population</th>\n",
              "      <th>density</th>\n",
              "      <th>county_fips</th>\n",
              "      <th>county_name</th>\n",
              "      <th>county_weights</th>\n",
              "      <th>county_names_all</th>\n",
              "      <th>county_fips_all</th>\n",
              "      <th>imprecise</th>\n",
              "      <th>military</th>\n",
              "      <th>timezone</th>\n",
              "    </tr>\n",
              "  </thead>\n",
              "  <tbody>\n",
              "    <tr>\n",
              "      <th>0</th>\n",
              "      <td>601</td>\n",
              "      <td>18.18027</td>\n",
              "      <td>-66.75266</td>\n",
              "      <td>Adjuntas</td>\n",
              "      <td>PR</td>\n",
              "      <td>Puerto Rico</td>\n",
              "      <td>True</td>\n",
              "      <td>NaN</td>\n",
              "      <td>17126.0</td>\n",
              "      <td>102.6</td>\n",
              "      <td>72001</td>\n",
              "      <td>Adjuntas</td>\n",
              "      <td>{\"72001\": 98.73, \"72141\": 1.27}</td>\n",
              "      <td>Adjuntas|Utuado</td>\n",
              "      <td>72001|72141</td>\n",
              "      <td>False</td>\n",
              "      <td>False</td>\n",
              "      <td>America/Puerto_Rico</td>\n",
              "    </tr>\n",
              "    <tr>\n",
              "      <th>1</th>\n",
              "      <td>602</td>\n",
              "      <td>18.36075</td>\n",
              "      <td>-67.17541</td>\n",
              "      <td>Aguada</td>\n",
              "      <td>PR</td>\n",
              "      <td>Puerto Rico</td>\n",
              "      <td>True</td>\n",
              "      <td>NaN</td>\n",
              "      <td>37895.0</td>\n",
              "      <td>482.5</td>\n",
              "      <td>72003</td>\n",
              "      <td>Aguada</td>\n",
              "      <td>{\"72003\": 100}</td>\n",
              "      <td>Aguada</td>\n",
              "      <td>72003</td>\n",
              "      <td>False</td>\n",
              "      <td>False</td>\n",
              "      <td>America/Puerto_Rico</td>\n",
              "    </tr>\n",
              "    <tr>\n",
              "      <th>2</th>\n",
              "      <td>603</td>\n",
              "      <td>18.45744</td>\n",
              "      <td>-67.12225</td>\n",
              "      <td>Aguadilla</td>\n",
              "      <td>PR</td>\n",
              "      <td>Puerto Rico</td>\n",
              "      <td>True</td>\n",
              "      <td>NaN</td>\n",
              "      <td>49136.0</td>\n",
              "      <td>552.4</td>\n",
              "      <td>72005</td>\n",
              "      <td>Aguadilla</td>\n",
              "      <td>{\"72005\": 99.76, \"72099\": 0.24}</td>\n",
              "      <td>Aguadilla|Moca</td>\n",
              "      <td>72005|72099</td>\n",
              "      <td>False</td>\n",
              "      <td>False</td>\n",
              "      <td>America/Puerto_Rico</td>\n",
              "    </tr>\n",
              "    <tr>\n",
              "      <th>3</th>\n",
              "      <td>606</td>\n",
              "      <td>18.16585</td>\n",
              "      <td>-66.93716</td>\n",
              "      <td>Maricao</td>\n",
              "      <td>PR</td>\n",
              "      <td>Puerto Rico</td>\n",
              "      <td>True</td>\n",
              "      <td>NaN</td>\n",
              "      <td>5751.0</td>\n",
              "      <td>50.1</td>\n",
              "      <td>72093</td>\n",
              "      <td>Maricao</td>\n",
              "      <td>{\"72093\": 82.26, \"72153\": 11.68, \"72121\": 6.06}</td>\n",
              "      <td>Maricao|Yauco|Sabana Grande</td>\n",
              "      <td>72093|72153|72121</td>\n",
              "      <td>False</td>\n",
              "      <td>False</td>\n",
              "      <td>America/Puerto_Rico</td>\n",
              "    </tr>\n",
              "    <tr>\n",
              "      <th>4</th>\n",
              "      <td>610</td>\n",
              "      <td>18.29110</td>\n",
              "      <td>-67.12243</td>\n",
              "      <td>Anasco</td>\n",
              "      <td>PR</td>\n",
              "      <td>Puerto Rico</td>\n",
              "      <td>True</td>\n",
              "      <td>NaN</td>\n",
              "      <td>26153.0</td>\n",
              "      <td>272.1</td>\n",
              "      <td>72011</td>\n",
              "      <td>Añasco</td>\n",
              "      <td>{\"72011\": 96.71, \"72099\": 2.81, \"72083\": 0.37,...</td>\n",
              "      <td>Añasco|Moca|Las Marías|Aguada</td>\n",
              "      <td>72011|72099|72083|72003</td>\n",
              "      <td>False</td>\n",
              "      <td>False</td>\n",
              "      <td>America/Puerto_Rico</td>\n",
              "    </tr>\n",
              "  </tbody>\n",
              "</table>\n",
              "</div>\n",
              "      <button class=\"colab-df-convert\" onclick=\"convertToInteractive('df-0140d654-3795-4988-b9ca-6af646346d42')\"\n",
              "              title=\"Convert this dataframe to an interactive table.\"\n",
              "              style=\"display:none;\">\n",
              "        \n",
              "  <svg xmlns=\"http://www.w3.org/2000/svg\" height=\"24px\"viewBox=\"0 0 24 24\"\n",
              "       width=\"24px\">\n",
              "    <path d=\"M0 0h24v24H0V0z\" fill=\"none\"/>\n",
              "    <path d=\"M18.56 5.44l.94 2.06.94-2.06 2.06-.94-2.06-.94-.94-2.06-.94 2.06-2.06.94zm-11 1L8.5 8.5l.94-2.06 2.06-.94-2.06-.94L8.5 2.5l-.94 2.06-2.06.94zm10 10l.94 2.06.94-2.06 2.06-.94-2.06-.94-.94-2.06-.94 2.06-2.06.94z\"/><path d=\"M17.41 7.96l-1.37-1.37c-.4-.4-.92-.59-1.43-.59-.52 0-1.04.2-1.43.59L10.3 9.45l-7.72 7.72c-.78.78-.78 2.05 0 2.83L4 21.41c.39.39.9.59 1.41.59.51 0 1.02-.2 1.41-.59l7.78-7.78 2.81-2.81c.8-.78.8-2.07 0-2.86zM5.41 20L4 18.59l7.72-7.72 1.47 1.35L5.41 20z\"/>\n",
              "  </svg>\n",
              "      </button>\n",
              "      \n",
              "  <style>\n",
              "    .colab-df-container {\n",
              "      display:flex;\n",
              "      flex-wrap:wrap;\n",
              "      gap: 12px;\n",
              "    }\n",
              "\n",
              "    .colab-df-convert {\n",
              "      background-color: #E8F0FE;\n",
              "      border: none;\n",
              "      border-radius: 50%;\n",
              "      cursor: pointer;\n",
              "      display: none;\n",
              "      fill: #1967D2;\n",
              "      height: 32px;\n",
              "      padding: 0 0 0 0;\n",
              "      width: 32px;\n",
              "    }\n",
              "\n",
              "    .colab-df-convert:hover {\n",
              "      background-color: #E2EBFA;\n",
              "      box-shadow: 0px 1px 2px rgba(60, 64, 67, 0.3), 0px 1px 3px 1px rgba(60, 64, 67, 0.15);\n",
              "      fill: #174EA6;\n",
              "    }\n",
              "\n",
              "    [theme=dark] .colab-df-convert {\n",
              "      background-color: #3B4455;\n",
              "      fill: #D2E3FC;\n",
              "    }\n",
              "\n",
              "    [theme=dark] .colab-df-convert:hover {\n",
              "      background-color: #434B5C;\n",
              "      box-shadow: 0px 1px 3px 1px rgba(0, 0, 0, 0.15);\n",
              "      filter: drop-shadow(0px 1px 2px rgba(0, 0, 0, 0.3));\n",
              "      fill: #FFFFFF;\n",
              "    }\n",
              "  </style>\n",
              "\n",
              "      <script>\n",
              "        const buttonEl =\n",
              "          document.querySelector('#df-0140d654-3795-4988-b9ca-6af646346d42 button.colab-df-convert');\n",
              "        buttonEl.style.display =\n",
              "          google.colab.kernel.accessAllowed ? 'block' : 'none';\n",
              "\n",
              "        async function convertToInteractive(key) {\n",
              "          const element = document.querySelector('#df-0140d654-3795-4988-b9ca-6af646346d42');\n",
              "          const dataTable =\n",
              "            await google.colab.kernel.invokeFunction('convertToInteractive',\n",
              "                                                     [key], {});\n",
              "          if (!dataTable) return;\n",
              "\n",
              "          const docLinkHtml = 'Like what you see? Visit the ' +\n",
              "            '<a target=\"_blank\" href=https://colab.research.google.com/notebooks/data_table.ipynb>data table notebook</a>'\n",
              "            + ' to learn more about interactive tables.';\n",
              "          element.innerHTML = '';\n",
              "          dataTable['output_type'] = 'display_data';\n",
              "          await google.colab.output.renderOutput(dataTable, element);\n",
              "          const docLink = document.createElement('div');\n",
              "          docLink.innerHTML = docLinkHtml;\n",
              "          element.appendChild(docLink);\n",
              "        }\n",
              "      </script>\n",
              "    </div>\n",
              "  </div>\n",
              "  "
            ]
          },
          "metadata": {},
          "execution_count": 73
        }
      ]
    },
    {
      "cell_type": "code",
      "source": [
        "us_zip['zip'] = us_zip['zip'].astype('str')\n",
        "us_zip = us_zip[['zip','state_id']]\n",
        "us_zip.set_index('zip',inplace= True)\n",
        "us_zip = us_zip['state_id'].to_dict()"
      ],
      "metadata": {
        "id": "HBs3xLBqDzX8"
      },
      "execution_count": null,
      "outputs": []
    },
    {
      "cell_type": "code",
      "source": [
        "#impute the missing state with corresponding zipcode within U.S\n",
        "df['Merch state'].fillna(df['Merch zip'].map(us_zip),inplace = True)\n",
        "df['Merch state'].isna().sum()"
      ],
      "metadata": {
        "id": "VpR9PPYgFoY3",
        "colab": {
          "base_uri": "https://localhost:8080/"
        },
        "outputId": "4bfe5fad-fb71-4868-d124-808d25816c3d"
      },
      "execution_count": null,
      "outputs": [
        {
          "output_type": "execute_result",
          "data": {
            "text/plain": [
              "980"
            ]
          },
          "metadata": {},
          "execution_count": 75
        }
      ]
    },
    {
      "cell_type": "code",
      "source": [
        "#create dictionary with merch description to corresponding state name\n",
        "merch_state = {}\n",
        "for index, merch in df.loc[df['Merch description'].notnull() & df['Merch state'].notnull(), 'Merch description'].items():\n",
        "    if merch in merch_state:\n",
        "        merch_state[merch].append(df.loc[index, 'Merch state'])\n",
        "    else:\n",
        "        merch_state[merch] = [df.loc[index, 'Merch state']]\n",
        "\n",
        "#impute each merch description with the mode of corresponding mech description\n",
        "\n",
        "for merch in merch_state:\n",
        "  merch_state[merch] = statistics.mode(merch_state[merch])"
      ],
      "metadata": {
        "id": "XTvQEAsjJj2C"
      },
      "execution_count": null,
      "outputs": []
    },
    {
      "cell_type": "code",
      "source": [
        "#impute the missing state with corresponding merch description\n",
        "df['Merch state'].fillna(df['Merch description'].map(merch_state),inplace = True)\n",
        "df['Merch state'].isna().sum()"
      ],
      "metadata": {
        "id": "LrqsTTYTMf3-",
        "colab": {
          "base_uri": "https://localhost:8080/"
        },
        "outputId": "cb7697ac-2d42-4b6c-9919-aeaf823e7cf0"
      },
      "execution_count": null,
      "outputs": [
        {
          "output_type": "execute_result",
          "data": {
            "text/plain": [
              "323"
            ]
          },
          "metadata": {},
          "execution_count": 77
        }
      ]
    },
    {
      "cell_type": "code",
      "source": [
        "#create dictionary with merchnum to corresponding state name\n",
        "merchnum_state = {}\n",
        "for index, merch in df.loc[df['Merch state'].notnull(), 'Merchnum'].items():\n",
        "    if merch in merchnum_state:\n",
        "        merchnum_state[merch].append(df.loc[index, 'Merch state'])\n",
        "    else:\n",
        "        merchnum_state[merch] = [df.loc[index, 'Merch state']]\n",
        "\n",
        "#impute each merch description with the mode of corresponding merchnum\n",
        "\n",
        "for merch in merchnum_state:\n",
        "  merchnum_state[merch] = statistics.mode(merchnum_state[merch])"
      ],
      "metadata": {
        "id": "9f-kefRANDa5"
      },
      "execution_count": null,
      "outputs": []
    },
    {
      "cell_type": "code",
      "source": [
        "#impute impute the missing state with corresponding merchnum\n",
        "df['Merch state'].fillna(df['Merchnum'].map(merchnum_state),inplace = True)\n",
        "df['Merch state'].isna().sum()"
      ],
      "metadata": {
        "id": "Wgqe-3PYNZiF",
        "colab": {
          "base_uri": "https://localhost:8080/"
        },
        "outputId": "81a21592-1ca7-4e28-86a6-311377873225"
      },
      "execution_count": null,
      "outputs": [
        {
          "output_type": "execute_result",
          "data": {
            "text/plain": [
              "314"
            ]
          },
          "metadata": {},
          "execution_count": 79
        }
      ]
    },
    {
      "cell_type": "code",
      "source": [
        "#set all the state name as foreign unknown for all the exsting zipcode that doesnt in US\n",
        "for index,zip in df.loc[df['Merch state'].isnull(),'Merch zip'].items():\n",
        "  if pd.notnull(zip):\n",
        "    if zip not in us_zip.keys():\n",
        "      df.loc[index,'Merch state'] = 'Foreign unknown'\n",
        "df['Merch state'].isna().sum()"
      ],
      "metadata": {
        "colab": {
          "base_uri": "https://localhost:8080/"
        },
        "id": "f8U8Sv42eN9o",
        "outputId": "079c3170-ea73-4d51-8b8a-88c70592f993"
      },
      "execution_count": null,
      "outputs": [
        {
          "output_type": "execute_result",
          "data": {
            "text/plain": [
              "270"
            ]
          },
          "metadata": {},
          "execution_count": 80
        }
      ]
    },
    {
      "cell_type": "code",
      "source": [
        "#assign unknown state name to adjustment transaction\n",
        "df.loc[df['Merch description'].str.contains('ADJUSTMENT'), 'Merch state'] = 'unknown'"
      ],
      "metadata": {
        "id": "I_vCIY1SemP3"
      },
      "execution_count": null,
      "outputs": []
    },
    {
      "cell_type": "code",
      "source": [
        "#fill the rest of merch state with unknowns\n",
        "df['Merch state'].fillna('unknown',inplace = True)"
      ],
      "metadata": {
        "id": "bvDL6rUpj0vg"
      },
      "execution_count": null,
      "outputs": []
    },
    {
      "cell_type": "code",
      "source": [
        "df['Merch state'].isna().sum()"
      ],
      "metadata": {
        "colab": {
          "base_uri": "https://localhost:8080/"
        },
        "id": "iUR9IkzVkO9J",
        "outputId": "10967817-20f9-4eed-9d35-116458b712d1"
      },
      "execution_count": null,
      "outputs": [
        {
          "output_type": "execute_result",
          "data": {
            "text/plain": [
              "0"
            ]
          },
          "metadata": {},
          "execution_count": 83
        }
      ]
    },
    {
      "cell_type": "markdown",
      "source": [
        "* Merch Zip"
      ],
      "metadata": {
        "id": "yMJGIfOAkS2b"
      }
    },
    {
      "cell_type": "code",
      "source": [
        "df['Merch zip'].isna().sum()"
      ],
      "metadata": {
        "colab": {
          "base_uri": "https://localhost:8080/"
        },
        "id": "9pRliYjglCg7",
        "outputId": "e4d17df9-9d04-4455-8a94-64f189938bea"
      },
      "execution_count": null,
      "outputs": [
        {
          "output_type": "execute_result",
          "data": {
            "text/plain": [
              "4300"
            ]
          },
          "metadata": {},
          "execution_count": 84
        }
      ]
    },
    {
      "cell_type": "code",
      "source": [
        "#create dictionary with merchnum corresponding merch zip\n",
        "merchnum_zip = {}\n",
        "for index, merch in df.loc[df['Merch zip'].notnull(), 'Merchnum'].items():\n",
        "    if merch in merchnum_zip:\n",
        "        merchnum_zip[merch].append(df.loc[index, 'Merch zip'])\n",
        "    else:\n",
        "       merchnum_zip[merch] = [df.loc[index, 'Merch zip']]\n",
        "\n",
        "#impute each merch description with the mode of corresponding merchnum\n",
        "\n",
        "for merch in merchnum_zip:\n",
        "  merchnum_zip[merch] = statistics.mode(merchnum_zip[merch])"
      ],
      "metadata": {
        "id": "_MCiv0iArXh8"
      },
      "execution_count": null,
      "outputs": []
    },
    {
      "cell_type": "code",
      "source": [
        "#create dictionary with merch description corresponding merch zip\n",
        "merch_zip = {}\n",
        "for index, merch in df.loc[df['Merch zip'].notnull(), 'Merch description'].items():\n",
        "    if merch in merch_zip:\n",
        "        merch_zip[merch].append(df.loc[index, 'Merch zip'])\n",
        "    else:\n",
        "       merch_zip[merch] = [df.loc[index, 'Merch zip']]\n",
        "\n",
        "#impute each merch description with the mode of corresponding merchnum\n",
        "\n",
        "for merch in merch_zip:\n",
        "  merch_zip[merch] = statistics.mode(merch_zip[merch])"
      ],
      "metadata": {
        "id": "SpA1Az-wrsSX"
      },
      "execution_count": null,
      "outputs": []
    },
    {
      "cell_type": "code",
      "source": [
        "#create dictionary with state name corresponding merch zip\n",
        "state_zip = {}\n",
        "for index, merch in df.loc[df['Merch zip'].notnull(), 'Merch state'].items():\n",
        "    if merch in state_zip:\n",
        "        state_zip[merch].append(df.loc[index, 'Merch zip'])\n",
        "    else:\n",
        "        state_zip[merch] = [df.loc[index, 'Merch zip']]\n",
        "\n",
        "#impute each merch description with the mode of corresponding merchnum\n",
        "\n",
        "for merch in state_zip:\n",
        "  state_zip[merch] = statistics.mode(state_zip[merch])"
      ],
      "metadata": {
        "id": "EaVggXw-lJdj"
      },
      "execution_count": null,
      "outputs": []
    },
    {
      "cell_type": "code",
      "source": [
        "#impute zipcode with mode of corresponding merhnum, merch description, and merch state\n",
        "df['Merch zip'].fillna(df['Merchnum'].map(merchnum_zip),inplace = True)\n",
        "df['Merch zip'].fillna(df['Merch description'].map(merch_zip),inplace = True)\n",
        "df['Merch zip'].fillna(df['Merch state'].map(state_zip),inplace = True)\n",
        "df['Merch zip'].isna().sum()"
      ],
      "metadata": {
        "colab": {
          "base_uri": "https://localhost:8080/"
        },
        "id": "mLUPR9oYqLI-",
        "outputId": "70d94624-1094-4906-e775-5ddd759e7bad"
      },
      "execution_count": null,
      "outputs": [
        {
          "output_type": "execute_result",
          "data": {
            "text/plain": [
              "179"
            ]
          },
          "metadata": {},
          "execution_count": 88
        }
      ]
    },
    {
      "cell_type": "code",
      "source": [
        " #assign unknown to adjustment transaction\n",
        "df.loc[df['Merch description'].str.contains('ADJUSTMENT'), 'Merch zip'] = 'unknown'"
      ],
      "metadata": {
        "id": "V1MkQFE2sjSy"
      },
      "execution_count": null,
      "outputs": []
    },
    {
      "cell_type": "code",
      "source": [
        "df['Merch zip'].fillna('unknown',inplace = True)\n",
        "df['Merch zip'].isna().sum()"
      ],
      "metadata": {
        "colab": {
          "base_uri": "https://localhost:8080/"
        },
        "id": "weHG2u-wrPkh",
        "outputId": "ed8f4eda-f318-46e3-8b7d-6e0b12cae435"
      },
      "execution_count": null,
      "outputs": [
        {
          "output_type": "execute_result",
          "data": {
            "text/plain": [
              "0"
            ]
          },
          "metadata": {},
          "execution_count": 90
        }
      ]
    },
    {
      "cell_type": "code",
      "source": [
        "#right alignment\n",
        "df['Merch zip']=df['Merch zip'].apply(lambda x:'{0:0>5}'.format(x))"
      ],
      "metadata": {
        "id": "GGl-OVgZqV4X"
      },
      "execution_count": null,
      "outputs": []
    },
    {
      "cell_type": "markdown",
      "source": [
        "# Create Variables"
      ],
      "metadata": {
        "id": "JwW6DBXLtVLe"
      }
    },
    {
      "cell_type": "markdown",
      "source": [
        "* Benford's Law variable\n"
      ],
      "metadata": {
        "id": "NBbGRs3ktmpL"
      }
    },
    {
      "cell_type": "code",
      "source": [],
      "metadata": {
        "id": "Lehgx1l1tlwH"
      },
      "execution_count": null,
      "outputs": []
    },
    {
      "cell_type": "code",
      "source": [],
      "metadata": {
        "id": "BTPBuLHztcha"
      },
      "execution_count": null,
      "outputs": []
    }
  ]
}